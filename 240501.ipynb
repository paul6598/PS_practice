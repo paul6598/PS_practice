{
  "nbformat": 4,
  "nbformat_minor": 0,
  "metadata": {
    "colab": {
      "provenance": [],
      "authorship_tag": "ABX9TyOfLtk1Jf0Njgm2eR6ZnTwC",
      "include_colab_link": true
    },
    "kernelspec": {
      "name": "python3",
      "display_name": "Python 3"
    },
    "language_info": {
      "name": "python"
    }
  },
  "cells": [
    {
      "cell_type": "markdown",
      "metadata": {
        "id": "view-in-github",
        "colab_type": "text"
      },
      "source": [
        "<a href=\"https://colab.research.google.com/github/paul6598/PS_practice/blob/main/240501.ipynb\" target=\"_parent\"><img src=\"https://colab.research.google.com/assets/colab-badge.svg\" alt=\"Open In Colab\"/></a>"
      ]
    },
    {
      "cell_type": "code",
      "execution_count": 8,
      "metadata": {
        "colab": {
          "base_uri": "https://localhost:8080/"
        },
        "id": "Qwkmbh_mOZVA",
        "outputId": "08832ca9-e777-42f0-8c41-80582a0ab769"
      },
      "outputs": [
        {
          "output_type": "stream",
          "name": "stdout",
          "text": [
            "5\n",
            "3 2\n",
            "1 2 3\n",
            "3 2\n",
            "2 1\n",
            "1\n",
            "6\n",
            "4 3\n",
            "5 5 5 5\n",
            "1 2\n",
            "1 3\n",
            "2 3\n",
            "4\n",
            "5\n",
            "5 10\n",
            "100000 99999 99997 99994 99990\n",
            "4 5\n",
            "3 5\n",
            "3 4\n",
            "2 5\n",
            "2 4\n",
            "2 3\n",
            "1 5\n",
            "1 4\n",
            "1 3\n",
            "1 2\n",
            "4\n",
            "399994\n",
            "4 3\n",
            "1 1 1 1\n",
            "1 2\n",
            "3 2\n",
            "1 4\n",
            "4\n",
            "2\n",
            "7 8\n",
            "0 0 0 0 0 0 0\n",
            "1 2\n",
            "1 3\n",
            "2 4\n",
            "3 4\n",
            "4 5\n",
            "4 6\n",
            "5 7\n",
            "6 7\n",
            "7\n",
            "0\n"
          ]
        }
      ],
      "source": [
        "from collections import deque\n",
        "t = int(input())\n",
        "\n",
        "def dfs(graph, goal,time,n):\n",
        "  q = deque([[goal,0]])\n",
        "  depth = [0]*n\n",
        "  while q:\n",
        "    curr_buil, curr_depth = q.popleft()\n",
        "    depth[curr_depth] = max(depth[curr_depth], time[curr_buil-1])\n",
        "    if curr_buil in graph:\n",
        "      for next_buil in graph[curr_buil]:\n",
        "        q.append([next_buil, curr_depth+1])\n",
        "  return sum(depth)\n",
        "\n",
        "for _ in range(t):\n",
        "  n,k = map(int, input().split())\n",
        "  time = list(map(int, input().split()))\n",
        "\n",
        "  graph = {}\n",
        "  for i in range(k):\n",
        "    u,v = map(int, input().split())\n",
        "    if v in graph:\n",
        "      graph[v].append(u)\n",
        "    else:\n",
        "      graph[v] = [u]\n",
        "  w = int(input())\n",
        "\n",
        "  print(dfs(graph, w, time,n))\n",
        "\n"
      ]
    },
    {
      "cell_type": "code",
      "source": [
        "n = int(input())\n",
        "seri = list(map(int, input().split()))\n",
        "dp = [0 for _ in range(n)]\n",
        "dp[0] = 1\n",
        "for i in range(1,n):\n",
        "  max_inc = 0\n",
        "  for j in range(i):\n",
        "    if seri[j] < seri[i] and dp[j] > max_inc:\n",
        "      max_inc= dp[j]\n",
        "  dp[i] = max_inc + 1\n",
        "  #print(dp)\n",
        "print(max(dp))"
      ],
      "metadata": {
        "colab": {
          "base_uri": "https://localhost:8080/"
        },
        "id": "EHuchUcKPRLi",
        "outputId": "af3ead3b-4dfd-414d-87d5-b271aa830c1b"
      },
      "execution_count": 10,
      "outputs": [
        {
          "output_type": "stream",
          "name": "stdout",
          "text": [
            "6\n",
            "10 20 10 30 20 50\n",
            "4\n"
          ]
        }
      ]
    },
    {
      "cell_type": "code",
      "source": [
        "n = int(input())\n",
        "seri = list(map(int, input().split()))\n",
        "dp = [0 for _ in range(n)]\n",
        "dp[0] = 1\n",
        "max_num = seri[0]\n",
        "for i in range(1,n):\n",
        "  if seri[i] > max_num:\n",
        "    max_num =  seri[i]\n",
        "    dp[i] = dp[i-1]+1\n",
        "  else:\n",
        "    dp[i] = dp[i-1]\n",
        "\n",
        "print(dp[-1])"
      ],
      "metadata": {
        "colab": {
          "base_uri": "https://localhost:8080/"
        },
        "id": "IVfNOM6yYV1E",
        "outputId": "1be50037-7ed2-411e-c2e9-00971af1a6ed"
      },
      "execution_count": 11,
      "outputs": [
        {
          "output_type": "stream",
          "name": "stdout",
          "text": [
            "6\n",
            "10 20 10 30 20 50\n",
            "4\n"
          ]
        }
      ]
    },
    {
      "cell_type": "code",
      "source": [],
      "metadata": {
        "id": "SywGBHf3aMzV"
      },
      "execution_count": null,
      "outputs": []
    }
  ]
}