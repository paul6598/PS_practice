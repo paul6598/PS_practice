{
  "nbformat": 4,
  "nbformat_minor": 0,
  "metadata": {
    "colab": {
      "provenance": [],
      "authorship_tag": "ABX9TyNcF9EO+A/J+G7nEzY451NR",
      "include_colab_link": true
    },
    "kernelspec": {
      "name": "python3",
      "display_name": "Python 3"
    },
    "language_info": {
      "name": "python"
    }
  },
  "cells": [
    {
      "cell_type": "markdown",
      "metadata": {
        "id": "view-in-github",
        "colab_type": "text"
      },
      "source": [
        "<a href=\"https://colab.research.google.com/github/paul6598/PS_practice/blob/main/240413.ipynb\" target=\"_parent\"><img src=\"https://colab.research.google.com/assets/colab-badge.svg\" alt=\"Open In Colab\"/></a>"
      ]
    },
    {
      "cell_type": "code",
      "execution_count": 25,
      "metadata": {
        "colab": {
          "base_uri": "https://localhost:8080/"
        },
        "id": "ZB999VRv0OrM",
        "outputId": "725ddc1b-dea2-440d-89cf-5f4c1c0a56a5"
      },
      "outputs": [
        {
          "output_type": "stream",
          "name": "stdout",
          "text": [
            "6\n",
            "1 2 3 4 5 6\n",
            "2 1 2 0\n",
            "180\n",
            "-1\n"
          ]
        }
      ],
      "source": [
        "n = int(input())\n",
        "num = list(map(int, input().split()))\n",
        "plus, minus, mult, mod = map(int, input().split())\n",
        "\n",
        "def modu(a,b):\n",
        "  if a>=0:\n",
        "    return a//b\n",
        "  else:\n",
        "    return -(-a//b)\n",
        "def back(num, plus, minus, mult, mod):\n",
        "  stack = [[num[0], 1, plus, minus, mult, mod]]\n",
        "  min_ = float('inf')\n",
        "  max_ = -float('inf')\n",
        "  while stack:\n",
        "    res, i, pl, mi, mu, mo = stack.pop()\n",
        "    #print(res, i, pl, mi, mu, mo)\n",
        "    if pl+mi+mu+mo == 0:\n",
        "      min_ = min(min_, res)\n",
        "      max_ = max(max_, res)\n",
        "\n",
        "    else:\n",
        "      if pl > 0:\n",
        "        stack.append([res+num[i],i+1,pl-1,mi,mu,mo])\n",
        "      if mi > 0:\n",
        "        stack.append([res-num[i],i+1,pl,mi-1,mu,mo])\n",
        "      if mu > 0:\n",
        "        stack.append([res*num[i],i+1,pl,mi,mu-1,mo])\n",
        "      if mo > 0:\n",
        "        stack.append([modu(res,num[i]),i+1,pl,mi,mu,mo-1])\n",
        "\n",
        "  return min_, max_\n",
        "\n",
        "min_, max_ = back(num, plus, minus, mult, mod)\n",
        "\n",
        "print(max_)\n",
        "print(min_)\n"
      ]
    },
    {
      "cell_type": "code",
      "source": [
        "-0"
      ],
      "metadata": {
        "colab": {
          "base_uri": "https://localhost:8080/"
        },
        "id": "Escz6dK13YyP",
        "outputId": "c5d5fcf6-7a15-4bc2-f256-ea4372f41650"
      },
      "execution_count": 20,
      "outputs": [
        {
          "output_type": "execute_result",
          "data": {
            "text/plain": [
              "0"
            ]
          },
          "metadata": {},
          "execution_count": 20
        }
      ]
    },
    {
      "cell_type": "code",
      "source": [
        "def modu(a,b):\n",
        "  if a>=0:\n",
        "    return a//b\n",
        "  else:\n",
        "    return -(-a//b)\n",
        "\n",
        "modu(-1,3)"
      ],
      "metadata": {
        "colab": {
          "base_uri": "https://localhost:8080/"
        },
        "id": "qcbwMgwZ3a61",
        "outputId": "660fa770-86e3-4a37-f563-7f9eeaa4836f"
      },
      "execution_count": 22,
      "outputs": [
        {
          "output_type": "execute_result",
          "data": {
            "text/plain": [
              "0"
            ]
          },
          "metadata": {},
          "execution_count": 22
        }
      ]
    },
    {
      "cell_type": "code",
      "source": [],
      "metadata": {
        "id": "lZ3r3HoxDwhr"
      },
      "execution_count": null,
      "outputs": []
    }
  ]
}