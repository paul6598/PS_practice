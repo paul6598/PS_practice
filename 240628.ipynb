{
  "nbformat": 4,
  "nbformat_minor": 0,
  "metadata": {
    "colab": {
      "provenance": [],
      "authorship_tag": "ABX9TyMe9c5ovw/AIg/P4Gr1BTGi",
      "include_colab_link": true
    },
    "kernelspec": {
      "name": "python3",
      "display_name": "Python 3"
    },
    "language_info": {
      "name": "python"
    }
  },
  "cells": [
    {
      "cell_type": "markdown",
      "metadata": {
        "id": "view-in-github",
        "colab_type": "text"
      },
      "source": [
        "<a href=\"https://colab.research.google.com/github/paul6598/PS_practice/blob/main/240628.ipynb\" target=\"_parent\"><img src=\"https://colab.research.google.com/assets/colab-badge.svg\" alt=\"Open In Colab\"/></a>"
      ]
    },
    {
      "cell_type": "code",
      "execution_count": null,
      "metadata": {
        "id": "zr_oHSq4BaoK"
      },
      "outputs": [],
      "source": [
        "t = int(input())\n",
        "for _ in range():\n",
        "  ip = input()\n",
        "  print(int(ip[0])+int(ip[2]))"
      ]
    },
    {
      "cell_type": "code",
      "source": [
        "a,b = map(int,input().split())\n",
        "print(a//b)\n",
        "print(a%b)"
      ],
      "metadata": {
        "id": "53AklDPGBl82"
      },
      "execution_count": null,
      "outputs": []
    },
    {
      "cell_type": "code",
      "source": [
        "n,b = map(int,input().split())\n",
        "num = {}\n",
        "res = \"\"\n",
        "\n",
        "\n",
        "def sqare(n,b):\n",
        "  res = 1\n",
        "  while n > res:\n",
        "    res *= b\n",
        "  return res//b\n",
        "\n",
        "\n",
        "while True:\n",
        "  a = sqare(n,b)\n",
        "  k = n//a\n",
        "  n %= a\n",
        "  if k < 10:\n",
        "    res += str(k)\n",
        "  else:\n",
        "    res += chr(k+55)\n",
        "  if n == 0:\n",
        "    break\n",
        "print(res)"
      ],
      "metadata": {
        "colab": {
          "base_uri": "https://localhost:8080/"
        },
        "id": "OuQQtoWHCXWW",
        "outputId": "94391103-96bf-4a67-c3ff-07435ad03546"
      },
      "execution_count": 8,
      "outputs": [
        {
          "output_type": "stream",
          "name": "stdout",
          "text": [
            "1000 10\n",
            "A\n"
          ]
        }
      ]
    },
    {
      "cell_type": "code",
      "source": [
        "n,b = map(int,input().split())\n",
        "\n",
        "res = \"\"\n",
        "\n",
        "while n != 0:\n",
        "  a = n%b\n",
        "  n //= b\n",
        "\n",
        "  if a < 10:\n",
        "    res += str(a)\n",
        "  else:\n",
        "    res += chr(a+55)\n",
        "  if n == 0:\n",
        "    break\n",
        "\n",
        "if n == 0:\n",
        "  print(0)\n",
        "else:\n",
        "  print(res[::-1])"
      ],
      "metadata": {
        "colab": {
          "base_uri": "https://localhost:8080/"
        },
        "id": "9ZoIaqvnDrkz",
        "outputId": "46978196-e345-4620-f6ed-5d9aa4a7b94a"
      },
      "execution_count": 15,
      "outputs": [
        {
          "output_type": "stream",
          "name": "stdout",
          "text": [
            "0 10\n",
            "\n"
          ]
        }
      ]
    },
    {
      "cell_type": "code",
      "source": [
        "1000%10\n"
      ],
      "metadata": {
        "colab": {
          "base_uri": "https://localhost:8080/"
        },
        "id": "IGxtBbUQEPzs",
        "outputId": "18115b77-94b6-48ce-b7ff-3805af4d4d4e"
      },
      "execution_count": 11,
      "outputs": [
        {
          "output_type": "execute_result",
          "data": {
            "text/plain": [
              "0"
            ]
          },
          "metadata": {},
          "execution_count": 11
        }
      ]
    },
    {
      "cell_type": "code",
      "source": [
        "from collections import deque\n",
        "\n",
        "def bfs(table,visit,i,j):\n",
        "  dx = [1,-1,0,0,1,1,-1,-1]\n",
        "  dy = [0,0,1,-1,1,-1,1,-1]\n",
        "  h = len(table)\n",
        "  w = len(table[0])\n",
        "  q = deque([[i,j]])\n",
        "  visit[i][j] = 1\n",
        "  while q:\n",
        "    x,y = q.popleft()\n",
        "    for k in range(8):\n",
        "      nx = x+dx[k]\n",
        "      ny = y+dy[k]\n",
        "      if 0 <= nx < h and 0 <= ny < w and visit[nx][ny] == 0 and table[nx][ny] == 1:\n",
        "        visit[nx][ny] = 1\n",
        "        q.append([nx,ny])\n",
        "\n",
        "\n",
        "\n",
        "\n",
        "\n",
        "while True:\n",
        "  w,h = map(int,input().split())\n",
        "\n",
        "  if w == 0 and h == 0:\n",
        "    break\n",
        "  table = []\n",
        "  for _ in range(h):\n",
        "    table.append(list(map(int,input().split())))\n",
        "\n",
        "  island = 0\n",
        "  visit = [[0]*w for _ in range(h)]\n",
        "\n",
        "  for i in range(h):\n",
        "    for j in range(w):\n",
        "      if table[i][j] == 1 and visit[i][j] == 0:\n",
        "        bfs(table,visit,i,j)\n",
        "        island += 1\n",
        "  print(island)\n"
      ],
      "metadata": {
        "colab": {
          "base_uri": "https://localhost:8080/"
        },
        "id": "S2scpToqF6Zs",
        "outputId": "e4328d54-f216-41d4-fd4a-f1b7e77434b6"
      },
      "execution_count": 19,
      "outputs": [
        {
          "name": "stdout",
          "output_type": "stream",
          "text": [
            "1 1\n",
            "0\n",
            "0\n",
            "2 2\n",
            "0 1\n",
            "1 0\n",
            "1\n",
            "3 2\n",
            "1 1 1\n",
            "1 1 1\n",
            "1\n",
            "5 4\n",
            "1 0 1 0 0\n",
            "1 0 0 0 0\n",
            "1 0 1 0 1\n",
            "1 0 0 1 0\n",
            "3\n",
            "5 5\n",
            "1 0 1 0 1\n",
            "0 0 0 0 0\n",
            "1 0 1 0 1\n",
            "0 0 0 0 0\n",
            "1 0 1 0 1\n",
            "9\n",
            "0 0\n"
          ]
        }
      ]
    },
    {
      "cell_type": "code",
      "source": [
        "from collections import deque\n",
        "\n",
        "k = int(input())\n",
        "w,h = map(int,input().split())\n",
        "table = []\n",
        "for _ in range(h):\n",
        "  table.append(list(map(int,input().split())))\n",
        "\n",
        "def bfs(table,k):\n",
        "  dx = [1,-1,0,0,1,2,2,1,-1,-2,-2,-1]\n",
        "  dy = [0,0,1,-1,2,1,-1,-2,-2,-1,1,2]\n",
        "  h = len(table)\n",
        "  w = len(table[0])\n",
        "  visit = [[[0]*w for _ in range(h)] for _ in range(k+1)]\n",
        "  q = deque([[0,0,0,0]])\n",
        "  visit[0][0][0] = 1\n",
        "  while q:\n",
        "    y,x,jump,dist = q.popleft()\n",
        "    if jump < k:\n",
        "      tmp = 12\n",
        "    else:\n",
        "      tmp = 4\n",
        "    for i in range(tmp):\n",
        "      ny = y+dy[i]\n",
        "      nx = x+dx[i]\n",
        "      if 0 <= nx < w and 0 <= ny < h and table[ny][nx] == 0:\n",
        "        if i < 4:\n",
        "          if visit[jump][ny][nx] == 0:\n",
        "            visit[jump][ny][nx] = 1\n",
        "            q.append([ny,nx,jump,dist+1])\n",
        "        elif jump < k:\n",
        "          if visit[jump+1][ny][nx] == 0:\n",
        "            visit[jump+1][ny][nx] = 1\n",
        "            q.append([ny,nx,jump+1,dist+1])\n",
        "        if nx == w-1 and ny == h-1:\n",
        "          return dist+1\n",
        "  return -1\n",
        "\n",
        "if w==1 and h==1:\n",
        "  print(0)\n",
        "else:\n",
        "  print(bfs(table,k))"
      ],
      "metadata": {
        "colab": {
          "base_uri": "https://localhost:8080/"
        },
        "id": "6JXwK8muIsl9",
        "outputId": "ad054b1b-77d7-4e02-e6f7-d35320c40a2b"
      },
      "execution_count": 28,
      "outputs": [
        {
          "output_type": "stream",
          "name": "stdout",
          "text": [
            "1\n",
            "4 4\n",
            "0 0 0 0\n",
            "1 0 0 0\n",
            "0 0 1 0\n",
            "0 1 0 0\n",
            "4\n"
          ]
        }
      ]
    },
    {
      "cell_type": "code",
      "source": [
        "n = int(input())\n",
        "a = 0\n",
        "seq = list(map(int,input().split()))\n",
        "\n",
        "for i in range(n):\n",
        "  if seq[i]%2 == 0:\n",
        "    a -= 1\n",
        "  else:\n",
        "    a += 1\n",
        "\n",
        "if a == 0 or a == 1:\n",
        "  print(1)\n",
        "else:\n",
        "  print(0)\n"
      ],
      "metadata": {
        "colab": {
          "base_uri": "https://localhost:8080/"
        },
        "id": "FdMhlRMmKvRX",
        "outputId": "82a930a2-c637-49ef-ed01-2eb5c1f1bf02"
      },
      "execution_count": 32,
      "outputs": [
        {
          "output_type": "stream",
          "name": "stdout",
          "text": [
            "5\n",
            "4 1 6 3 5\n",
            "1\n"
          ]
        }
      ]
    },
    {
      "cell_type": "code",
      "source": [
        "n = input()\n",
        "print(\"YES\")\n",
        "m = n[2:]\n",
        "print(int(m), 10**(len(m)))\n"
      ],
      "metadata": {
        "colab": {
          "base_uri": "https://localhost:8080/"
        },
        "id": "mYnh753gPGdG",
        "outputId": "1abdf314-00ee-41c6-fa47-5ce7905dbdf8"
      },
      "execution_count": 36,
      "outputs": [
        {
          "output_type": "stream",
          "name": "stdout",
          "text": [
            "0.001\n",
            "YES\n",
            "1 1000\n"
          ]
        }
      ]
    },
    {
      "cell_type": "code",
      "source": [
        "0.12345678"
      ],
      "metadata": {
        "id": "uIwlEcejQUcX"
      },
      "execution_count": null,
      "outputs": []
    }
  ]
}