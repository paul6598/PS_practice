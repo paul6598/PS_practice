{
  "nbformat": 4,
  "nbformat_minor": 0,
  "metadata": {
    "colab": {
      "provenance": [],
      "authorship_tag": "ABX9TyP20tCjpearXQSeGZ7oVsIV",
      "include_colab_link": true
    },
    "kernelspec": {
      "name": "python3",
      "display_name": "Python 3"
    },
    "language_info": {
      "name": "python"
    }
  },
  "cells": [
    {
      "cell_type": "markdown",
      "metadata": {
        "id": "view-in-github",
        "colab_type": "text"
      },
      "source": [
        "<a href=\"https://colab.research.google.com/github/paul6598/PS_practice/blob/main/240610.ipynb\" target=\"_parent\"><img src=\"https://colab.research.google.com/assets/colab-badge.svg\" alt=\"Open In Colab\"/></a>"
      ]
    },
    {
      "cell_type": "code",
      "execution_count": null,
      "metadata": {
        "colab": {
          "base_uri": "https://localhost:8080/"
        },
        "id": "trXTe9_JTuT7",
        "outputId": "b447f511-f548-4f44-bfe7-acf87cc69333"
      },
      "outputs": [
        {
          "output_type": "stream",
          "name": "stdout",
          "text": [
            "36 1\n",
            "2 1\n",
            "12\n"
          ]
        }
      ],
      "source": [
        "n,m = map(int, input().split())\n",
        "\n",
        "min_six, min_one =float(\"INF\"), float(\"INF\")\n",
        "for _ in range(m):\n",
        "  six, one = map(int, input().split())\n",
        "  min_six, min_one = min(min_six,six), min(min_one, one)\n",
        "\n",
        "\n",
        "res = float(\"INF\")\n",
        "i = 0\n",
        "while i*6 <= n:\n",
        "  res = min(res, min_six * i + min_one * (n-6*i))\n",
        "  i += 1\n",
        "\n",
        "\n",
        "res = min(res, min_six*(n//6+1))\n",
        "print(res)\n",
        "\n"
      ]
    },
    {
      "cell_type": "code",
      "source": [
        "n = int(input())\n",
        "ingred = [0]*n\n",
        "\n",
        "def coprime(a,b):\n",
        "  min_ = min(a,b)\n",
        "  for i in range(2, min_+1):\n",
        "    if a%i == 0 and b%i == 0:\n",
        "      a, b = a//i, b//i\n",
        "  return a,b\n",
        "\n",
        "def mult(seq, n):\n",
        "  return [x*n for x in seq]\n",
        "\n",
        "def ratio(a,p,q):\n",
        "  return (a*q)//p\n",
        "\n",
        "pairs = [[0]*n for _ in range(n)]\n",
        "\n",
        "for _ in range(n-1):\n",
        "  a,b,P,Q = map(int, input().split())\n",
        "  p,q = coprime(P,Q)\n",
        "  if a < b:\n",
        "    pairs.append((a,b,p,q))\n",
        "  else:\n",
        "    pairs.append((b,a,q,p))\n",
        "\n",
        "\n",
        "for _ in range(n-1):\n",
        "\n",
        "  if ingred[a]==0 and ingred[b]==0:\n",
        "    ingred[a] = p\n",
        "    ingred[b] = q\n",
        "  elif ingred[a]!=0 and ingred[b]==0:\n",
        "    _, tmp = coprime(ingred[a],p)\n",
        "    ingred = mult(ingred, tmp)\n",
        "    ingred[b] = ratio(ingred[a],p,q)\n",
        "  elif ingred[a]==0 and ingred[b]!=0:\n",
        "    _, tmp = coprime(ingred[b],q)\n",
        "    ingred = mult(ingred, tmp)\n",
        "    ingred[a] = ratio(ingred[b],q,p)\n",
        "  else:\n",
        "\n",
        "\n",
        "  for i in ingred:\n",
        "    print(i, end=' ')\n",
        "  print()\n"
      ],
      "metadata": {
        "colab": {
          "base_uri": "https://localhost:8080/"
        },
        "id": "b7Jrj85cU9rV",
        "outputId": "016a04ff-6258-42d5-fcf3-67bd6bb1162b"
      },
      "execution_count": null,
      "outputs": [
        {
          "output_type": "stream",
          "name": "stdout",
          "text": [
            "4\n",
            "2 3 6 8\n",
            "0 0 3 4 \n",
            "0 1 9 3\n",
            "3 1 3 4 \n",
            "3 0 7 5\n",
            "3 1 3 4 \n"
          ]
        }
      ]
    },
    {
      "cell_type": "code",
      "source": [
        "n = int(input())\n",
        "ingred = [0]*n\n",
        "\n",
        "def coprime(a,b):\n",
        "  min_ = min(a,b)\n",
        "  max_ = max(a,b)\n",
        "  while min_>0:\n",
        "    max_, min_ = min_, max_%min_\n",
        "  return a//max_, b//max_\n",
        "\n",
        "def mult(seq, n):\n",
        "  return [x*n for x in seq]\n",
        "\n",
        "def ratio(a,p,q):\n",
        "  return (a*q)//p\n",
        "\n",
        "pairs = [[0]*n for _ in range(n)]\n",
        "\n",
        "for _ in range(n-1):\n",
        "  a,b,P,Q = map(int, input().split())\n",
        "  p,q = coprime(P,Q)\n",
        "  pairs[a][b] = p\n",
        "  pairs[b][a] = q\n",
        "\n",
        "visit = [[0]*n for _ in range(n)]\n",
        "\n",
        "stack = [0]\n",
        "while stack:\n",
        "  curr = stack.pop()\n",
        "  for i in range(n):\n",
        "    if visit[curr][i] == 0 and pairs[curr][i] != 0:\n",
        "      stack.append(i)\n",
        "      visit[curr][i] = 1\n",
        "      a,b,p,q = curr, i, pairs[curr][i], pairs[i][curr]\n",
        "      if ingred[a]==0 and ingred[b]==0:\n",
        "        ingred[a] = p\n",
        "        ingred[b] = q\n",
        "      elif ingred[a]!=0 and ingred[b]==0:\n",
        "        _, tmp = coprime(ingred[a],p)\n",
        "        ingred = mult(ingred, tmp)\n",
        "        ingred[b] = ratio(ingred[a],p,q)\n",
        "      elif ingred[a]==0 and ingred[b]!=0:\n",
        "        _, tmp = coprime(ingred[b],q)\n",
        "        ingred = mult(ingred, tmp)\n",
        "        ingred[a] = ratio(ingred[b],q,p)\n",
        "\n",
        "\n",
        "for i in ingred:\n",
        "  print(i, end=' ')\n",
        "print()"
      ],
      "metadata": {
        "id": "hRa7K1JOZVYR",
        "colab": {
          "base_uri": "https://localhost:8080/"
        },
        "outputId": "9f1001cf-0634-4340-cb32-c2d9f0671b4c"
      },
      "execution_count": 12,
      "outputs": [
        {
          "output_type": "stream",
          "name": "stdout",
          "text": [
            "1\n",
            "0 \n"
          ]
        }
      ]
    },
    {
      "cell_type": "code",
      "source": [
        "n = int(input())\n",
        "seq = list(map(int, input().split()))\n",
        "tf = True\n",
        "\n",
        "if n == 1:\n",
        "  print(\"A\")\n",
        "elif n == 2:\n",
        "  if seq[0] == seq[1]:\n",
        "    print(seq[0])\n",
        "  else:\n",
        "    print(\"A\")\n",
        "elif len(set(seq)) == 1:\n",
        "  print(seq[0])\n",
        "else:\n",
        "  diff = [0]*(n-1)\n",
        "  for i in range(n-1):\n",
        "    diff[i] = seq[i+1] - seq[i]\n",
        "  if diff[0] == 0:\n",
        "    print(\"B\")\n",
        "    tf = False\n",
        "  if tf and diff[1]%diff[0] == 0:\n",
        "    a = diff[1]//diff[0]\n",
        "    for i in range(n-2):\n",
        "      if diff[i+1] == a*diff[i]:\n",
        "        continue\n",
        "      else:\n",
        "        print(\"B\")\n",
        "        tf = False\n",
        "        break\n",
        "    if tf:\n",
        "      b = seq[1]-seq[0]*a\n",
        "      print(seq[-1]*a+b)\n",
        "  elif tf:\n",
        "    print(\"B\")\n",
        "\n",
        "\n",
        "\n"
      ],
      "metadata": {
        "colab": {
          "base_uri": "https://localhost:8080/"
        },
        "id": "rePkglU4TfbM",
        "outputId": "0e15287f-b289-4473-cb86-91c6cfabd9fe"
      },
      "execution_count": 43,
      "outputs": [
        {
          "output_type": "stream",
          "name": "stdout",
          "text": [
            "3\n",
            "1 2 2\n",
            "2\n"
          ]
        }
      ]
    },
    {
      "cell_type": "code",
      "source": [
        "-4%2"
      ],
      "metadata": {
        "colab": {
          "base_uri": "https://localhost:8080/"
        },
        "id": "MhjWXsJ_Y07l",
        "outputId": "11110918-f7cd-4c21-e531-73ad7e14c306"
      },
      "execution_count": 16,
      "outputs": [
        {
          "output_type": "execute_result",
          "data": {
            "text/plain": [
              "0"
            ]
          },
          "metadata": {},
          "execution_count": 16
        }
      ]
    },
    {
      "cell_type": "code",
      "source": [
        "n,m = map(int, input().split())\n",
        "a = set(map(int, input().split()))\n",
        "b = list(map(int, input().split()))\n",
        "\n",
        "for i in b:\n",
        "  if i in a:\n",
        "    n -= 1\n",
        "  else:\n",
        "    n += 1\n",
        "\n",
        "print(n)"
      ],
      "metadata": {
        "colab": {
          "base_uri": "https://localhost:8080/"
        },
        "id": "hKIlntMkauGs",
        "outputId": "cc35410e-6e0f-44fd-aa6a-97e737477f4c"
      },
      "execution_count": 44,
      "outputs": [
        {
          "output_type": "stream",
          "name": "stdout",
          "text": [
            "3 5\n",
            "1 2 4\n",
            "2 3 4 5 6\n",
            "4\n"
          ]
        }
      ]
    },
    {
      "cell_type": "code",
      "source": [
        "n = int(input())\n",
        "dic = {}\n",
        "for _ in range(n):\n",
        "  num = int(input())\n",
        "  if num in dic:\n",
        "    dic[num] += 1\n",
        "  else:\n",
        "    dic[num] = 1\n",
        "max_num = 0\n",
        "for key, value in sorted(dic.items()):\n",
        "  if max_num < value:\n",
        "    max_num = value\n",
        "    max_key = key\n",
        "print(max_key)"
      ],
      "metadata": {
        "colab": {
          "base_uri": "https://localhost:8080/"
        },
        "id": "Jc-T83dAm2fb",
        "outputId": "510f0894-eea9-4984-fa9e-f5e0f1d6c697"
      },
      "execution_count": 49,
      "outputs": [
        {
          "output_type": "stream",
          "name": "stdout",
          "text": [
            "4\n",
            "2\n",
            "1\n",
            "2\n",
            "1\n",
            "1\n"
          ]
        }
      ]
    },
    {
      "cell_type": "code",
      "source": [],
      "metadata": {
        "id": "wvdoGiNHnlRJ"
      },
      "execution_count": null,
      "outputs": []
    }
  ]
}