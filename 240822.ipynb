{
  "nbformat": 4,
  "nbformat_minor": 0,
  "metadata": {
    "colab": {
      "provenance": [],
      "authorship_tag": "ABX9TyO/bUNaLfDwaPygjslTHJkZ",
      "include_colab_link": true
    },
    "kernelspec": {
      "name": "python3",
      "display_name": "Python 3"
    },
    "language_info": {
      "name": "python"
    }
  },
  "cells": [
    {
      "cell_type": "markdown",
      "metadata": {
        "id": "view-in-github",
        "colab_type": "text"
      },
      "source": [
        "<a href=\"https://colab.research.google.com/github/paul6598/PS_practice/blob/main/240822.ipynb\" target=\"_parent\"><img src=\"https://colab.research.google.com/assets/colab-badge.svg\" alt=\"Open In Colab\"/></a>"
      ]
    },
    {
      "cell_type": "code",
      "execution_count": 7,
      "metadata": {
        "colab": {
          "base_uri": "https://localhost:8080/"
        },
        "id": "J2nKCgEJLNbi",
        "outputId": "6190c155-0a75-46d2-cf60-3334ea727d28"
      },
      "outputs": [
        {
          "output_type": "stream",
          "name": "stdout",
          "text": [
            "1\n",
            "1 2 3 4 5 6\n",
            "15\n"
          ]
        }
      ],
      "source": [
        "n = int(input())\n",
        "dice = list(map(int,input().split()))\n",
        "one = min(dice)\n",
        "def two_min(dice):\n",
        "  ret = float('inf')\n",
        "  for i in range(6):\n",
        "    for j in range(6):\n",
        "      if i+j != 5 and i != j:\n",
        "        ret = min(ret, dice[i]+dice[j])\n",
        "  return ret\n",
        "\n",
        "def three_min(dice):\n",
        "  ret = float('inf')\n",
        "  for i in range(4):\n",
        "    for j in range(i+1,5):\n",
        "      for k in range(j+1,6):\n",
        "        if i+j != 5 and j+k != 5 and i+k != 5:\n",
        "          ret = min(ret, dice[i]+dice[j]+dice[k])\n",
        "  return ret\n",
        "\n",
        "two = two_min(dice)\n",
        "three = three_min(dice)\n",
        "\n",
        "\n",
        "if n == 1:\n",
        "  print(sum(dice)-max(dice))\n",
        "else:\n",
        "  print(one*(5*n**2-16*n+12)+two*(8*n-12)+three*4)"
      ]
    },
    {
      "cell_type": "code",
      "source": [
        "n = int(input())\n",
        "nums = []\n",
        "head = set()\n",
        "for _ in range(n):\n",
        "  num = input()\n",
        "  nums.append(num)\n",
        "  head.add(num[0])\n",
        "\n",
        "alpha = ['A','B','C','D','E','F','G','H','I','J']\n",
        "dic = {i:0 for i in alpha}\n",
        "\n",
        "def sol(num, dic):\n",
        "  digit = 1\n",
        "  for i in num[::-1]:\n",
        "    dic[i] += digit\n",
        "    digit *= 10\n",
        "\n",
        "for num in nums:\n",
        "  sol(num, dic)\n",
        "\n",
        "sorted_dic = dict(sorted(dic.items(),key=lambda item: item[1], reverse=True))\n",
        "\n",
        "if not 0 in sorted_dic.values():\n",
        "  res = 0\n",
        "  expt = [9,8,7,6,5,4,3,2,0,1]\n",
        "  index = 0\n",
        "  for i in sorted_dic:\n",
        "    res += sorted_dic[i]*expt[index]\n",
        "    index += 1\n",
        "  print(res)\n",
        "else:\n",
        "  res = 0\n",
        "  expt = [9,8,7,6,5,4,3,2,1,0]\n",
        "  index = 0\n",
        "  for i in sorted_dic:\n",
        "    res += sorted_dic[i]*expt[index]\n",
        "    index += 1\n",
        "  print(res)"
      ],
      "metadata": {
        "colab": {
          "base_uri": "https://localhost:8080/"
        },
        "id": "fkg4fHxcPht5",
        "outputId": "4f1eb664-672b-4a31-ea2a-4083e9a72397"
      },
      "execution_count": 27,
      "outputs": [
        {
          "output_type": "stream",
          "name": "stdout",
          "text": [
            "1\n",
            "ABCDEFGHIJ\n",
            "9876543201\n"
          ]
        }
      ]
    },
    {
      "cell_type": "code",
      "source": [
        "n = int(input())\n",
        "nums = []\n",
        "head = set()\n",
        "for _ in range(n):\n",
        "  num = input()\n",
        "  nums.append(num)\n",
        "  head.add(num[0])\n",
        "\n",
        "alpha = ['A','B','C','D','E','F','G','H','I','J']\n",
        "dic = {i:0 for i in alpha}\n",
        "\n",
        "def sol(num, dic):\n",
        "  digit = 1\n",
        "  for i in num[::-1]:\n",
        "    dic[i] += digit\n",
        "    digit *= 10\n",
        "\n",
        "for num in nums:\n",
        "  sol(num, dic)\n",
        "\n",
        "\n",
        "\n",
        "if not 0 in dic.values():\n",
        "  sorted_dic = dict(sorted(dic.items(),key=lambda item: item[1]))\n",
        "  res = 0\n",
        "  index = 1\n",
        "  for i in sorted_dic:\n",
        "    if not i in head:\n",
        "      zero = i\n",
        "      break\n",
        "\n",
        "  for i in sorted_dic:\n",
        "    if i != zero:\n",
        "      res += sorted_dic[i]*index\n",
        "      index += 1\n",
        "  print(res)\n",
        "\n",
        "else:\n",
        "  sorted_dic = dict(sorted(dic.items(),key=lambda item: item[1]))\n",
        "  res = 0\n",
        "  index = 0\n",
        "  for i in sorted_dic:\n",
        "    res += sorted_dic[i]*index\n",
        "    index += 1\n",
        "  print(res)"
      ],
      "metadata": {
        "colab": {
          "base_uri": "https://localhost:8080/"
        },
        "id": "ADSMWGmHTK5c",
        "outputId": "08c486d0-ae33-423e-b6a4-8d6789aae2bd"
      },
      "execution_count": 37,
      "outputs": [
        {
          "output_type": "stream",
          "name": "stdout",
          "text": [
            "5\n",
            "GHJIDDD\n",
            "AHHCCCA\n",
            "IIJCEJ\n",
            "F\n",
            "HDBIGFJAAJ\n",
            "9888114550\n"
          ]
        }
      ]
    },
    {
      "cell_type": "code",
      "source": [
        "from collections import defaultdict\n",
        "\n",
        "n = int(input())\n",
        "nums = []\n",
        "for _ in range(n):\n",
        "  num = input()\n",
        "  nums.append(num)\n",
        "k = int(input())\n",
        "dic = defaultdict(int)\n",
        "\n",
        "def a_to_n(char):\n",
        "  if char in '0123456789':\n",
        "    return int(char)\n",
        "  else:\n",
        "    return ord(char) - ord('A') + 10\n",
        "\n",
        "def sol(num, dic):\n",
        "  digit = 1\n",
        "  for i in num[::-1]:\n",
        "    dic[i] += digit\n",
        "    digit *= 36\n",
        "\n",
        "def to_base36(n):\n",
        "    if n == 0:\n",
        "        return \"0\"\n",
        "\n",
        "    chars = \"0123456789ABCDEFGHIJKLMNOPQRSTUVWXYZ\"\n",
        "    result = []\n",
        "\n",
        "    while n > 0:\n",
        "        n, remainder = divmod(n, 36)\n",
        "        result.append(chars[remainder])\n",
        "\n",
        "    return ''.join(reversed(result))\n",
        "\n",
        "\n",
        "for num in nums:\n",
        "  sol(num, dic)\n",
        "\n",
        "sorted_dic = dict(sorted(dic.items(),key=lambda item: (35-a_to_n(item[0]))*item[1], reverse = True))\n",
        "print(sorted_dic)\n",
        "\n",
        "j = 0\n",
        "z = 0\n",
        "for i in sorted_dic:\n",
        "  if j == k:\n",
        "    break\n",
        "  if i != \"Z\":\n",
        "    z += sorted_dic[i]\n",
        "    sorted_dic[i] = 0\n",
        "    j += 1\n",
        "\n",
        "\n",
        "if \"Z\" in sorted_dic:\n",
        "  sorted_dic[\"Z\"] += z\n",
        "else:\n",
        "  sorted_dic[\"Z\"] = z\n",
        "\n",
        "sorted_dic = dict(sorted(sorted_dic.items(),key=lambda item: item[1],reverse = True))\n",
        "print(sorted_dic)\n",
        "\n",
        "base10 = 0\n",
        "for i in sorted_dic:\n",
        "  base10 += a_to_n(i)*sorted_dic[i]\n",
        "\n",
        "\n",
        "print(to_base36(base10))"
      ],
      "metadata": {
        "colab": {
          "base_uri": "https://localhost:8080/"
        },
        "id": "JTE6YEMjVq-D",
        "outputId": "6620a650-cf1e-42ed-9338-e54ffa45ea67"
      },
      "execution_count": 68,
      "outputs": [
        {
          "output_type": "stream",
          "name": "stdout",
          "text": [
            "5\n",
            "500\n",
            "POINTS\n",
            "FOR\n",
            "THIS\n",
            "PROBLEM\n",
            "5\n",
            "{'P': 2237248512, 'R': 60466177, 'O': 3359268, 'T': 46692, 'I': 46692, 'B': 46656, 'N': 1296, 'L': 1296, 'H': 1296, 'F': 1296, '5': 1296, '0': 37, 'E': 36, 'S': 2, 'M': 1}\n",
            "{'Z': 2301167341, 'B': 46656, 'N': 1296, 'L': 1296, 'H': 1296, 'F': 1296, '5': 1296, '0': 37, 'E': 36, 'S': 2, 'M': 1, 'P': 0, 'R': 0, 'O': 0, 'T': 0, 'I': 0}\n",
            "1100BCE5\n"
          ]
        }
      ]
    },
    {
      "cell_type": "code",
      "source": [
        "\n",
        "def two_mat(mat1, mat2):\n",
        "  return mat1[0], mat2[1], mat1[0]*mat2[0]*mat2[1]\n",
        "\n",
        "def three_mat(mat1, mat2, mat3):\n",
        "  a,b,m = two_mat(mat1, mat2)\n",
        "  b,c,n = two_mat(mat2, mat3)\n",
        "  return min(two_mat((a,b),mat3)[2]+m, two_mat(mat1,(b,c))[2]+n)\n",
        "\n",
        "\n",
        "def top_down(mats,r,l,i):\n",
        "  \"\"\"\n",
        "  mats에 각각 행렬의 크기 저장\n",
        "  i는 마지막으로 남겨둘 행렬의 인덱스\n",
        "  즉 i를 기준으로 왼쪽 오른쪽의 최소 연산횟수를 구하고 거시기\n",
        "  dp[j][k]는 이중리스트로 j부터 k번째 행렬의 최소 연산횟수\n",
        "  \"\"\"\n",
        "  #print(r,l,i)\n",
        "  if r != i and l != i:\n",
        "    #print(r,i,l)\n",
        "    if dp[r][i-1] != 0 and dp[i+1][l] != 0:\n",
        "      dp[r][l] = three_mat((mats[r][0],mats[i-1][1]),mats[i],(mats[i+1][0],mats[l][1]))+dp[r][i-1]+dp[i+1][l]\n",
        "\n",
        "    else:\n",
        "      for k in range(r,i-1):\n",
        "        top_down(mats,r,i-1,k)\n",
        "      for k in range(i+1,l):\n",
        "        top_down(mats,i+1,l,k)\n",
        "      dp[r][l] = three_mat((mats[r][0],mats[i-1][1]),mats[i],(mats[i+1][0],mats[l][1]))+dp[r][i-1]+dp[i+1][l]\n",
        "\n",
        "\n",
        "n = int(input())\n",
        "mats = []\n",
        "for _ in range(n):\n",
        "  mats.append(list(map(int,input().split())))\n",
        "\n",
        "dp = [[0]*n for _ in range(n)]\n",
        "\n",
        "for i in range(n-1):\n",
        "  dp[i][i+1] = two_mat(mats[i],mats[i+1])[2]\n",
        "for i in range(n-2):\n",
        "  dp[i][i+2] = three_mat(mats[i],mats[i+1],mats[i+2])\n",
        "\n",
        "for i in range(n):\n",
        "  top_down(mats,0,n-1,i)\n",
        "\n",
        "#for i in dp:\n",
        "#  print(i)\n",
        "\n",
        "print(dp[0][n-1])"
      ],
      "metadata": {
        "colab": {
          "base_uri": "https://localhost:8080/"
        },
        "id": "8n7iEd7gWatq",
        "outputId": "7e68cdc7-143f-4bfc-e526-7fa0095e5987"
      },
      "execution_count": 108,
      "outputs": [
        {
          "output_type": "stream",
          "name": "stdout",
          "text": [
            "4\n",
            "5 3\n",
            "3 2\n",
            "2 6\n",
            "6 4\n",
            "0 1 3\n",
            "0 2 3\n",
            "118\n"
          ]
        }
      ]
    },
    {
      "cell_type": "code",
      "source": [
        "for i in dp:\n",
        "  print(i)"
      ],
      "metadata": {
        "colab": {
          "base_uri": "https://localhost:8080/"
        },
        "id": "bV7jE8baMM8Q",
        "outputId": "c8c99443-d0bd-4c66-d2ac-ea14acc988ca"
      },
      "execution_count": 109,
      "outputs": [
        {
          "output_type": "stream",
          "name": "stdout",
          "text": [
            "[0, 30, 90, 118]\n",
            "[0, 0, 36, 72]\n",
            "[0, 0, 0, 48]\n",
            "[0, 0, 0, 0]\n"
          ]
        }
      ]
    },
    {
      "cell_type": "code",
      "source": [
        "\n",
        "def two_mat(mat1, mat2):\n",
        "  return mat1[0], mat2[1], mat1[0]*mat2[0]*mat2[1]\n",
        "\n",
        "def three_mat(mat1, mat2, mat3):\n",
        "  a,b,m = two_mat(mat1, mat2)\n",
        "  b,c,n = two_mat(mat2, mat3)\n",
        "  return min(two_mat((a,b),mat3)[2]+m, two_mat(mat1,(b,c))[2]+n)\n",
        "\n",
        "\n",
        "\n",
        "n = int(input())\n",
        "mats = []\n",
        "for _ in range(n):\n",
        "  mats.append(list(map(int,input().split())))\n",
        "\n",
        "\n",
        "if n == 1:\n",
        "  print(0)\n",
        "elif n==2:\n",
        "  print(mats[0][0]*mats[0][1]*mats[1][1])\n",
        "else:\n",
        "  dp = [[0]*n for _ in range(n)]\n",
        "\n",
        "  for i in range(n-1):\n",
        "    dp[i][i+1] = two_mat(mats[i],mats[i+1])[2]\n",
        "  for i in range(n-2):\n",
        "    dp[i][i+2] = three_mat(mats[i],mats[i+1],mats[i+2])\n",
        "\n",
        "  for i in range(3,n):\n",
        "    for j in range(n-i):\n",
        "      mnv = float('inf')\n",
        "      for k in range(j,i+j):\n",
        "        mnv = min(mnv,dp[j][k]+dp[k+1][i+j]+two_mat((mats[j][0],mats[k][1]),(mats[k+1][0],mats[i+j][1]))[2])\n",
        "\n",
        "      dp[j][i+j] = mnv\n",
        "\n",
        "  print(dp[0][-1])"
      ],
      "metadata": {
        "colab": {
          "base_uri": "https://localhost:8080/"
        },
        "id": "DYL7BOEoFSUc",
        "outputId": "90597240-bb96-401a-8b75-b8e40b4a2a25"
      },
      "execution_count": 123,
      "outputs": [
        {
          "output_type": "stream",
          "name": "stdout",
          "text": [
            "4\n",
            "5 3\n",
            "3 2\n",
            "2 6\n",
            "6 4\n",
            "0 0 3\n",
            "0 1 3\n",
            "0 2 3\n",
            "[0, 30, 90, 118]\n",
            "[0, 0, 36, 72]\n",
            "[0, 0, 0, 48]\n",
            "[0, 0, 0, 0]\n"
          ]
        }
      ]
    },
    {
      "cell_type": "code",
      "source": [
        "n,m,k = map(int,input().split())\n",
        "arr = []\n",
        "for _ in range(n):\n",
        "  arr.append(int(input()))\n",
        "tree = [0]*(4*len(arr))\n",
        "\n",
        "def init(start,end,index=1):\n",
        "  if start == end:\n",
        "    tree[index] = arr[start]\n",
        "    return tree[index]\n",
        "  mid = (start+end)//2\n",
        "  tree[index] = init(start,mid,2*index)+init(mid+1,end,2*index+1)\n",
        "  return tree[index]\n",
        "\n",
        "\n",
        "def query(start, end, index, left, right):\n",
        "  if start > right or end < left:\n",
        "    return 0\n",
        "  if left <= start and end <= right:\n",
        "    return tree[index]\n",
        "  mid = (start+end)//2\n",
        "  return query(start, mid, 2*index,left,right)+query(mid+1, end, 2*index+1,left,right)\n",
        "\n",
        "\n",
        "def update(start,end,index,pos,diff):\n",
        "  if pos < start or end < pos:\n",
        "    return\n",
        "\n",
        "  tree[index] += diff\n",
        "  if start == end:\n",
        "    return\n",
        "  mid  = (start+end)//2\n",
        "  update(start,mid,2*index,pos,diff)\n",
        "  update(mid+1,end,2*index+1,pos,diff)\n",
        "\n",
        "init(0,len(arr)-1)\n",
        "\n",
        "\n",
        "for _ in range(m+k):\n",
        "  a,b,c = map(int,input().split())\n",
        "  if a == 1:\n",
        "    update(0,len(arr)-1,1,b-1,c-arr[b-1])\n",
        "    arr[b-1] = c\n",
        "  else:\n",
        "    print(query(0,len(arr)-1,1,b-1,c-1))"
      ],
      "metadata": {
        "colab": {
          "base_uri": "https://localhost:8080/"
        },
        "id": "c2SJNqXBFV79",
        "outputId": "de0d95a8-26ea-4336-a530-85dc28e2bf1c"
      },
      "execution_count": 143,
      "outputs": [
        {
          "output_type": "stream",
          "name": "stdout",
          "text": [
            "4 0 1\n",
            "1\n",
            "2\n",
            "3\n",
            "4\n",
            "2 1 1\n",
            "1\n"
          ]
        }
      ]
    },
    {
      "cell_type": "code",
      "source": [
        "print(query(0,len(arr)-1,1,0,2))"
      ],
      "metadata": {
        "colab": {
          "base_uri": "https://localhost:8080/"
        },
        "id": "2rJY-wvrIcWy",
        "outputId": "a0c15c51-2cff-4f42-dea8-352a061fc829"
      },
      "execution_count": 138,
      "outputs": [
        {
          "output_type": "stream",
          "name": "stdout",
          "text": [
            "6\n"
          ]
        }
      ]
    },
    {
      "cell_type": "code",
      "source": [
        "\"\"\"\n",
        "어떤 간선 (u,v)의 교차횟수는\n",
        "u보다 작은 노드에서 v보다 큰 노드로 간 간선의 갯수의 합\n",
        "그럼 u를 기준으로 정렬\n",
        "세그트리는?\n",
        "도착한 간선의 갯수를 추가\n",
        "어차피 u를 기준으로 정렬했으므로\n",
        "v 초과하는 간선의 갯수의 부분합이 곧 교차하는 간선의 갯수가 됨\n",
        "\"\"\"\n",
        "n,m = map(int,input().split())\n",
        "arr = [0]*(n+1)\n",
        "tree = [0]*(4*len(arr))\n",
        "\n",
        "def init(index=1,start=0,end=len(arr)-1):\n",
        "  if start == end:\n",
        "    tree[index] = arr[start]\n",
        "    return tree[index]\n",
        "  mid = (start+end)//2\n",
        "  tree[index] = init(2*index,start,mid)+init(2*index+1,mid+1,end)\n",
        "  return tree[index]\n",
        "def update(pos,value,index=1,start=0,end=len(arr)-1):\n",
        "  if pos < start or end < pos:\n",
        "    return\n",
        "  tree[index] += value\n",
        "  if start == end:\n",
        "    return\n",
        "  mid = (start+end)//2\n",
        "  update(pos,value,2*index,start,mid)\n",
        "  update(pos,value,2*index+1,mid+1,end)\n",
        "\n",
        "def query(left, right, index=1,start=0,end=len(arr)-1):\n",
        "  if right < start or end < left:\n",
        "    return 0\n",
        "  if left <= start and end <= right:\n",
        "    return tree[index]\n",
        "  mid = (start+end)//2\n",
        "  return query(left,right,2*index,start,mid)+query(left,right,2*index+1,mid+1,end)\n",
        "\n",
        "\n",
        "res = 0\n",
        "\n",
        "init()\n",
        "\n",
        "edge = []\n",
        "for _ in range(m):\n",
        "  edge.append(list(map(int,input().split())))\n",
        "\n",
        "edge.sort(key = lambda x:x[0])\n",
        "\n",
        "for i in range(m):\n",
        "  u,v = edge[i]\n",
        "  update(v,1)\n",
        "  res += query(v+1,n+1)\n",
        "print(res)\n"
      ],
      "metadata": {
        "colab": {
          "base_uri": "https://localhost:8080/"
        },
        "id": "ZzkyOB2ByV4E",
        "outputId": "84f9ea0d-292b-457c-b042-f688312903e3"
      },
      "execution_count": 148,
      "outputs": [
        {
          "output_type": "stream",
          "name": "stdout",
          "text": [
            "5 6\n",
            "1 5\n",
            "2 2\n",
            "3 2\n",
            "4 3\n",
            "5 1\n",
            "5 3\n",
            "8\n"
          ]
        }
      ]
    },
    {
      "cell_type": "code",
      "source": [
        "\"\"\"\n",
        "어떤 간선 (u,v)의 교차횟수는\n",
        "u보다 작은 노드에서 v보다 큰 노드로 간 간선의 갯수의 합\n",
        "그럼 u를 기준으로 정렬\n",
        "세그트리는?\n",
        "도착한 간선의 갯수를 추가\n",
        "어차피 u를 기준으로 정렬했으므로\n",
        "v 초과하는 간선의 갯수의 부분합이 곧 교차하는 간선의 갯수가 됨\n",
        "\"\"\"\n",
        "n,m = map(int,input().split())\n",
        "\n",
        "tree = [0]*(4*n)\n",
        "\n",
        "def update(pos,value,index=1,start=1,end=n):\n",
        "  if pos < start or end < pos:\n",
        "    return\n",
        "  tree[index] += value\n",
        "  if start == end:\n",
        "    return\n",
        "  mid = (start+end)//2\n",
        "  update(pos,value,2*index,start,mid)\n",
        "  update(pos,value,2*index+1,mid+1,end)\n",
        "\n",
        "def query(left, right, index=1,start=1,end=n):\n",
        "  if right < start or end < left:\n",
        "    return 0\n",
        "  if left <= start and end <= right:\n",
        "    return tree[index]\n",
        "  mid = (start+end)//2\n",
        "  return query(left,right,2*index,start,mid)+query(left,right,2*index+1,mid+1,end)\n",
        "\n",
        "\n",
        "res = 0\n",
        "\n",
        "edge = []\n",
        "for _ in range(m):\n",
        "  u,v = map(int,input().split())\n",
        "  edge.append(10000*u+v)\n",
        "\n",
        "edge.sort()\n",
        "\n",
        "for i in range(m):\n",
        "  u,v = divmod(edge[i],10000)\n",
        "  update(v,1)\n",
        "  res += query(v+1,n+1)\n",
        "print(res)\n"
      ],
      "metadata": {
        "colab": {
          "base_uri": "https://localhost:8080/"
        },
        "id": "thVp211K-j2V",
        "outputId": "4cc817ba-f7ad-4a4a-a137-88ad1cb71ec4"
      },
      "execution_count": 12,
      "outputs": [
        {
          "output_type": "stream",
          "name": "stdout",
          "text": [
            "3 3\n",
            "1 1\n",
            "2 2\n",
            "3 3\n",
            "0\n"
          ]
        }
      ]
    },
    {
      "cell_type": "code",
      "source": [
        "divmod(3212000,10000)"
      ],
      "metadata": {
        "colab": {
          "base_uri": "https://localhost:8080/"
        },
        "id": "TvTkrUjCBEIq",
        "outputId": "d7e6c218-13cc-4ee9-93bd-89ac405ad9b5"
      },
      "execution_count": 2,
      "outputs": [
        {
          "output_type": "execute_result",
          "data": {
            "text/plain": [
              "(321, 2000)"
            ]
          },
          "metadata": {},
          "execution_count": 2
        }
      ]
    },
    {
      "cell_type": "code",
      "source": [
        "for i in range(1,6):\n",
        "  print(query(i,6))"
      ],
      "metadata": {
        "colab": {
          "base_uri": "https://localhost:8080/"
        },
        "id": "zbHgiPm6BmUQ",
        "outputId": "6eabaabb-9e48-4af4-f0da-baf6a21d26f1"
      },
      "execution_count": 9,
      "outputs": [
        {
          "output_type": "stream",
          "name": "stdout",
          "text": [
            "5\n",
            "4\n",
            "2\n",
            "0\n",
            "0\n"
          ]
        }
      ]
    },
    {
      "cell_type": "code",
      "source": [],
      "metadata": {
        "id": "noV6GOiWCktc"
      },
      "execution_count": null,
      "outputs": []
    }
  ]
}