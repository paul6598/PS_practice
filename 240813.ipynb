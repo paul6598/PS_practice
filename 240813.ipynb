{
  "nbformat": 4,
  "nbformat_minor": 0,
  "metadata": {
    "colab": {
      "provenance": [],
      "authorship_tag": "ABX9TyPAzrEp4eJfbixe/KdiHK+Z",
      "include_colab_link": true
    },
    "kernelspec": {
      "name": "python3",
      "display_name": "Python 3"
    },
    "language_info": {
      "name": "python"
    }
  },
  "cells": [
    {
      "cell_type": "markdown",
      "metadata": {
        "id": "view-in-github",
        "colab_type": "text"
      },
      "source": [
        "<a href=\"https://colab.research.google.com/github/paul6598/PS_practice/blob/main/240813.ipynb\" target=\"_parent\"><img src=\"https://colab.research.google.com/assets/colab-badge.svg\" alt=\"Open In Colab\"/></a>"
      ]
    },
    {
      "cell_type": "code",
      "execution_count": 3,
      "metadata": {
        "colab": {
          "base_uri": "https://localhost:8080/"
        },
        "id": "cky3vlYB2i6o",
        "outputId": "c13e970f-2dc6-4cd7-d8fb-0ff84fd3ba0e"
      },
      "outputs": [
        {
          "output_type": "stream",
          "name": "stdout",
          "text": [
            "3\n",
            "1 100 100\n",
            "100 1 100\n",
            "100 100 1\n",
            "[0, 0, 0]\n",
            "[1, 100, 100]\n",
            "[0, 0, 0]\n",
            "[0, 0, 0]\n",
            "\n",
            "[0, 0, 0]\n",
            "[1, 100, 100]\n",
            "[200, 2, 101]\n",
            "[0, 0, 0]\n",
            "\n",
            "[0, 0, 0]\n",
            "[1, 100, 100]\n",
            "[200, 2, 101]\n",
            "[102, 201, 3]\n",
            "\n"
          ]
        }
      ],
      "source": [
        "n = int(input())\n",
        "table = []\n",
        "for _ in range(n):\n",
        "  table.append(list(map(int, input().split())))\n",
        "\n",
        "dp = [[0,0,0] for _ in range(n+1)]\n",
        "\n",
        "for i in range(1,n+1):\n",
        "  dp[i][0] = min(dp[i-1][1], dp[i-1][2])+table[i-1][0]\n",
        "  dp[i][1] = min(dp[i-1][0], dp[i-1][2])+table[i-1][1]\n",
        "  dp[i][2] = min(dp[i-1][0], dp[i-1][1])+table[i-1][2]\n",
        "  for j in dp:\n",
        "    print(j)\n",
        "  print()\n",
        "\n"
      ]
    },
    {
      "cell_type": "code",
      "source": [
        "n = int(input())\n",
        "table = []\n",
        "for _ in range(n):\n",
        "  table.append(list(map(int, input().split())))\n",
        "\n",
        "dp = [[[0,0,0] for _ in range(3)] for _ in range(n)]\n",
        "dp[0][0] = table[0][:]\n",
        "dp[0][1] = table[0][:]\n",
        "dp[0][2] = table[0][:]\n",
        "\n",
        "dp[0][0][1], dp[0][0][2] = float(\"INF\"),float(\"INF\") #지금 1\n",
        "dp[0][1][0], dp[0][1][2] = float(\"INF\"),float(\"INF\") #2\n",
        "dp[0][2][0], dp[0][2][1] = float(\"INF\"),float(\"INF\") #3\n",
        "for i in range(1,n):\n",
        "  for j in range(3):\n",
        "    dp[i][j][0] = min(dp[i-1][j][1], dp[i-1][j][2])+table[i][0]\n",
        "    dp[i][j][1] = min(dp[i-1][j][0], dp[i-1][j][2])+table[i][1]\n",
        "    dp[i][j][2] = min(dp[i-1][j][0], dp[i-1][j][1])+table[i][2]\n",
        "\n",
        "print(min(min(dp[-1][0][1:]),min(dp[-1][2][:2]),dp[-1][1][0],dp[-1][1][2]))"
      ],
      "metadata": {
        "colab": {
          "base_uri": "https://localhost:8080/"
        },
        "id": "Ds-6KlDnLyjZ",
        "outputId": "6a1464b2-65fa-42b3-9910-8f21e203640b"
      },
      "execution_count": 14,
      "outputs": [
        {
          "output_type": "stream",
          "name": "stdout",
          "text": [
            "2\n",
            "1 2 3\n",
            "4 5 6\n",
            "[[1, inf, inf], [inf, 2, inf], [inf, inf, 3]]\n",
            "[[inf, 6, 7], [6, inf, 8], [7, 8, inf]]\n",
            "\n",
            "6\n"
          ]
        }
      ]
    },
    {
      "cell_type": "code",
      "source": [
        "n,m = map(int, input().split())\n",
        "\n",
        "table = []\n",
        "for _ in range(n):\n",
        "  table.append(list(map(int, input().split())))\n",
        "\n",
        "dp = [[0]*(m+1) for _ in range(n+1)]\n",
        "for i in range(1,n+1):\n",
        "  for j in range(1,m+1):\n",
        "    dp[i][j] = max(dp[i-1][j-1],dp[i-1][j],dp[i][j-1])+table[i-1][j-1]\n",
        "\n",
        "print(dp[-1][-1])"
      ],
      "metadata": {
        "colab": {
          "base_uri": "https://localhost:8080/"
        },
        "id": "sM8u9XHVO_zO",
        "outputId": "663ccf9b-0f64-4d53-b02b-19f4f7c46cbc"
      },
      "execution_count": 18,
      "outputs": [
        {
          "output_type": "stream",
          "name": "stdout",
          "text": [
            "1 1\n",
            "1\n",
            "1\n"
          ]
        }
      ]
    },
    {
      "cell_type": "code",
      "source": [
        "import math\n",
        "from collections import defaultdict\n",
        "\n",
        "n,m = map(int,input().split())\n",
        "road = list(map(int,input().split()))\n",
        "\n",
        "banner = math.ceil(9*m/10)\n",
        "dic = defaultdict(int)\n",
        "\n",
        "for i in range(m):\n",
        "  dic[road[i]] += 1\n",
        "\n",
        "if max(dic.values()) >= banner:\n",
        "  print(\"YES\")\n",
        "else:\n",
        "  tf = False\n",
        "  for i in range(m,n):\n",
        "    dic[road[i]] += 1\n",
        "    dic[road[i-m]] -= 1\n",
        "    if max(dic.values()) >= banner:\n",
        "      tf = True\n",
        "      break\n",
        "  if tf:\n",
        "    print(\"YES\")\n",
        "  else:\n",
        "    print(\"NO\")"
      ],
      "metadata": {
        "colab": {
          "base_uri": "https://localhost:8080/"
        },
        "id": "5m8sUkzJPztI",
        "outputId": "cae54370-a156-496f-9413-03c3299f7d9a"
      },
      "execution_count": 24,
      "outputs": [
        {
          "output_type": "stream",
          "name": "stdout",
          "text": [
            "12 11\n",
            "3 4 4 4 4 4 4 5 4 4 4 3\n",
            "NO\n"
          ]
        }
      ]
    },
    {
      "cell_type": "code",
      "source": [
        "from collections import deque\n",
        "\n",
        "n,m = map(int, input().split())\n",
        "table = []\n",
        "for _ in range(n):\n",
        "  table.append(list(map(int, input())))\n",
        "\n",
        "\n",
        "def bfs(table,y,x,cnt):\n",
        "  res = 1\n",
        "  n = len(table)\n",
        "  m = len(table[0])\n",
        "  visit = [[0]*m for _ in range(n)]\n",
        "  q = deque([[y,x]])\n",
        "  visit[y][x] = 1\n",
        "  table[y][x] = cnt\n",
        "  dx = [0,0,1,-1]\n",
        "  dy = [1,-1,0,0]\n",
        "  while q:\n",
        "    b,a = q.popleft()\n",
        "    for i in range(4):\n",
        "      y,x = b+dy[i],a+dx[i]\n",
        "      if 0<=x<m and 0<=y<n and visit[y][x] == 0 and table[y][x] == 0:\n",
        "        visit[y][x] = 1\n",
        "        table[y][x] = cnt\n",
        "        res += 1\n",
        "        q.append([y,x])\n",
        "  return res%10\n",
        "\n",
        "dic = {1:0}\n",
        "cnt = 2\n",
        "\n",
        "for i in range(n):\n",
        "  for j in range(m):\n",
        "    if table[i][j] == 0:\n",
        "      dic[cnt] = bfs(table,i,j,cnt)\n",
        "      cnt += 1\n",
        "      print(table)\n",
        "\n",
        "\n",
        "def sol(table,dic):\n",
        "  res = [[0]*m for _ in range(n)]\n",
        "  dx = [0,0,1,-1]\n",
        "  dy = [1,-1,0,0]\n",
        "  for i in range(n):\n",
        "    for j in range(m):\n",
        "      if table[i][j] == 1:\n",
        "        set_ = set()\n",
        "        for k in range(4):\n",
        "          y,x = i+dy[k],j+dx[k]\n",
        "          if 0<=x<m and 0<=y<n:\n",
        "            set_.add(table[y][x])\n",
        "        #print(set_)\n",
        "        res[i][j] = (sum([dic[k] for k in set_])+1)%10\n",
        "  return res\n",
        "\n",
        "res = sol(table,dic)\n",
        "for i in range(n):\n",
        "  for j in range(m):\n",
        "    print(res[i][j], end = \"\")\n",
        "  print()\n",
        "\n"
      ],
      "metadata": {
        "colab": {
          "base_uri": "https://localhost:8080/"
        },
        "id": "W0nNQEEdU7eC",
        "outputId": "8d21dc17-2e4c-4fa5-924e-5f804ea42b29"
      },
      "execution_count": 45,
      "outputs": [
        {
          "output_type": "stream",
          "name": "stdout",
          "text": [
            "4 5\n",
            "10001\n",
            "00111\n",
            "01010\n",
            "10101\n",
            "[[1, 2, 2, 2, 1], [2, 2, 1, 1, 1], [2, 1, 0, 1, 0], [1, 0, 1, 0, 1]]\n",
            "[[1, 2, 2, 2, 1], [2, 2, 1, 1, 1], [2, 1, 3, 1, 0], [1, 0, 1, 0, 1]]\n",
            "[[1, 2, 2, 2, 1], [2, 2, 1, 1, 1], [2, 1, 3, 1, 4], [1, 0, 1, 0, 1]]\n",
            "[[1, 2, 2, 2, 1], [2, 2, 1, 1, 1], [2, 1, 3, 1, 4], [1, 5, 1, 0, 1]]\n",
            "[[1, 2, 2, 2, 1], [2, 2, 1, 1, 1], [2, 1, 3, 1, 4], [1, 5, 1, 6, 1]]\n",
            "70007\n",
            "00872\n",
            "09040\n",
            "80403\n"
          ]
        }
      ]
    },
    {
      "cell_type": "code",
      "source": [
        "from collections import deque\n",
        "\n",
        "n,m = map(int, input().split())\n",
        "table = []\n",
        "for _ in range(n):\n",
        "  table.append(list(map(int, input().rstrip())))\n",
        "\n",
        "\n",
        "def bfs(table,y,x,cnt):\n",
        "  res = 1\n",
        "  q = deque([[y,x]])\n",
        "  table[y][x] = cnt\n",
        "  dx = [0,0,1,-1]\n",
        "  dy = [1,-1,0,0]\n",
        "  while q:\n",
        "    b,a = q.popleft()\n",
        "    for i in range(4):\n",
        "      y,x = b+dy[i],a+dx[i]\n",
        "      if 0<=x<m and 0<=y<n and table[y][x] == 0:\n",
        "        table[y][x] = cnt\n",
        "        res += 1\n",
        "        q.append([y,x])\n",
        "  return res%10\n",
        "\n",
        "dic = {}\n",
        "cnt = 2\n",
        "\n",
        "for i in range(n):\n",
        "  for j in range(m):\n",
        "    if table[i][j] == 0:\n",
        "      dic[cnt] = bfs(table,i,j,cnt)\n",
        "      cnt += 1\n",
        "\n",
        "\n",
        "def sol(table,dic):\n",
        "  res = [[0]*m for _ in range(n)]\n",
        "  dx = [0,0,1,-1]\n",
        "  dy = [1,-1,0,0]\n",
        "  for i in range(n):\n",
        "    for j in range(m):\n",
        "      if table[i][j] == 1:\n",
        "        set_ = set()\n",
        "        for k in range(4):\n",
        "          y,x = i+dy[k],j+dx[k]\n",
        "          if 0<=x<m and 0<=y<n and table[y][x] != 1:\n",
        "            set_.add(table[y][x])\n",
        "        #print(set_)\n",
        "        res[i][j] = (sum([dic[k] for k in set_])+1)%10\n",
        "  return res\n",
        "\n",
        "res = sol(table,dic)\n",
        "for i in range(n):\n",
        "  for j in range(m):\n",
        "    print(res[i][j], end = \"\")\n",
        "  print()\n",
        "\n"
      ],
      "metadata": {
        "colab": {
          "base_uri": "https://localhost:8080/"
        },
        "id": "qp0jn5Y9fAZ4",
        "outputId": "87327fba-e9d9-4d88-a39a-956a43dc44cc"
      },
      "execution_count": 46,
      "outputs": [
        {
          "output_type": "stream",
          "name": "stdout",
          "text": [
            "4 5\n",
            "10001\n",
            "00111\n",
            "01010\n",
            "10100\n",
            "70007\n",
            "00874\n",
            "09050\n",
            "80600\n"
          ]
        }
      ]
    },
    {
      "cell_type": "code",
      "source": [
        "\n",
        "from collections import deque\n",
        "\n",
        "n, m, k = map(int, input().split()) #n이 y, m이 x\n",
        "\n",
        "table = []\n",
        "for _ in range(n):\n",
        "  table.append(list(map(int, input().rstrip())))\n",
        "\n",
        "\n",
        "def bfs(map_, n,m,k):\n",
        "  dy = [0,0,1,-1]\n",
        "  dx = [1,-1,0,0]\n",
        "  visit = [[([0]*(k+1)) for _ in range(m)] for _ in range(n)]\n",
        "  q = deque([[0,0,1,0,True]])\n",
        "  visit[0][0][0] = 1\n",
        "\n",
        "  while q:\n",
        "    b,a,dist,broke,day = q.popleft()\n",
        "\n",
        "    if not day and broke < k:\n",
        "      q.append([b,a,dist+1,broke,not day])\n",
        "    for i in range(4):\n",
        "      y = b+dy[i]\n",
        "      x = a+dx[i]\n",
        "      if broke < k:  # 벽 파괴 가능\n",
        "        if 0 <= y < n and 0<= x < m:\n",
        "\n",
        "          if map_[y][x] == 1 and day and (visit[y][x][broke+1] > dist+1 or visit[y][x][broke+1]==0):\n",
        "            visit[y][x][broke+1] = dist+1\n",
        "            q.append([y,x,dist+1,broke+1,not day])\n",
        "          elif map_[y][x] == 0 and (visit[y][x][broke] > dist+1 or visit[y][x][broke]==0):\n",
        "            visit[y][x][broke] = dist+1\n",
        "            q.append([y,x,dist+1,broke,not day])\n",
        "\n",
        "      else: # 벽 파괴 불가능, broke == k or day == False\n",
        "        if broke == k and 0 <= y < n and 0<= x < m and (visit[y][x][k] > dist+1 or visit[y][x][k]==0): #and visit[y][x][0] == 0\n",
        "          if map_[y][x] == 0:\n",
        "            visit[y][x][k] = dist+1\n",
        "            q.append([y,x,dist+1,broke,not day])\n",
        "\n",
        "\n",
        "    if max(visit[n-1][m-1]) > 0:\n",
        "\n",
        "      return max(visit[n-1][m-1])\n",
        "\n",
        "  return -1\n",
        "\n",
        "\n",
        "print(bfs(table, n,m,k))"
      ],
      "metadata": {
        "colab": {
          "base_uri": "https://localhost:8080/"
        },
        "id": "i1SSdPqrfd3R",
        "outputId": "dbc37bf8-f289-44e1-c5a4-9b929af5ed9f"
      },
      "execution_count": 65,
      "outputs": [
        {
          "output_type": "stream",
          "name": "stdout",
          "text": [
            "7 5 1\n",
            "00000\n",
            "11110\n",
            "00000\n",
            "01111\n",
            "00000\n",
            "11111\n",
            "11110\n",
            "[[1, 3], [2, 4], [3, 5], [4, 6], [5, 7]]\n",
            "[[0, 2], [0, 4], [0, 4], [0, 6], [6, 7]]\n",
            "[[11, 3], [10, 4], [9, 5], [8, 6], [7, 7]]\n",
            "[[12, 4], [0, 12], [0, 10], [0, 10], [0, 8]]\n",
            "[[13, 5], [14, 6], [15, 7], [16, 8], [17, 9]]\n",
            "[[0, 14], [0, 16], [0, 16], [0, 18], [0, 18]]\n",
            "[[0, 0], [0, 0], [0, 0], [0, 0], [0, 19]]\n",
            "19\n"
          ]
        }
      ]
    },
    {
      "cell_type": "code",
      "source": [
        "\n",
        "from collections import deque\n",
        "\n",
        "n, m, k = map(int, input().split()) #n이 y, m이 x\n",
        "\n",
        "table = []\n",
        "for _ in range(n):\n",
        "  table.append(list(map(int, input().rstrip())))\n",
        "\n",
        "\n",
        "def bfs(map_, n,m,k):\n",
        "  append = q.append\n",
        "  dy = [0,1,0,-1]\n",
        "  dx = [1,0,-1,0]\n",
        "  visit = [[([0]*(k+1)) for _ in range(m)] for _ in range(n)]\n",
        "  q = deque([[0,0,1,0,True]])\n",
        "  visit[0][0][0] = 1\n",
        "\n",
        "  while q:\n",
        "    b,a,dist,broke,day = q.popleft()\n",
        "\n",
        "\n",
        "    for i in range(4):\n",
        "      y = b+dy[i]\n",
        "      x = a+dx[i]\n",
        "      if 0 <= y < n and 0 <= x < m:\n",
        "        if map_[y][x] == 1 and broke < k and day and (visit[y][x][broke+1] > dist+1 or visit[y][x][broke+1]==0):  # 벽 파괴\n",
        "          visit[y][x][broke+1] = dist+1\n",
        "          append([y,x,dist+1,broke+1,not day])\n",
        "\n",
        "        if map_[y][x] == 0 and (visit[y][x][broke] > dist+1 or visit[y][x][broke]==0): # 벽 파괴 불가능, broke == k or day == False\n",
        "          visit[y][x][broke] = dist+1\n",
        "          append([y,x,dist+1,broke,not day])\n",
        "    if not day and broke < k:\n",
        "      append([b,a,dist+1,broke,not day])\n",
        "\n",
        "  if max(visit[n-1][m-1]) > 0:\n",
        "    return max(visit[n-1][m-1])\n",
        "  return -1\n",
        "\n",
        "\n",
        "print(bfs(table, n,m,k))"
      ],
      "metadata": {
        "colab": {
          "base_uri": "https://localhost:8080/"
        },
        "id": "OlCbsgV1iFhR",
        "outputId": "c2491728-f201-4428-e7f8-523da6aec62d"
      },
      "execution_count": 75,
      "outputs": [
        {
          "output_type": "stream",
          "name": "stdout",
          "text": [
            "7 5 1\n",
            "00000\n",
            "11110\n",
            "00000\n",
            "01111\n",
            "00000\n",
            "11111\n",
            "11110\n",
            "[[1, 3], [2, 4], [3, 5], [4, 6], [5, 7]]\n",
            "[[0, 2], [0, 4], [0, 4], [0, 6], [6, 7]]\n",
            "[[11, 3], [10, 4], [9, 5], [8, 6], [7, 7]]\n",
            "[[12, 4], [0, 12], [0, 10], [0, 10], [0, 8]]\n",
            "[[13, 5], [14, 6], [15, 7], [16, 8], [17, 9]]\n",
            "[[0, 14], [0, 16], [0, 16], [0, 18], [0, 18]]\n",
            "[[0, 0], [0, 0], [0, 0], [0, 0], [0, 19]]\n",
            "19\n"
          ]
        }
      ]
    },
    {
      "cell_type": "code",
      "source": [
        "0"
      ],
      "metadata": {
        "colab": {
          "base_uri": "https://localhost:8080/"
        },
        "id": "OMqOOqY5mv2X",
        "outputId": "05623a08-a4db-4c71-c60f-c37a73c9278d"
      },
      "execution_count": 74,
      "outputs": [
        {
          "output_type": "execute_result",
          "data": {
            "text/plain": [
              "0"
            ]
          },
          "metadata": {},
          "execution_count": 74
        }
      ]
    }
  ]
}