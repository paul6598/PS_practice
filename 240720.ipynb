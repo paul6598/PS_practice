{
  "nbformat": 4,
  "nbformat_minor": 0,
  "metadata": {
    "colab": {
      "provenance": [],
      "authorship_tag": "ABX9TyPcka/e8kPfO0/Iokx2w9Fu",
      "include_colab_link": true
    },
    "kernelspec": {
      "name": "python3",
      "display_name": "Python 3"
    },
    "language_info": {
      "name": "python"
    }
  },
  "cells": [
    {
      "cell_type": "markdown",
      "metadata": {
        "id": "view-in-github",
        "colab_type": "text"
      },
      "source": [
        "<a href=\"https://colab.research.google.com/github/paul6598/PS_practice/blob/main/240720.ipynb\" target=\"_parent\"><img src=\"https://colab.research.google.com/assets/colab-badge.svg\" alt=\"Open In Colab\"/></a>"
      ]
    },
    {
      "cell_type": "code",
      "execution_count": 14,
      "metadata": {
        "colab": {
          "base_uri": "https://localhost:8080/"
        },
        "id": "GSryrSIvFuU6",
        "outputId": "ea0b44ff-5216-431b-c915-5a69100e48a3"
      },
      "outputs": [
        {
          "output_type": "stream",
          "name": "stdout",
          "text": [
            "111012\n",
            "13\n",
            "[1, 1, 2, 3, 5, 8]\n",
            "[0, 1, 1, 2, 3, 5]\n"
          ]
        }
      ],
      "source": [
        "code = input()\n",
        "\n",
        "len_ = len(code)\n",
        "dp = [[0]*len_ for i in range(2)]\n",
        "dp[0][0] = 1\n",
        "\n",
        "tf = False\n",
        "for i in range(len_-1):\n",
        "  if code[i+1] == \"0\" and code[i] != \"1\" and code[i] != \"2\":\n",
        "    tf = True\n",
        "\n",
        "\n",
        "if code[0] == '0' or tf:\n",
        "  print(0)\n",
        "elif len(code) <= 1:\n",
        "  print(1)\n",
        "elif len(code) == 2:\n",
        "  if int(code) <= 26:\n",
        "    print(2)\n",
        "  else:\n",
        "    print(1)\n",
        "else:\n",
        "  dp[0][1] = 1\n",
        "  if int(code[0]+code[1]) <= 26:\n",
        "    dp[1][1] = 1\n",
        "  else:\n",
        "    dp[1][1] = 0\n",
        "\n",
        "  for i in range(2,len_):\n",
        "    dp[0][i] = (dp[0][i-1]+dp[1][i-1])%1000000\n",
        "    if int(code[i-1]+code[i]) <= 26:\n",
        "      dp[1][i] = (dp[0][i-2]+dp[1][i-2])%1000000\n",
        "\n",
        "  print((dp[0][-1]+dp[1][-1])%1000000)\n",
        "  print(dp[0])\n",
        "  print(dp[1])"
      ]
    },
    {
      "cell_type": "code",
      "source": [
        "code = input()\n",
        "\n",
        "len_ = len(code)\n",
        "dp = [0]*len_\n",
        "dp[0] = 1\n",
        "\n",
        "tf = False\n",
        "for i in range(len_-1):\n",
        "  if code[i+1] == \"0\" and code[i] != \"1\" and code[i] != \"2\":\n",
        "    tf = True\n",
        "\n",
        "if code[0] == '0' or tf:\n",
        "  print(0)\n",
        "elif len(code) <= 1:\n",
        "  print(1)\n",
        "elif len(code) == 2:\n",
        "  if int(code) <= 26:\n",
        "    print(2)\n",
        "  else:\n",
        "    print(1)\n",
        "else:\n",
        "  dp[1] = (2 if int(code[0]+code[1]) <= 26 else 1)\n",
        "  if int(code[0]+code[1])%10 == 0:\n",
        "    dp[0] = 0\n",
        "    dp[1] = 1\n",
        "  for i in range(2,len_):\n",
        "    if int(code[i-1]+code[i])%10 == 0:\n",
        "      dp[i] = dp[i-2]\n",
        "      dp[i-1] = 0\n",
        "    elif int(code[i-1]+code[i]) <= 26:\n",
        "      dp[i] = (dp[i-1]+dp[i-2])%1000000\n",
        "    else:\n",
        "      dp[i] = dp[i-1]\n",
        "\n",
        "\n",
        "  print((dp[-1])%1000000)\n",
        "  #print(dp)\n"
      ],
      "metadata": {
        "colab": {
          "base_uri": "https://localhost:8080/"
        },
        "id": "w70kg2-3IRTA",
        "outputId": "5bdb4c36-3002-470e-acda-c0bef6fde9fa"
      },
      "execution_count": 27,
      "outputs": [
        {
          "output_type": "stream",
          "name": "stdout",
          "text": [
            "111012\n",
            "4\n",
            "[1, 2, 0, 2, 2, 4]\n"
          ]
        }
      ]
    },
    {
      "cell_type": "code",
      "source": [],
      "metadata": {
        "id": "vyeOkeSiNqn5"
      },
      "execution_count": null,
      "outputs": []
    },
    {
      "cell_type": "code",
      "source": [
        "t = int(input())\n",
        "for _ in range(t):\n",
        "  n = int(input())\n",
        "  coins = list(map(int,input().split()))\n",
        "  m = int(input())\n",
        "  dp = [[0]*n for _ in range(m+1)]\n",
        "  for i in range(len(coins)):\n",
        "    if coins[i] <= m:\n",
        "      for j in range(i,n):\n",
        "        dp[coins[i]][j] = 1\n",
        "  for i in range(m+1):\n",
        "    sum_ = 0\n",
        "    for j in range(n):\n",
        "      if i-coins[j] >= 0:\n",
        "        sum_ += dp[i-coins[j]][j]\n",
        "      dp[i][j] += sum_\n",
        "  print(dp[m][-1])\n",
        "\n",
        "  #for k in dp:\n",
        "  #  print(k)"
      ],
      "metadata": {
        "colab": {
          "base_uri": "https://localhost:8080/"
        },
        "id": "yWRvXaq5PKCr",
        "outputId": "1abe589f-58c8-42c6-b8a2-c6817a54a2d8"
      },
      "execution_count": 45,
      "outputs": [
        {
          "output_type": "stream",
          "name": "stdout",
          "text": [
            "3\n",
            "2\n",
            "1 2\n",
            "1000\n",
            "501\n",
            "3\n",
            "1 5 10\n",
            "100\n",
            "121\n",
            "2\n",
            "5 7\n",
            "22\n",
            "1\n"
          ]
        }
      ]
    },
    {
      "cell_type": "code",
      "source": [
        "from collections import deque\n",
        "n,m = map(int, input().split()) #세로:n, 가로:m\n",
        "table = []\n",
        "for _ in range(n):\n",
        "  table.append(list(map(int, input().split())))\n",
        "\n",
        "def bfs(table, n,m):\n",
        "  dx = [0,0,1,-1]\n",
        "  dy = [1,-1,0,0]\n",
        "  res = 0\n",
        "  q = deque([[0,0,table[0][0]]])\n",
        "  while q:\n",
        "    a,b,high = q.popleft()\n",
        "    for i in range(4):\n",
        "      x, y = dx[i]+a, dy[i]+b\n",
        "      if 0<=x<m and 0<=y<n and table[y][x]<high:\n",
        "        if (x,y) == (m-1,n-1):\n",
        "          res += 1\n",
        "        else:\n",
        "          q.append([x,y,table[y][x]])\n",
        "\n",
        "  return res\n",
        "\n",
        "print(bfs(table,n,m))"
      ],
      "metadata": {
        "id": "mxpEDuetPt0y"
      },
      "execution_count": null,
      "outputs": []
    }
  ]
}