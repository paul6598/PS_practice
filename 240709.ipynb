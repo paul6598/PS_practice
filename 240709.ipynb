{
  "nbformat": 4,
  "nbformat_minor": 0,
  "metadata": {
    "colab": {
      "provenance": [],
      "authorship_tag": "ABX9TyP3qFXZmLkl4zLxL/A9begc",
      "include_colab_link": true
    },
    "kernelspec": {
      "name": "python3",
      "display_name": "Python 3"
    },
    "language_info": {
      "name": "python"
    }
  },
  "cells": [
    {
      "cell_type": "markdown",
      "metadata": {
        "id": "view-in-github",
        "colab_type": "text"
      },
      "source": [
        "<a href=\"https://colab.research.google.com/github/paul6598/PS_practice/blob/main/240709.ipynb\" target=\"_parent\"><img src=\"https://colab.research.google.com/assets/colab-badge.svg\" alt=\"Open In Colab\"/></a>"
      ]
    },
    {
      "cell_type": "code",
      "execution_count": 7,
      "metadata": {
        "colab": {
          "base_uri": "https://localhost:8080/"
        },
        "id": "_zMShwecX6Km",
        "outputId": "fd3a8415-c039-4332-ba30-e20cd29c0ea3"
      },
      "outputs": [
        {
          "output_type": "stream",
          "name": "stdout",
          "text": [
            "1\n",
            "1\n",
            "0 0\n",
            "1 1\n",
            "2 2\n",
            "happy\n"
          ]
        }
      ],
      "source": [
        "from collections import deque\n",
        "\n",
        "def bfs(city):\n",
        "  home = city[0]\n",
        "  fest = city[-1]\n",
        "  n = len(city)\n",
        "  visit = [False]*(n)\n",
        "  q = deque([city[0]])\n",
        "  visit[0] = True\n",
        "  while q:\n",
        "    x,y,curr = q.popleft()\n",
        "    #print(x,y,curr)\n",
        "    if [x,y,curr] == fest:\n",
        "      return True\n",
        "    else:\n",
        "      for i in range(n):\n",
        "        if not visit[city[i][2]] and abs(x-city[i][0])+abs(y-city[i][1]) <= 1000:\n",
        "          visit[city[i][2]] = True\n",
        "          q.append(city[i])\n",
        "\n",
        "  return False\n",
        "\n",
        "\n",
        "t = int(input())\n",
        "\n",
        "for _ in range(t):\n",
        "  n = int(input())\n",
        "  city = []\n",
        "  for i in range(n+2):\n",
        "    city.append(list(map(int, input().split()))+[i])\n",
        "\n",
        "  if bfs(city):\n",
        "    print(\"happy\")\n",
        "  else:\n",
        "    print(\"sad\")\n",
        ""
      ]
    },
    {
      "cell_type": "code",
      "source": [
        "from collections import deque\n",
        "\n",
        "n,m = map(int, input().split())\n",
        "start = list(map(int, input().split())) #0,1,2,3 => 북,동,남,서\n",
        "if start[2] == 1:\n",
        "  start[2] = 3\n",
        "elif start[2] == 3:\n",
        "  start[2] = 1\n",
        "\n",
        "#>>0,1,2,3 :북,서,남,동\n",
        "\n",
        "room = []\n",
        "for _ in range(n):\n",
        "  room.append(list(map(int, input().split())))\n",
        "\n",
        "def bfs(room, start):\n",
        "  clean = 1\n",
        "  dx = [0,-1,0,1]\n",
        "  dy = [-1,0,1,0]\n",
        "  n = len(room)\n",
        "  m = len(room[0])\n",
        "  visit = [[False]*m for _ in range(n)]\n",
        "  q = [start]\n",
        "  visit[start[0]][start[1]] = True\n",
        "\n",
        "  while q:\n",
        "    y,x,dir = q.pop()\n",
        "    #print(y,x,dir)\n",
        "    tf = True\n",
        "    for i in [1,2,3,0]:\n",
        "      nx = x + dx[(i+dir)%4]\n",
        "      ny = y + dy[(i+dir)%4]\n",
        "      if not visit[ny][nx] and room[ny][nx] == 0:\n",
        "        visit[ny][nx] = True\n",
        "        q.append([ny,nx,(i+dir)%4])\n",
        "        clean += 1\n",
        "        tf = False\n",
        "        break\n",
        "    if tf:\n",
        "      nx = x - dx[dir]\n",
        "      ny = y - dy[dir]\n",
        "      if room[ny][nx] == 0:\n",
        "        q.append([ny,nx,dir])\n",
        "      else:\n",
        "        return clean\n",
        "\n",
        "\n",
        "print(bfs(room, start))"
      ],
      "metadata": {
        "colab": {
          "base_uri": "https://localhost:8080/"
        },
        "id": "-IC4l-ixZ-Tg",
        "outputId": "ff27bec0-68c8-474b-bbde-2f9a6c0a9483"
      },
      "execution_count": 33,
      "outputs": [
        {
          "output_type": "stream",
          "name": "stdout",
          "text": [
            "3 3\n",
            "1 1 0\n",
            "1 1 1\n",
            "1 0 1\n",
            "1 1 1\n",
            "1\n"
          ]
        }
      ]
    },
    {
      "cell_type": "code",
      "source": [
        "from collections import deque\n",
        "\n",
        "n,m = map(int, input().split())\n",
        "start = list(map(int, input().split())) #0,1,2,3 => 북,동,남,서\n",
        "\n",
        "#room = []\n",
        "#for _ in range(n):\n",
        "#  room.append(list(map(int, input().split())))\n",
        "room =  [\n",
        "    [1, 1, 1, 1, 1, 1, 1, 1, 1, 1],\n",
        "    [1, 0, 0, 0, 0, 0, 0, 0, 0, 1],\n",
        "    [1, 0, 0, 0, 1, 1, 1, 1, 0, 1],\n",
        "    [1, 0, 0, 1, 1, 0, 0, 0, 0, 1],\n",
        "    [1, 0, 1, 1, 0, 0, 0, 0, 0, 1],\n",
        "    [1, 0, 0, 0, 0, 0, 0, 0, 0, 1],\n",
        "    [1, 0, 0, 0, 0, 0, 0, 1, 0, 1],\n",
        "    [1, 0, 0, 0, 0, 0, 1, 1, 0, 1],\n",
        "    [1, 0, 0, 0, 0, 0, 1, 1, 0, 1],\n",
        "    [1, 0, 0, 0, 0, 0, 0, 0, 0, 1],\n",
        "    [1, 1, 1, 1, 1, 1, 1, 1, 1, 1]\n",
        "]\n",
        "\n",
        "\n",
        "def bfs(room, start):\n",
        "  clean = 0\n",
        "  dx = [0,-1,0,1]\n",
        "  dy = [1,0,-1,0]\n",
        "  direction = [0,3,2,1]\n",
        "  n = len(room)\n",
        "  m = len(room[0])\n",
        "  visit = [[False]*m for _ in range(n)]\n",
        "  q = [start]\n",
        "  visit[start[0]][start[1]] = True\n",
        "  if room[start[0]][start[1]] == 0:\n",
        "    clean += 1\n",
        "\n",
        "  while q:\n",
        "    y,x,dir = q.pop()\n",
        "    print(y,x,direction[dir])\n",
        "    tf = True\n",
        "    for i in [1,2,3,0]:\n",
        "      nx = x + dx[(i+direction[dir])%4]\n",
        "      ny = y + dy[(i+direction[dir])%4]\n",
        "      if not visit[ny][nx] and room[ny][nx] == 0:\n",
        "        visit[ny][nx] = True\n",
        "        q.append([ny,nx,(i+dir)%4])\n",
        "        clean += 1\n",
        "        tf = False\n",
        "        break\n",
        "    if tf:\n",
        "      nx = x - dx[direction[dir]]\n",
        "      ny = y - dy[direction[dir]]\n",
        "      if room[ny][nx] == 0:\n",
        "        q.append([ny,nx,dir])\n",
        "      else:\n",
        "        return clean\n",
        "\n",
        "\n",
        "print(bfs(room, start))"
      ],
      "metadata": {
        "colab": {
          "base_uri": "https://localhost:8080/"
        },
        "id": "tw2jG83GfUjo",
        "outputId": "3918a47f-d5e6-4977-ab99-f06539b8b628"
      },
      "execution_count": 29,
      "outputs": [
        {
          "output_type": "stream",
          "name": "stdout",
          "text": [
            "11 10\n",
            "7 4 0\n",
            "7 4 0\n",
            "7 3 3\n",
            "8 3 2\n",
            "8 4 1\n",
            "8 5 3\n",
            "9 5 2\n",
            "9 6 1\n",
            "9 7 3\n",
            "9 8 3\n",
            "8 8 0\n",
            "7 8 2\n",
            "6 8 2\n",
            "5 8 2\n",
            "5 7 3\n",
            "5 6 1\n",
            "4 6 0\n",
            "4 5 3\n",
            "5 5 2\n",
            "6 5 0\n",
            "6 4 3\n",
            "6 3 1\n",
            "5 3 0\n",
            "5 2 3\n",
            "6 2 2\n",
            "7 2 0\n",
            "7 1 3\n",
            "8 1 2\n",
            "8 2 1\n",
            "9 2 2\n",
            "9 3 1\n",
            "9 4 3\n",
            "9 3 3\n",
            "9 2 3\n",
            "9 1 1\n",
            "9 2 1\n",
            "9 3 1\n",
            "9 4 1\n",
            "9 5 1\n",
            "9 6 1\n",
            "9 7 1\n",
            "9 8 1\n",
            "32\n"
          ]
        }
      ]
    },
    {
      "cell_type": "code",
      "source": [
        "n = int(input())\n",
        "dp = [0]*(n)\n",
        "\n",
        "consult =  []\n",
        "for _ in range(n):\n",
        "  consult.append(list(map(int, input().split())))\n",
        "\n",
        "if consult[0][0] == 1:\n",
        "  dp[0] = consult[0][1]\n",
        "\n",
        "for i in range(n): #현재 일수\n",
        "  for j in range(i): #이전 일수\n",
        "    if i-j+1 == consult[j][0]:\n",
        "      dp[i] = max(dp[i], dp[j-1]+consult[j][1])\n",
        "    else:\n",
        "      dp[i] = max(dp[i], dp[j])\n",
        "  if i >= 1 and consult[i][0] == 1:\n",
        "    dp[i] = max(dp[i], dp[i-1]+consult[i][1])\n",
        "print(dp[-1])\n",
        "\n"
      ],
      "metadata": {
        "colab": {
          "base_uri": "https://localhost:8080/"
        },
        "id": "unaUhGfLgA0X",
        "outputId": "12d181c0-770c-4542-f58d-3be5e4229590"
      },
      "execution_count": 66,
      "outputs": [
        {
          "output_type": "stream",
          "name": "stdout",
          "text": [
            "4\n",
            "1 1\n",
            "3 1\n",
            "1 1\n",
            "1 1\n",
            "3\n"
          ]
        }
      ]
    },
    {
      "cell_type": "code",
      "source": [
        "n = int(input())\n",
        "dp = [0]*(n)\n",
        "\n",
        "consult =  []\n",
        "for _ in range(n):\n",
        "  consult.append(list(map(int, input().split())))\n",
        "\n",
        "if consult[0][0] == 1:\n",
        "  dp[0] = consult[0][1]\n",
        "\n",
        "for i in range(n): #현재 일수\n",
        "  for j in range(i): #이전 일수\n",
        "    if i-j+1 == consult[j][0]:\n",
        "      dp[i] = max(dp[i], dp[j]+consult[j][1])\n",
        "    else:\n",
        "      dp[i] = max(dp[i], dp[j])\n",
        "  if i >= 1 and consult[i][0] == 1:\n",
        "    dp[i] = max(dp[i], dp[i-1]+consult[i][1])\n",
        "  print(dp)\n",
        "\n"
      ],
      "metadata": {
        "colab": {
          "base_uri": "https://localhost:8080/"
        },
        "id": "4u0uQhJrqfCE",
        "outputId": "a35b78bc-0ab5-4eac-9794-cc8d9acb9262"
      },
      "execution_count": 44,
      "outputs": [
        {
          "output_type": "stream",
          "name": "stdout",
          "text": [
            "10\n",
            "5 50\n",
            "4 40\n",
            "3 30\n",
            "2 20\n",
            "1 10\n",
            "1 10\n",
            "2 20\n",
            "3 30\n",
            "4 40\n",
            "5 50\n",
            "[0, 0, 0, 0, 0, 0, 0, 0, 0, 0]\n",
            "[0, 0, 0, 0, 0, 0, 0, 0, 0, 0]\n",
            "[0, 0, 0, 0, 0, 0, 0, 0, 0, 0]\n",
            "[0, 0, 0, 0, 0, 0, 0, 0, 0, 0]\n",
            "[0, 0, 0, 0, 50, 0, 0, 0, 0, 0]\n",
            "[0, 0, 0, 0, 50, 60, 0, 0, 0, 0]\n",
            "[0, 0, 0, 0, 50, 60, 60, 0, 0, 0]\n",
            "[0, 0, 0, 0, 50, 60, 60, 80, 0, 0]\n",
            "[0, 0, 0, 0, 50, 60, 60, 80, 80, 0]\n",
            "[0, 0, 0, 0, 50, 60, 60, 80, 80, 110]\n"
          ]
        }
      ]
    },
    {
      "cell_type": "code",
      "source": [
        "    [3, 10],\n",
        "    [5, 20],\n",
        "    [1, 10],\n",
        "    [1, 20],\n",
        "    [2, 15],\n",
        "    [4, 40],\n",
        "    [2, 200]"
      ],
      "metadata": {
        "id": "DkhOtWMZ9AJr"
      },
      "execution_count": null,
      "outputs": []
    }
  ]
}