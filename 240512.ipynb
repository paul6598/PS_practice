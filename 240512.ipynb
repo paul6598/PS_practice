{
  "nbformat": 4,
  "nbformat_minor": 0,
  "metadata": {
    "colab": {
      "provenance": [],
      "authorship_tag": "ABX9TyOszo7CfjI9DBWH50ig7Z54",
      "include_colab_link": true
    },
    "kernelspec": {
      "name": "python3",
      "display_name": "Python 3"
    },
    "language_info": {
      "name": "python"
    }
  },
  "cells": [
    {
      "cell_type": "markdown",
      "metadata": {
        "id": "view-in-github",
        "colab_type": "text"
      },
      "source": [
        "<a href=\"https://colab.research.google.com/github/paul6598/PS_practice/blob/main/240512.ipynb\" target=\"_parent\"><img src=\"https://colab.research.google.com/assets/colab-badge.svg\" alt=\"Open In Colab\"/></a>"
      ]
    },
    {
      "cell_type": "code",
      "execution_count": null,
      "metadata": {
        "id": "iSHi-rdhhHL1",
        "colab": {
          "base_uri": "https://localhost:8080/"
        },
        "outputId": "e76bdb00-c8d5-44f8-df50-77280ad7d726"
      },
      "outputs": [
        {
          "output_type": "stream",
          "name": "stdout",
          "text": [
            "5 2\n",
            "1 2 \n",
            "1 3 \n",
            "1 4 \n",
            "1 5 \n",
            "2 3 \n",
            "2 4 \n",
            "2 5 \n",
            "3 4 \n",
            "3 5 \n",
            "4 5 \n"
          ]
        }
      ],
      "source": [
        "from collections import deque\n",
        "n, m = map(int, input().split())\n",
        "\n",
        "stack = deque([[[i],1] for i in range(1,n+1)])\n",
        "\n",
        "while stack:\n",
        "  seri, depth = stack.popleft()\n",
        "  if depth == m:\n",
        "    for i in range(m):\n",
        "      print(seri[i], end = \" \")\n",
        "    print()\n",
        "\n",
        "  else:\n",
        "    for i in range(seri[-1]+1,n+1):\n",
        "      stack.append([seri+[i], depth+1])\n",
        "\n"
      ]
    },
    {
      "cell_type": "code",
      "source": [
        "from collections import deque\n",
        "n, m = map(int, input().split())\n",
        "\n",
        "input_ = list(map(int, input().split()))\n",
        "input_.sort()\n",
        "#print(input_)\n",
        "stack = deque([[[input_[i]],i,1] for i in range(n)])\n",
        "\n",
        "\n",
        "while stack:\n",
        "  #print(stack)\n",
        "  seri, index, depth = stack.popleft()\n",
        "  if depth == m:\n",
        "    for i in range(m):\n",
        "      print(seri[i], end = \" \")\n",
        "    print()\n",
        "\n",
        "  else:\n",
        "    for i in range(n):\n",
        "      if input_[i] not in seri:\n",
        "        stack.append([seri+[input_[i]],i ,depth+1])\n",
        "\n"
      ],
      "metadata": {
        "colab": {
          "base_uri": "https://localhost:8080/"
        },
        "id": "clOWlCjiqIdJ",
        "outputId": "b4d5e6e7-0ef7-483b-f80b-77088f939d3e"
      },
      "execution_count": null,
      "outputs": [
        {
          "output_type": "stream",
          "name": "stdout",
          "text": [
            "4 2\n",
            "9 8 7 1\n",
            "1 7 \n",
            "1 8 \n",
            "1 9 \n",
            "7 1 \n",
            "7 8 \n",
            "7 9 \n",
            "8 1 \n",
            "8 7 \n",
            "8 9 \n",
            "9 1 \n",
            "9 7 \n",
            "9 8 \n"
          ]
        }
      ]
    },
    {
      "cell_type": "code",
      "source": [
        "from collections import deque\n",
        "n, m = map(int, input().split())\n",
        "\n",
        "input_ = list(map(int, input().split()))\n",
        "input_.sort()\n",
        "#print(input_)\n",
        "stack = deque([[[input_[i]],i,1] for i in range(n)])\n",
        "\n",
        "res = []\n",
        "\n",
        "while stack:\n",
        "  #print(stack)\n",
        "  seri, index, depth = stack.popleft()\n",
        "  if depth == m:\n",
        "    if (len(res) != 0 and res[-1] != seri) or len(res) == 0:\n",
        "      res.append(seri)\n",
        "  else:\n",
        "    for i in range(n):\n",
        "      if input_[i] not in seri:\n",
        "        stack.append([seri+[input_[i]],i ,depth+1])\n",
        "\n",
        "\n",
        "for seri in res:\n",
        "  for i in range(m):\n",
        "    print(seri[i], end = \" \")\n",
        "  print()"
      ],
      "metadata": {
        "colab": {
          "base_uri": "https://localhost:8080/"
        },
        "id": "PodmEbl7sUEE",
        "outputId": "cdff18fe-ce43-40aa-f54c-5591f997d7bf"
      },
      "execution_count": null,
      "outputs": [
        {
          "name": "stdout",
          "output_type": "stream",
          "text": [
            "4 4\n",
            "1 1 1 1\n"
          ]
        }
      ]
    },
    {
      "cell_type": "code",
      "source": [],
      "metadata": {
        "id": "K0XUcNMSu1B7"
      },
      "execution_count": null,
      "outputs": []
    },
    {
      "cell_type": "code",
      "source": [],
      "metadata": {
        "id": "M642NevEwGaD"
      },
      "execution_count": null,
      "outputs": []
    }
  ]
}