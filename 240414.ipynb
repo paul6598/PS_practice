{
  "nbformat": 4,
  "nbformat_minor": 0,
  "metadata": {
    "colab": {
      "provenance": [],
      "authorship_tag": "ABX9TyNKOp+Wp05YfvgD3rbl8+0F",
      "include_colab_link": true
    },
    "kernelspec": {
      "name": "python3",
      "display_name": "Python 3"
    },
    "language_info": {
      "name": "python"
    }
  },
  "cells": [
    {
      "cell_type": "markdown",
      "metadata": {
        "id": "view-in-github",
        "colab_type": "text"
      },
      "source": [
        "<a href=\"https://colab.research.google.com/github/paul6598/PS_practice/blob/main/240414.ipynb\" target=\"_parent\"><img src=\"https://colab.research.google.com/assets/colab-badge.svg\" alt=\"Open In Colab\"/></a>"
      ]
    },
    {
      "cell_type": "code",
      "source": [
        "import sys\n",
        "input = sys.stdin.readline"
      ],
      "metadata": {
        "id": "Ahej9aBuyNEA"
      },
      "execution_count": null,
      "outputs": []
    },
    {
      "cell_type": "code",
      "execution_count": 7,
      "metadata": {
        "colab": {
          "base_uri": "https://localhost:8080/"
        },
        "id": "ARb3BjC3q0EO",
        "outputId": "5ab6fcba-93cd-4a30-937f-d2b7872baacf"
      },
      "outputs": [
        {
          "output_type": "stream",
          "name": "stdout",
          "text": [
            "100000000\n",
            "788888898\n"
          ]
        }
      ],
      "source": [
        "n = int(input())\n",
        "def solution(n):\n",
        "  digit = 9\n",
        "  num = 1\n",
        "  res = 0\n",
        "\n",
        "  while True:\n",
        "    if digit >= n:\n",
        "      res += n*num\n",
        "      return res\n",
        "    else: #digit < n\n",
        "      res += digit*num\n",
        "      n -= digit\n",
        "      digit *= 10\n",
        "      num += 1\n",
        "\n",
        "print(solution(n))"
      ]
    },
    {
      "cell_type": "code",
      "source": [
        "from collections import deque\n",
        "\n",
        "def bfs(width, init_y, init_x, dest_y, dest_x):\n",
        "  dy = [1,2,2,1,-1,-2,-2,-1]\n",
        "  dx = [-2,-1,1,2,2,1,-1,-2]\n",
        "\n",
        "  visit = [[0]*width for _ in range(width)]\n",
        "  visit[init_y][init_x] = 1\n",
        "  q = deque([[init_y,init_x,0]])\n",
        "  while q:\n",
        "    curr_y, curr_x, moves = q.popleft()\n",
        "    for i in range(8):\n",
        "      next_y, next_x = curr_y+dy[i], curr_x+dx[i]\n",
        "      if 0<=next_y<width and 0<=next_x<width and visit[next_y][next_x] == 0:\n",
        "        if next_y == dest_y and next_x == dest_x:\n",
        "          return moves+1\n",
        "        q.append([next_y, next_x, moves+1])\n",
        "        visit[next_y][next_x] = 1\n",
        "\n",
        "t = int(input())\n",
        "for _ in range(t):\n",
        "  width = int(input())\n",
        "  init_y, init_x = map(int, input().split())\n",
        "  dest_y, dest_x = map(int, input().split())\n",
        "  if init_y == dest_y and init_x == dest_x:\n",
        "    print(0)\n",
        "  else:\n",
        "    print(bfs(width, init_y, init_x, dest_y, dest_x))\n"
      ],
      "metadata": {
        "colab": {
          "base_uri": "https://localhost:8080/"
        },
        "id": "GF5Pz7TduWoO",
        "outputId": "4c209a8f-ab52-4961-d6ba-2cd25fba933c"
      },
      "execution_count": 8,
      "outputs": [
        {
          "output_type": "stream",
          "name": "stdout",
          "text": [
            "3\n",
            "8\n",
            "0 0\n",
            "7 0\n",
            "5\n",
            "100\n",
            "0 0\n",
            "30 50\n",
            "28\n",
            "10\n",
            "1 1\n",
            "1 1\n",
            "0\n"
          ]
        }
      ]
    },
    {
      "cell_type": "code",
      "source": [],
      "metadata": {
        "id": "n5cPj2gV6Mof"
      },
      "execution_count": null,
      "outputs": []
    },
    {
      "cell_type": "code",
      "source": [
        "r,c = map(int, input().split())\n",
        "table = []\n",
        "for _ in range(r):\n",
        "  temp = []\n",
        "  row = input()\n",
        "  for i in row:\n",
        "    if i==\"S\":\n",
        "      temp.append(1)\n",
        "    elif i == \"W\":\n",
        "      temp.append(2)\n",
        "    else:\n",
        "      temp.append(0)\n",
        "\n",
        "  table.append(temp)\n",
        "\n",
        "def adh(table, r,c):\n",
        "  dx = [0,0,1,-1]\n",
        "  dy = [1,-1,0,0]\n",
        "  for i in range(r):\n",
        "    for j in range(c):\n",
        "      if table[i][j] == 1:\n",
        "        for k in range(4):\n",
        "          y = i+dy[k]\n",
        "          x = j+dx[k]\n",
        "          if 0<=y<r and 0<=x<c:\n",
        "            if table[y][x] == 2:\n",
        "              return 0\n",
        "            elif table[y][x] == 0:\n",
        "              table[y][x] = 3\n",
        "  return table\n",
        "\n",
        "result = adh(table,r,c)\n",
        "if result == 0:\n",
        "  print(0)\n",
        "else:\n",
        "  print(1)\n",
        "  for i in range(r):\n",
        "    for j in range(c):\n",
        "      if table[i][j] == 0:\n",
        "        print(\".\", end = \"\")\n",
        "      elif table[i][j] == 1:\n",
        "        print(\"S\", end = \"\")\n",
        "      elif table[i][j] == 2:\n",
        "        print(\"W\", end = \"\")\n",
        "      else:\n",
        "        print(\"D\", end = \"\")\n",
        "    print(\"\")"
      ],
      "metadata": {
        "colab": {
          "base_uri": "https://localhost:8080/"
        },
        "id": "e_Hm1yZsyBeo",
        "outputId": "ccc0720f-823a-4996-d801-28501ec1a38b"
      },
      "execution_count": 12,
      "outputs": [
        {
          "output_type": "stream",
          "name": "stdout",
          "text": [
            "1 2\n",
            "SW\n",
            "0\n"
          ]
        }
      ]
    }
  ]
}