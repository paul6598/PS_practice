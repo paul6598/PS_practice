{
  "nbformat": 4,
  "nbformat_minor": 0,
  "metadata": {
    "colab": {
      "provenance": [],
      "authorship_tag": "ABX9TyNDIRaWOd9UizsgoWvzOt1g",
      "include_colab_link": true
    },
    "kernelspec": {
      "name": "python3",
      "display_name": "Python 3"
    },
    "language_info": {
      "name": "python"
    }
  },
  "cells": [
    {
      "cell_type": "markdown",
      "metadata": {
        "id": "view-in-github",
        "colab_type": "text"
      },
      "source": [
        "<a href=\"https://colab.research.google.com/github/paul6598/PS_practice/blob/main/240803.ipynb\" target=\"_parent\"><img src=\"https://colab.research.google.com/assets/colab-badge.svg\" alt=\"Open In Colab\"/></a>"
      ]
    },
    {
      "cell_type": "code",
      "source": [
        "import sys\n",
        "input = sys.stdin.readline"
      ],
      "metadata": {
        "id": "WxFyrAwqtIt5"
      },
      "execution_count": null,
      "outputs": []
    },
    {
      "cell_type": "code",
      "execution_count": 11,
      "metadata": {
        "colab": {
          "base_uri": "https://localhost:8080/"
        },
        "id": "MwaevCOWk1pc",
        "outputId": "a0cee2ac-d35b-4330-b722-d91247644748"
      },
      "outputs": [
        {
          "output_type": "stream",
          "name": "stdout",
          "text": [
            "2\n",
            "4 4\n",
            "10 1 100 10\n",
            "1 2\n",
            "1 3\n",
            "2 4\n",
            "3 4\n",
            "4\n",
            "[0, 10, 0, 0, 0]\n",
            "120\n",
            "8 8\n",
            "10 20 1 5 8 7 1 43\n",
            "1 2\n",
            "1 3\n",
            "2 4\n",
            "2 5\n",
            "3 6\n",
            "5 7\n",
            "6 7\n",
            "7 8\n",
            "7\n",
            "[0, 10, 0, 0, 0, 0, 0, 0, 0]\n",
            "39\n"
          ]
        }
      ],
      "source": [
        "from collections import deque\n",
        "\n",
        "def topo(graph, times, goal):\n",
        "  n = len(graph)\n",
        "  indegree = {i:0 for i in graph}\n",
        "  for u in graph:\n",
        "    for v in graph[u]:\n",
        "      indegree[v] += 1\n",
        "\n",
        "  dp = [0]+[times[i-1] if indegree[i] == 0 else 0 for i in range(1,n+1)]\n",
        "  que = deque([i for i in graph if indegree[i] == 0])\n",
        "  while que:\n",
        "    u = que.popleft()\n",
        "    for v in graph[u]:\n",
        "      indegree[v] -= 1\n",
        "      dp[v] = max(dp[u]+times[v-1], dp[v])\n",
        "      if indegree[v] == 0:\n",
        "        que.append(v)\n",
        "  return dp[goal]\n",
        "\n",
        "t = int(input())\n",
        "for _ in range(t):\n",
        "  n,k = map(int, input().split())\n",
        "  times = list(map(int, input().split()))\n",
        "\n",
        "  graph = {i:[] for i in range(1,n+1)}\n",
        "  for _ in range(k):\n",
        "    a,b = map(int, input().split())\n",
        "    graph[a].append(b)\n",
        "\n",
        "  goal = int(input())\n",
        "  print(topo(graph, times, goal))\n",
        "\n",
        "\n"
      ]
    },
    {
      "cell_type": "code",
      "source": [
        "def dist(x, y, cx, cy, r):\n",
        "  if (cx-x)**2+(cy-y)**2 < r**2:\n",
        "    return True\n",
        "  else:\n",
        "    return False\n",
        "\n",
        "def inner_planet(prince, cx,cy,r):\n",
        "  x1, y1, x2, y2 = prince\n",
        "  if dist(x1,y1,cx, cy, r) ^ dist(x2,y2,cx, cy, r):\n",
        "    return True\n",
        "  else:\n",
        "    return False\n",
        "\n",
        "t = int(input())\n",
        "for _ in range(t):\n",
        "  prince = list(map(int, input().split()))\n",
        "  n = int(input())\n",
        "  res = 0\n",
        "  for _ in range(n):\n",
        "    cx, cy, r = map(int, input().split())\n",
        "    if inner_planet(prince, cx, cy, r):\n",
        "      res += 1\n",
        "  print(res)"
      ],
      "metadata": {
        "colab": {
          "base_uri": "https://localhost:8080/"
        },
        "id": "2V3rQU-iopMt",
        "outputId": "aaade832-deef-4b41-a0e4-78c113457099"
      },
      "execution_count": 14,
      "outputs": [
        {
          "output_type": "stream",
          "name": "stdout",
          "text": [
            "2\n",
            "-5 1 12 1\n",
            "7\n",
            "1 1 8\n",
            "-3 -1 1\n",
            "2 2 2\n",
            "5 5 1\n",
            "-4 5 1\n",
            "12 1 1\n",
            "12 1 2\n",
            "3\n",
            "-5 1 5 1\n",
            "1\n",
            "0 0 2\n",
            "0\n"
          ]
        }
      ]
    },
    {
      "cell_type": "code",
      "source": [
        "prince"
      ],
      "metadata": {
        "colab": {
          "base_uri": "https://localhost:8080/"
        },
        "id": "t_ww97VYpscn",
        "outputId": "0efd81c4-5ae2-461d-891b-738dd3c5179c"
      },
      "execution_count": 13,
      "outputs": [
        {
          "output_type": "execute_result",
          "data": {
            "text/plain": [
              "<map at 0x7a9ca3d8b970>"
            ]
          },
          "metadata": {},
          "execution_count": 13
        }
      ]
    },
    {
      "cell_type": "code",
      "source": [
        "print(0 ^ 0)\n",
        "print(1 ^ 0)\n",
        "print(0 ^ 1)\n",
        "print(1 ^ 1)"
      ],
      "metadata": {
        "colab": {
          "base_uri": "https://localhost:8080/"
        },
        "id": "aH5627vTtXyP",
        "outputId": "bb3d7970-b2d5-42a4-bd46-f7594ba94749"
      },
      "execution_count": 19,
      "outputs": [
        {
          "output_type": "stream",
          "name": "stdout",
          "text": [
            "0\n",
            "1\n",
            "1\n",
            "0\n"
          ]
        }
      ]
    },
    {
      "cell_type": "code",
      "source": [
        "def mobis(str_):\n",
        "  mob = [\"M\",\"O\",\"B\",\"I\",\"S\"]\n",
        "  for i in mob:\n",
        "    if not i in str_:\n",
        "      return False\n",
        "  return True\n",
        "\n",
        "str_ = input()\n",
        "if mobis(str_):\n",
        "  print(\"YES\")\n",
        "else:\n",
        "  print(\"NO\")"
      ],
      "metadata": {
        "colab": {
          "base_uri": "https://localhost:8080/"
        },
        "id": "bShzJd5mt5bO",
        "outputId": "9c0baa73-962e-4ab3-bd85-e3102b7d5768"
      },
      "execution_count": 20,
      "outputs": [
        {
          "output_type": "execute_result",
          "data": {
            "text/plain": [
              "0"
            ]
          },
          "metadata": {},
          "execution_count": 20
        }
      ]
    },
    {
      "cell_type": "code",
      "source": [
        "def sol(music):\n",
        "  a = [\"A\",\"D\",\"E\"]\n",
        "  c = [\"C\",\"F\",\"G\"]\n",
        "  num_a = 0\n",
        "  num_c = 0\n",
        "  music_list = music.split(\"|\")\n",
        "  for i in music_list:\n",
        "    if i[0] in a:\n",
        "      num_a += 1\n",
        "    elif i[0] in c:\n",
        "      num_c += 1\n",
        "  if num_a > num_c:\n",
        "    return \"A-major\"\n",
        "  elif num_c > num_a:\n",
        "    return \"C-minor\"\n",
        "  else:\n",
        "    if music[-1] in a:\n",
        "      return \"A-minor\"\n",
        "    else:\n",
        "      return \"C-major\"\n",
        "music = input()\n",
        "print(sol(music))"
      ],
      "metadata": {
        "colab": {
          "base_uri": "https://localhost:8080/"
        },
        "id": "PMh-F8PVvSZN",
        "outputId": "20e431d8-fa51-4e11-f5a3-75a22e6b9658"
      },
      "execution_count": 24,
      "outputs": [
        {
          "output_type": "stream",
          "name": "stdout",
          "text": [
            "CD|EC|CD|EC|EF|G|EF|G|GAGF|EC|GAGF|EC|CG|C|CG|C\n",
            "A-minor\n"
          ]
        }
      ]
    },
    {
      "cell_type": "code",
      "source": [
        "a = \"CD|EC|CD|EC|EF|G|EF|G|GAGF|EC|GAGF|EC|CG|C|CG|C\"\n",
        "music_list = a.split(\"|\")\n",
        "print(music_list)"
      ],
      "metadata": {
        "colab": {
          "base_uri": "https://localhost:8080/"
        },
        "id": "GgSiP0l3zshl",
        "outputId": "a860f55f-e057-4cf1-eafb-b2a3740d4062"
      },
      "execution_count": 21,
      "outputs": [
        {
          "output_type": "stream",
          "name": "stdout",
          "text": [
            "['CD', 'EC', 'CD', 'EC', 'EF', 'G', 'EF', 'G', 'GAGF', 'EC', 'GAGF', 'EC', 'CG', 'C', 'CG', 'C']\n"
          ]
        }
      ]
    },
    {
      "cell_type": "code",
      "source": [
        "t = int(input())\n",
        "ratio = [12,12*60,12*60*60,12*60*60*100]\n",
        "for j in range(t):\n",
        "  a = list(map(int, input().split()))\n",
        "  b = list(map(int, input().split()))\n",
        "  rad = float(input())\n",
        "  ra = 0\n",
        "  rb = 0\n",
        "  for i in range(4):\n",
        "    ra += a[i]/ratio[i]\n",
        "    rb += b[i]/ratio[i]\n",
        "  print(str(j+1)+\".\",format(round(math.pi*(rb-ra)*(rad)**2,3),\".3f\"))"
      ],
      "metadata": {
        "colab": {
          "base_uri": "https://localhost:8080/",
          "height": 483
        },
        "id": "DgNJ4Mdbzx-p",
        "outputId": "c978bd3e-de88-465e-9dcd-4df7ede082f7"
      },
      "execution_count": 37,
      "outputs": [
        {
          "output_type": "stream",
          "name": "stdout",
          "text": [
            "2\n",
            "0 0 0 0\n",
            "11 50 2 31\n",
            "3\n",
            "1. 27.883\n"
          ]
        },
        {
          "output_type": "error",
          "ename": "KeyboardInterrupt",
          "evalue": "Interrupted by user",
          "traceback": [
            "\u001b[0;31m---------------------------------------------------------------------------\u001b[0m",
            "\u001b[0;31mKeyboardInterrupt\u001b[0m                         Traceback (most recent call last)",
            "\u001b[0;32m<ipython-input-37-91f88cf1c8c8>\u001b[0m in \u001b[0;36m<cell line: 3>\u001b[0;34m()\u001b[0m\n\u001b[1;32m      2\u001b[0m \u001b[0mratio\u001b[0m \u001b[0;34m=\u001b[0m \u001b[0;34m[\u001b[0m\u001b[0;36m12\u001b[0m\u001b[0;34m,\u001b[0m\u001b[0;36m12\u001b[0m\u001b[0;34m*\u001b[0m\u001b[0;36m60\u001b[0m\u001b[0;34m,\u001b[0m\u001b[0;36m12\u001b[0m\u001b[0;34m*\u001b[0m\u001b[0;36m60\u001b[0m\u001b[0;34m*\u001b[0m\u001b[0;36m60\u001b[0m\u001b[0;34m,\u001b[0m\u001b[0;36m12\u001b[0m\u001b[0;34m*\u001b[0m\u001b[0;36m60\u001b[0m\u001b[0;34m*\u001b[0m\u001b[0;36m60\u001b[0m\u001b[0;34m*\u001b[0m\u001b[0;36m100\u001b[0m\u001b[0;34m]\u001b[0m\u001b[0;34m\u001b[0m\u001b[0;34m\u001b[0m\u001b[0m\n\u001b[1;32m      3\u001b[0m \u001b[0;32mfor\u001b[0m \u001b[0mj\u001b[0m \u001b[0;32min\u001b[0m \u001b[0mrange\u001b[0m\u001b[0;34m(\u001b[0m\u001b[0mt\u001b[0m\u001b[0;34m)\u001b[0m\u001b[0;34m:\u001b[0m\u001b[0;34m\u001b[0m\u001b[0;34m\u001b[0m\u001b[0m\n\u001b[0;32m----> 4\u001b[0;31m   \u001b[0ma\u001b[0m \u001b[0;34m=\u001b[0m \u001b[0mlist\u001b[0m\u001b[0;34m(\u001b[0m\u001b[0mmap\u001b[0m\u001b[0;34m(\u001b[0m\u001b[0mint\u001b[0m\u001b[0;34m,\u001b[0m \u001b[0minput\u001b[0m\u001b[0;34m(\u001b[0m\u001b[0;34m)\u001b[0m\u001b[0;34m.\u001b[0m\u001b[0msplit\u001b[0m\u001b[0;34m(\u001b[0m\u001b[0;34m)\u001b[0m\u001b[0;34m)\u001b[0m\u001b[0;34m)\u001b[0m\u001b[0;34m\u001b[0m\u001b[0;34m\u001b[0m\u001b[0m\n\u001b[0m\u001b[1;32m      5\u001b[0m   \u001b[0mb\u001b[0m \u001b[0;34m=\u001b[0m \u001b[0mlist\u001b[0m\u001b[0;34m(\u001b[0m\u001b[0mmap\u001b[0m\u001b[0;34m(\u001b[0m\u001b[0mint\u001b[0m\u001b[0;34m,\u001b[0m \u001b[0minput\u001b[0m\u001b[0;34m(\u001b[0m\u001b[0;34m)\u001b[0m\u001b[0;34m.\u001b[0m\u001b[0msplit\u001b[0m\u001b[0;34m(\u001b[0m\u001b[0;34m)\u001b[0m\u001b[0;34m)\u001b[0m\u001b[0;34m)\u001b[0m\u001b[0;34m\u001b[0m\u001b[0;34m\u001b[0m\u001b[0m\n\u001b[1;32m      6\u001b[0m   \u001b[0mrad\u001b[0m \u001b[0;34m=\u001b[0m \u001b[0mfloat\u001b[0m\u001b[0;34m(\u001b[0m\u001b[0minput\u001b[0m\u001b[0;34m(\u001b[0m\u001b[0;34m)\u001b[0m\u001b[0;34m)\u001b[0m\u001b[0;34m\u001b[0m\u001b[0;34m\u001b[0m\u001b[0m\n",
            "\u001b[0;32m/usr/local/lib/python3.10/dist-packages/ipykernel/kernelbase.py\u001b[0m in \u001b[0;36mraw_input\u001b[0;34m(self, prompt)\u001b[0m\n\u001b[1;32m    849\u001b[0m                 \u001b[0;34m\"raw_input was called, but this frontend does not support input requests.\"\u001b[0m\u001b[0;34m\u001b[0m\u001b[0;34m\u001b[0m\u001b[0m\n\u001b[1;32m    850\u001b[0m             )\n\u001b[0;32m--> 851\u001b[0;31m         return self._input_request(str(prompt),\n\u001b[0m\u001b[1;32m    852\u001b[0m             \u001b[0mself\u001b[0m\u001b[0;34m.\u001b[0m\u001b[0m_parent_ident\u001b[0m\u001b[0;34m,\u001b[0m\u001b[0;34m\u001b[0m\u001b[0;34m\u001b[0m\u001b[0m\n\u001b[1;32m    853\u001b[0m             \u001b[0mself\u001b[0m\u001b[0;34m.\u001b[0m\u001b[0m_parent_header\u001b[0m\u001b[0;34m,\u001b[0m\u001b[0;34m\u001b[0m\u001b[0;34m\u001b[0m\u001b[0m\n",
            "\u001b[0;32m/usr/local/lib/python3.10/dist-packages/ipykernel/kernelbase.py\u001b[0m in \u001b[0;36m_input_request\u001b[0;34m(self, prompt, ident, parent, password)\u001b[0m\n\u001b[1;32m    893\u001b[0m             \u001b[0;32mexcept\u001b[0m \u001b[0mKeyboardInterrupt\u001b[0m\u001b[0;34m:\u001b[0m\u001b[0;34m\u001b[0m\u001b[0;34m\u001b[0m\u001b[0m\n\u001b[1;32m    894\u001b[0m                 \u001b[0;31m# re-raise KeyboardInterrupt, to truncate traceback\u001b[0m\u001b[0;34m\u001b[0m\u001b[0;34m\u001b[0m\u001b[0m\n\u001b[0;32m--> 895\u001b[0;31m                 \u001b[0;32mraise\u001b[0m \u001b[0mKeyboardInterrupt\u001b[0m\u001b[0;34m(\u001b[0m\u001b[0;34m\"Interrupted by user\"\u001b[0m\u001b[0;34m)\u001b[0m \u001b[0;32mfrom\u001b[0m \u001b[0;32mNone\u001b[0m\u001b[0;34m\u001b[0m\u001b[0;34m\u001b[0m\u001b[0m\n\u001b[0m\u001b[1;32m    896\u001b[0m             \u001b[0;32mexcept\u001b[0m \u001b[0mException\u001b[0m \u001b[0;32mas\u001b[0m \u001b[0me\u001b[0m\u001b[0;34m:\u001b[0m\u001b[0;34m\u001b[0m\u001b[0;34m\u001b[0m\u001b[0m\n\u001b[1;32m    897\u001b[0m                 \u001b[0mself\u001b[0m\u001b[0;34m.\u001b[0m\u001b[0mlog\u001b[0m\u001b[0;34m.\u001b[0m\u001b[0mwarning\u001b[0m\u001b[0;34m(\u001b[0m\u001b[0;34m\"Invalid Message:\"\u001b[0m\u001b[0;34m,\u001b[0m \u001b[0mexc_info\u001b[0m\u001b[0;34m=\u001b[0m\u001b[0;32mTrue\u001b[0m\u001b[0;34m)\u001b[0m\u001b[0;34m\u001b[0m\u001b[0;34m\u001b[0m\u001b[0m\n",
            "\u001b[0;31mKeyboardInterrupt\u001b[0m: Interrupted by user"
          ]
        }
      ]
    },
    {
      "cell_type": "code",
      "source": [
        "print(format(1, '.3f'))"
      ],
      "metadata": {
        "colab": {
          "base_uri": "https://localhost:8080/"
        },
        "id": "Yciw70St2Qwd",
        "outputId": "ac7aaeb6-ecdb-4007-9a82-da4e0ad6fa05"
      },
      "execution_count": 36,
      "outputs": [
        {
          "output_type": "stream",
          "name": "stdout",
          "text": [
            "1.000\n"
          ]
        }
      ]
    },
    {
      "cell_type": "code",
      "source": [
        "import math"
      ],
      "metadata": {
        "id": "F5dWxCDw4Bgz"
      },
      "execution_count": 28,
      "outputs": []
    },
    {
      "cell_type": "code",
      "source": [
        "ratio = [12,12*60,12*60*60,12*60*60*100]\n",
        "a = [4,10,20,55]\n",
        "b = [8,30,5,10]\n",
        "\n",
        "\n",
        "for i in range(4):\n",
        "  ra += a[i]/ratio[i]\n",
        "  rb += b[i]/ratio[i]\n",
        "print(ra)\n",
        "print(rb)\n",
        "\n",
        "print(rb-ra)\n",
        "\n",
        "print(round(math.pi*(rb-ra)*(20.5)**2,3))"
      ],
      "metadata": {
        "colab": {
          "base_uri": "https://localhost:8080/"
        },
        "id": "JxXzWvrW2T51",
        "outputId": "f55e5c93-6798-4c51-8f97-ce08ff79d39a"
      },
      "execution_count": 31,
      "outputs": [
        {
          "output_type": "stream",
          "name": "stdout",
          "text": [
            "0.3476979166666666\n",
            "0.7084513888888888\n",
            "0.3607534722222222\n",
            "476.286\n"
          ]
        }
      ]
    },
    {
      "cell_type": "code",
      "source": [
        "for _ in range(int(input())):\n",
        "  n = int(input())\n",
        "  note1 = set(map(int,input().split()))\n",
        "  m = int(input())\n",
        "  note2 = list(map(int,input().split()))\n",
        "\n",
        "  for i in range(m):\n",
        "    if note2[i] in note1:\n",
        "      print(1)\n",
        "    else:\n",
        "      print(0)"
      ],
      "metadata": {
        "colab": {
          "base_uri": "https://localhost:8080/"
        },
        "id": "GNnTWP3c36sz",
        "outputId": "c7ce2bcd-236c-441f-9001-b9ad51bbab1a"
      },
      "execution_count": 38,
      "outputs": [
        {
          "output_type": "stream",
          "name": "stdout",
          "text": [
            "1\n",
            "5\n",
            "4 1 5 2 3\n",
            "5\n",
            "1 3 7 9 5\n",
            "1\n",
            "1\n",
            "0\n",
            "0\n",
            "1\n"
          ]
        }
      ]
    },
    {
      "cell_type": "code",
      "source": [
        "\n",
        "def sol(word, dic):\n",
        "  gather = ['a','e','o','i','u']\n",
        "  tail1 = [\"o\", \"s\", \"x\"]\n",
        "  tail2 = [\"ch\",\"sh\"]\n",
        "  if word in dic:\n",
        "    return dic[word]\n",
        "  elif len(word) >= 2 and word[-1] == \"y\" and word[-2] not in gather:\n",
        "    return word[:-1]+\"ies\"\n",
        "  elif word[-1] in tail1:\n",
        "    return word+\"es\"\n",
        "  elif len(word) >= 2 and word[-2:] in tail2:\n",
        "    return word+\"es\"\n",
        "  else:\n",
        "    return word+\"s\"\n",
        "\n",
        "l,n = map(int,input().split())\n",
        "dic = {}\n",
        "for _ in range(l):\n",
        "  a,b = input().split()\n",
        "  dic[a] = b\n",
        "\n",
        "\n",
        "for _ in range(n):\n",
        "  word = input()\n",
        "  print(sol(word, dic))"
      ],
      "metadata": {
        "colab": {
          "base_uri": "https://localhost:8080/"
        },
        "id": "hb113dir7JlQ",
        "outputId": "79a01275-6793-4d4b-cfeb-63010ffff3d9"
      },
      "execution_count": 39,
      "outputs": [
        {
          "output_type": "stream",
          "name": "stdout",
          "text": [
            "asd\n"
          ]
        }
      ]
    },
    {
      "cell_type": "code",
      "source": [
        "a = \"asdf\"\n",
        "print(a[-2:])\n"
      ],
      "metadata": {
        "colab": {
          "base_uri": "https://localhost:8080/"
        },
        "id": "6TlUmXef7kwY",
        "outputId": "51ffc4a1-9c8c-448c-b394-bbcc35f09b9e"
      },
      "execution_count": 40,
      "outputs": [
        {
          "output_type": "stream",
          "name": "stdout",
          "text": [
            "df\n"
          ]
        }
      ]
    },
    {
      "cell_type": "code",
      "source": [
        "i = 1\n",
        "n = 1\n",
        "while n <= 1000000:\n",
        "  for j in range(i+1):\n",
        "    n += 1\n",
        "  i += 1\n",
        "\n",
        "print(n,i)"
      ],
      "metadata": {
        "colab": {
          "base_uri": "https://localhost:8080/"
        },
        "id": "MzZWSosZ9Ppv",
        "outputId": "207ec775-7d5f-4f68-8974-016a69fc3ffb"
      },
      "execution_count": 45,
      "outputs": [
        {
          "output_type": "stream",
          "name": "stdout",
          "text": [
            "1000405 1414\n"
          ]
        }
      ]
    },
    {
      "cell_type": "code",
      "source": [
        "def sol(n):\n",
        "  i = 0\n",
        "  k = 2\n",
        "  while i < n:\n",
        "    i += k\n",
        "    k += 1\n",
        "  return k-2\n",
        "\n",
        "\n",
        "for _ in range(int(input())):\n",
        "  n = int(input())\n",
        "  print(sol(n))"
      ],
      "metadata": {
        "colab": {
          "base_uri": "https://localhost:8080/"
        },
        "id": "ZjGWpzPdA3Ta",
        "outputId": "31405e57-92b4-48cd-f1cf-16f71d392399"
      },
      "execution_count": 49,
      "outputs": [
        {
          "output_type": "stream",
          "name": "stdout",
          "text": [
            "4\n",
            "1\n",
            "1\n",
            "2\n",
            "1\n",
            "100\n",
            "13\n",
            "1000000\n",
            "1413\n"
          ]
        }
      ]
    },
    {
      "cell_type": "code",
      "source": [],
      "metadata": {
        "id": "1HGeLjv8C6ng"
      },
      "execution_count": null,
      "outputs": []
    }
  ]
}