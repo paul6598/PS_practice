{
  "nbformat": 4,
  "nbformat_minor": 0,
  "metadata": {
    "colab": {
      "provenance": [],
      "authorship_tag": "ABX9TyPCtLyH+Yz/jTA8ofPElTiQ",
      "include_colab_link": true
    },
    "kernelspec": {
      "name": "python3",
      "display_name": "Python 3"
    },
    "language_info": {
      "name": "python"
    }
  },
  "cells": [
    {
      "cell_type": "markdown",
      "metadata": {
        "id": "view-in-github",
        "colab_type": "text"
      },
      "source": [
        "<a href=\"https://colab.research.google.com/github/paul6598/PS_practice/blob/main/240601.ipynb\" target=\"_parent\"><img src=\"https://colab.research.google.com/assets/colab-badge.svg\" alt=\"Open In Colab\"/></a>"
      ]
    },
    {
      "cell_type": "code",
      "execution_count": 45,
      "metadata": {
        "colab": {
          "base_uri": "https://localhost:8080/"
        },
        "id": "pRU6gy3I1qyP",
        "outputId": "b9971e75-1f46-4daf-e2d8-02d7b82cbde3"
      },
      "outputs": [
        {
          "output_type": "stream",
          "name": "stdout",
          "text": [
            "6\n",
            "10 20 10 30 20 50\n",
            "5\n"
          ]
        }
      ],
      "source": [
        "n = int(input())\n",
        "seq = map(int, input().split())\n",
        "\n",
        "def binary_search(seri, key): #key보다 작은 최대 index 반환\n",
        "  start, end = 0, len(seri)-1\n",
        "  while start < end:\n",
        "    mid = (start+end)//2\n",
        "    #print(start, end, mid, seri[mid])\n",
        "    if seri[mid] < key < seri[mid+1]:\n",
        "      return mid\n",
        "    elif key < seri[mid]:\n",
        "      end = mid-1\n",
        "    else:\n",
        "      start = mid+1\n",
        "  #print(start, end, mid, lis[mid])\n",
        "  return start\n",
        "\n",
        "\n",
        "def lis(seq, n):\n",
        "  tmp = [0] #index가 최장수열의 길이, 그 index에 담긴 값은 그 길이에서의 최솟값\n",
        "  for i in seq:\n",
        "    pos = binary_search(tmp, i)\n",
        "    #print(i,pos, len(tmp))\n",
        "\n",
        "    if pos == len(tmp)-1:\n",
        "      tmp.append(i)\n",
        "    else:\n",
        "      tmp[pos+1] = i\n",
        "\n",
        "    #print(tmp)\n",
        "    #print()\n",
        "  return len(tmp)-1\n",
        "\n",
        "\n",
        "\n",
        "\n",
        "print(n-lis(seq,n))\n",
        "\n"
      ]
    },
    {
      "cell_type": "code",
      "source": [
        "n = int(input())\n",
        "seq = map(int, input().split())\n",
        "\n",
        "def binary_search(seri, key): #key보다 작은 최대 index 반환\n",
        "  start, end = 0, len(seri)-1\n",
        "  while start < end:\n",
        "    mid = (start+end)//2\n",
        "    #print(start, end, mid, seri[mid])\n",
        "    if seri[mid] == key:\n",
        "      return mid-1\n",
        "    elif seri[mid] < key <= seri[mid+1]:\n",
        "      return mid\n",
        "    elif key < seri[mid]:\n",
        "      end = mid-1\n",
        "    else:\n",
        "      start = mid+1\n",
        "\n",
        "  #print(start, end, mid, lis[mid])\n",
        "  return start\n",
        "\n",
        "\n",
        "def lis(seq, n):\n",
        "  tmp = [0] #index가 최장수열의 길이, 그 index에 담긴 값은 그 길이에서의 최솟값\n",
        "\n",
        "  for i in seq:\n",
        "    pos = binary_search(tmp, i)\n",
        "    #print(i,pos, len(tmp))\n",
        "\n",
        "    if pos == len(tmp)-1:\n",
        "      tmp.append(i)\n",
        "\n",
        "    else:\n",
        "      tmp[pos+1] = i\n",
        "\n",
        "    #print(tmp)\n",
        "    #print()\n",
        "\n",
        "  return len(tmp)-1\n",
        "\n",
        "\n",
        "\n",
        "print(lis(seq,n))\n",
        "\n"
      ],
      "metadata": {
        "colab": {
          "base_uri": "https://localhost:8080/"
        },
        "id": "Y-gjQ3X32FF2",
        "outputId": "c199151b-ba87-4465-fbc7-814bf1c21fd8"
      },
      "execution_count": 66,
      "outputs": [
        {
          "output_type": "stream",
          "name": "stdout",
          "text": [
            "13\n",
            "3 4 5 6 2 3 1 7 4 3 5 6 7\n",
            "6\n",
            "3 4 5 6 7 7 "
          ]
        }
      ]
    },
    {
      "cell_type": "code",
      "source": [
        "n = int(input())\n",
        "seq = map(int, input().split())\n",
        "\n",
        "def binary_search(seri, key): #key보다 작은 최대 index 반환\n",
        "  start, end = 0, len(seri)-1\n",
        "  while start < end:\n",
        "    mid = (start+end)//2\n",
        "    #print(start, end, mid, seri[mid])\n",
        "    if seri[mid] == key:\n",
        "      return mid-1\n",
        "    elif seri[mid] < key <= seri[mid+1]:\n",
        "      return mid\n",
        "    elif key < seri[mid]:\n",
        "      end = mid-1\n",
        "    else:\n",
        "      start = mid+1\n",
        "\n",
        "  #print(start, end, mid, lis[mid])\n",
        "  return start\n",
        "\n",
        "\n",
        "def lis(seq, n):\n",
        "  tmp = [-float(\"INF\")] #index가 최장수열의 길이, 그 index에 담긴 값은 그 길이에서의 최솟값\n",
        "  path = []\n",
        "  len_ = 0\n",
        "  for i in seq:\n",
        "    pos = binary_search(tmp, i)\n",
        "    #print(i,pos, len(tmp))\n",
        "    len_ = max(len_, pos+1)\n",
        "\n",
        "    if pos == len(tmp)-1:\n",
        "      tmp.append(i)\n",
        "      path.append((i,pos+1))\n",
        "    else:\n",
        "      tmp[pos+1] = i\n",
        "      path.append((i,pos+1))\n",
        "\n",
        "    #print(tmp)\n",
        "    #print()\n",
        "\n",
        "  return path, len_\n",
        "\n",
        "\n",
        "path, len_ = lis(seq,n)\n",
        "#print(path)\n",
        "\n",
        "print(len_)\n",
        "\n",
        "k = len_+1\n",
        "sol = []\n",
        "\n",
        "for i in range(n-1,-1,-1):\n",
        "  key, dist = path[i]\n",
        "  if k-dist == 1:\n",
        "    sol.append(key)\n",
        "    k -= 1\n",
        "\n",
        "for i in range(len_):\n",
        "  print(sol.pop(), end = \" \")"
      ],
      "metadata": {
        "colab": {
          "base_uri": "https://localhost:8080/"
        },
        "id": "qxBUVd19B4dw",
        "outputId": "3d68690d-36cd-443c-984d-58a1a45521d4"
      },
      "execution_count": 89,
      "outputs": [
        {
          "output_type": "stream",
          "name": "stdout",
          "text": [
            "6\n",
            " -50 -40 -30 20 -100 -45\n",
            "[(-50, 1), (-40, 2), (-30, 3), (20, 4), (-100, 1), (-45, 2)]\n",
            "4\n",
            "-50 -40 -30 20 "
          ]
        }
      ]
    },
    {
      "cell_type": "code",
      "source": [
        "input\n",
        "\n",
        "13\n",
        "\n",
        "3 4 5 6 2 3 1 7 4 3 5 6 7\n",
        "\n",
        "answer\n",
        "\n",
        "6\n",
        "2 3 4 5 6 7"
      ],
      "metadata": {
        "colab": {
          "base_uri": "https://localhost:8080/",
          "height": 110
        },
        "id": "k5-fqmgiFeI0",
        "outputId": "1a13fb6f-28d0-4e41-b08b-6310b0a38eba"
      },
      "execution_count": 69,
      "outputs": [
        {
          "output_type": "error",
          "ename": "SyntaxError",
          "evalue": "invalid syntax (<ipython-input-69-0257184e318c>, line 5)",
          "traceback": [
            "\u001b[0;36m  File \u001b[0;32m\"<ipython-input-69-0257184e318c>\"\u001b[0;36m, line \u001b[0;32m5\u001b[0m\n\u001b[0;31m    3 4 5 6 2 3 1 7 4 3 5 6 7\u001b[0m\n\u001b[0m      ^\u001b[0m\n\u001b[0;31mSyntaxError\u001b[0m\u001b[0;31m:\u001b[0m invalid syntax\n"
          ]
        }
      ]
    },
    {
      "cell_type": "code",
      "source": [
        "n = int(input())\n",
        "seq = list(map(int, input().split()))\n",
        "\n",
        "\n",
        "\n",
        "def binary_search(seri, key): #key보다 작은 최대 index 반환\n",
        "  start, end = 0, len(seri)-1\n",
        "  while start < end:\n",
        "    mid = (start+end)//2\n",
        "    #print(start, end, mid, seri[mid])\n",
        "    if seri[mid] == key:\n",
        "      return mid-1\n",
        "    elif seri[mid] < key <= seri[mid+1]:\n",
        "      return mid\n",
        "    elif key < seri[mid]:\n",
        "      end = mid-1\n",
        "    else:\n",
        "      start = mid+1\n",
        "\n",
        "  #print(start, end, mid, lis[mid])\n",
        "  return start\n",
        "\n",
        "\n",
        "def lis(seq, n):\n",
        "  tmp = [0] #index가 최장수열의 길이, 그 index에 담긴 값은 그 길이에서의 최솟값\n",
        "  for i in seq:\n",
        "    pos = binary_search(tmp, i)\n",
        "    #print(i,pos, len(tmp))\n",
        "\n",
        "    if pos == len(tmp)-1:\n",
        "      tmp.append(i)\n",
        "    else:\n",
        "      tmp[pos+1] = i\n",
        "\n",
        "    #print(tmp)\n",
        "    #print()\n",
        "  return len(tmp)-1\n",
        "\n",
        "rev_seq = seq[::-1]\n",
        "\n",
        "\n",
        "print(lis(rev_seq,n))\n",
        "\n"
      ],
      "metadata": {
        "colab": {
          "base_uri": "https://localhost:8080/"
        },
        "id": "om-hJe1DH9dk",
        "outputId": "04ca168f-8f5a-4ec1-c5fd-5d071b1f01ce"
      },
      "execution_count": 92,
      "outputs": [
        {
          "output_type": "stream",
          "name": "stdout",
          "text": [
            "6\n",
            "10 30 10 20 20 10\n",
            "[10, 20, 20, 10, 30, 10]\n",
            "3\n"
          ]
        }
      ]
    },
    {
      "cell_type": "code",
      "source": [],
      "metadata": {
        "id": "bmgyOBXqS-vW"
      },
      "execution_count": null,
      "outputs": []
    }
  ]
}