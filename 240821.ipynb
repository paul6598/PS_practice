{
  "nbformat": 4,
  "nbformat_minor": 0,
  "metadata": {
    "colab": {
      "provenance": [],
      "authorship_tag": "ABX9TyOfvqL6CZSVzkyNSykKUSvd",
      "include_colab_link": true
    },
    "kernelspec": {
      "name": "python3",
      "display_name": "Python 3"
    },
    "language_info": {
      "name": "python"
    }
  },
  "cells": [
    {
      "cell_type": "markdown",
      "metadata": {
        "id": "view-in-github",
        "colab_type": "text"
      },
      "source": [
        "<a href=\"https://colab.research.google.com/github/paul6598/PS_practice/blob/main/240821.ipynb\" target=\"_parent\"><img src=\"https://colab.research.google.com/assets/colab-badge.svg\" alt=\"Open In Colab\"/></a>"
      ]
    },
    {
      "cell_type": "code",
      "execution_count": 24,
      "metadata": {
        "colab": {
          "base_uri": "https://localhost:8080/"
        },
        "id": "HVSoCN1Gmrmf",
        "outputId": "d7e519f0-f5a2-4815-f287-49bb735634b6"
      },
      "outputs": [
        {
          "output_type": "stream",
          "name": "stdout",
          "text": [
            "3 10\n",
            "1\n",
            "2\n",
            "5\n",
            "10\n"
          ]
        }
      ],
      "source": [
        "n,k = map(int, input().split())\n",
        "\n",
        "coins = []\n",
        "for _ in range(n):\n",
        "  val = int(input())\n",
        "  if val <= k:\n",
        "    coins.append(val)\n",
        "\n",
        "n = len(coins)\n",
        "coins.sort()\n",
        "\n",
        "dp = [[0]*(n) for _ in range(k+1)]\n",
        "\n",
        "for i in range(n):\n",
        "  dp[coins[i]][i] = 1\n",
        "\n",
        "#dp[i][j] = j번째 가치를 지닌 동전 이하만 사용하고 가치가 i인 경우의 수\n",
        "#>>dp[i-coins[j]][0~j]\n",
        "for i in range(1,k+1):\n",
        "  for j in range(n):\n",
        "    dp[i][j] += sum([dp[i-coins[j]][k] for k in range(j+1)])\n",
        "\n",
        "\n",
        "print(sum(dp[-1]))"
      ]
    },
    {
      "cell_type": "code",
      "source": [
        "n,k = map(int, input().split())\n",
        "\n",
        "coins = []\n",
        "for _ in range(n):\n",
        "  val = int(input())\n",
        "  if val <= k:\n",
        "    coins.append(val)\n",
        "\n",
        "n = len(coins)\n",
        "coins.sort()\n",
        "\n",
        "dp = [0 for _ in range(k+1)]\n",
        "dp[0] = 1\n",
        "\n",
        "for i in range(n):\n",
        "  #print(dp)\n",
        "  for j in range(1,k+1):\n",
        "    if j >= coins[i]:\n",
        "      dp[j] += dp[j-coins[i]]\n",
        "  #print(dp)\n",
        "print(dp[-1])"
      ],
      "metadata": {
        "colab": {
          "base_uri": "https://localhost:8080/"
        },
        "id": "_ZUlPRPxqQMh",
        "outputId": "f6b57da0-b950-465c-bfbd-1e0a0a0ef1cd"
      },
      "execution_count": 31,
      "outputs": [
        {
          "output_type": "stream",
          "name": "stdout",
          "text": [
            "3 10\n",
            "1\n",
            "2\n",
            "5\n",
            "1\n",
            "6\n",
            "10\n"
          ]
        }
      ]
    },
    {
      "cell_type": "code",
      "source": [
        "n = int(input())\n",
        "for i in range(1,n+1):\n",
        "  print(f\"Hello World, Judge {i}!\")"
      ],
      "metadata": {
        "colab": {
          "base_uri": "https://localhost:8080/"
        },
        "id": "_e-yOkWPwt0M",
        "outputId": "9da26b08-990f-4c3b-c13e-2f60c99c6727"
      },
      "execution_count": 32,
      "outputs": [
        {
          "output_type": "stream",
          "name": "stdout",
          "text": [
            "5\n",
            "Hello World, Judge 1!\n",
            "Hello World, Judge 2!\n",
            "Hello World, Judge 3!\n",
            "Hello World, Judge 4!\n",
            "Hello World, Judge 5!\n"
          ]
        }
      ]
    },
    {
      "cell_type": "code",
      "source": [
        "today = list(map(int,input().split()))\n",
        "dday = list(map(int,input().split()))\n",
        "\n",
        "#print(today, dday)\n",
        "def years(year):\n",
        "  if (year%4==0 and year%100 != 0) or year%400==0:\n",
        "    return True\n",
        "  else:\n",
        "    return False\n",
        "\n",
        "def date(day):\n",
        "  #print(day)\n",
        "  ret = 0\n",
        "  month = [31,28,31,30,31,30,31,31,30,31,30,31]\n",
        "  y,m,d = day[0],day[1],day[2]\n",
        "  for i in range(m-1):\n",
        "    if i == 1 and years(y):\n",
        "      ret += 29\n",
        "    elif i == 1 and not years(y):\n",
        "      ret += 28\n",
        "    else:\n",
        "      ret += month[i]\n",
        "  ret += d\n",
        "  return ret\n",
        "\n",
        "\n",
        "if dday[0]-today[0] > 1000or(dday[0]-today[0] == 1000 and date(dday)>=date(today)):\n",
        "  print(\"gg\")\n",
        "else:\n",
        "  res = date(dday)\n",
        "  for i in range(dday[0]-1,today[0]-1,-1): #2009 2008\n",
        "    if years(i):\n",
        "      res += 366\n",
        "    else:\n",
        "      res += 365\n",
        "  res -= date(today)\n",
        "  print(f\"D-{res}\")"
      ],
      "metadata": {
        "colab": {
          "base_uri": "https://localhost:8080/"
        },
        "id": "Sbeo08x90XJq",
        "outputId": "6889314a-bd5e-4af0-bc06-54dd60401aea"
      },
      "execution_count": 54,
      "outputs": [
        {
          "output_type": "stream",
          "name": "stdout",
          "text": [
            "1 12 13\n",
            "9999 11 12\n",
            "gg\n"
          ]
        }
      ]
    },
    {
      "cell_type": "code",
      "source": [
        "from collections import defaultdict\n",
        "\n",
        "n = int(input())\n",
        "kids = defaultdict(int)\n",
        "sum_ = 0\n",
        "warn = 0\n",
        "for _ in range(n):\n",
        "  kid = input()\n",
        "  if sum_ - kids[kid] < kids[kid]:\n",
        "    warn += 1\n",
        "  kids[kid] += 1\n",
        "  sum_ += 1\n",
        "print(warn)\n",
        ""
      ],
      "metadata": {
        "colab": {
          "base_uri": "https://localhost:8080/"
        },
        "id": "EvzgzEsd1Moq",
        "outputId": "5e7bb4f7-8989-4f95-8727-78624ee47099"
      },
      "execution_count": 56,
      "outputs": [
        {
          "name": "stdout",
          "output_type": "stream",
          "text": [
            "17\n",
            "a\n",
            "b\n",
            "b\n",
            "a\n",
            "a\n",
            "a\n",
            "c\n",
            "a\n",
            "b\n",
            "b\n",
            "c\n",
            "b\n",
            "b\n",
            "b\n",
            "b\n",
            "b\n",
            "b\n"
          ]
        }
      ]
    },
    {
      "cell_type": "code",
      "source": [
        "a,b,c,d = map(int, input().split())\n",
        "n = int(input())\n",
        "\n",
        "def sol(a,b,c,d,u,v):\n",
        "  if a*(b-v)**2+c == u and b <= v:\n",
        "    return True\n",
        "  else:\n",
        "    return False\n",
        "\n",
        "res = 0\n",
        "for _ in range(n):\n",
        "  u,v = map(int,input().split())\n",
        "  if sol(a,b,c,d,u,v):\n",
        "    res += 1\n",
        "\n",
        "print(res)"
      ],
      "metadata": {
        "colab": {
          "base_uri": "https://localhost:8080/"
        },
        "id": "njMervAl4lTc",
        "outputId": "3ed51a0a-537e-4365-fd4c-85d9088b005c"
      },
      "execution_count": 58,
      "outputs": [
        {
          "output_type": "stream",
          "name": "stdout",
          "text": [
            "-1 50 10 6\n",
            "4\n",
            "10 50\n",
            "10 52\n",
            "9 51\n",
            "9 50\n",
            "2\n"
          ]
        }
      ]
    },
    {
      "cell_type": "code",
      "source": [
        "def dist(x,y):\n",
        "  return x**2+y**2\n",
        "\n",
        "fishing = []\n",
        "n,k = map(int, input().split())\n",
        "for _ in range(n):\n",
        "  pi = int(input())\n",
        "  dots = list(map(int, input().split()))\n",
        "  mxd = 0\n",
        "  for i in range(pi):\n",
        "    mxd = max(mxd, dist(dots[2*i],dots[2*i+1]))\n",
        "  fishing.append(mxd)\n",
        "\n",
        "fishing.sort()\n",
        "print(format(fishing[k-1],'.2f'))"
      ],
      "metadata": {
        "colab": {
          "base_uri": "https://localhost:8080/"
        },
        "id": "XQhf17xWB78Z",
        "outputId": "d1360940-e8d7-4e46-81b3-4814c880d25a"
      },
      "execution_count": 65,
      "outputs": [
        {
          "output_type": "stream",
          "name": "stdout",
          "text": [
            "1 1\n",
            "4\n",
            "1 1 1 2 2 2 2 1\n",
            "8.00\n"
          ]
        }
      ]
    },
    {
      "cell_type": "code",
      "source": [
        "from collections import defaultdict\n",
        "dic = defaultdict(int)\n",
        "\n",
        "fellin = \"\"\n",
        "\n",
        "name = input()\n",
        "name = sorted(name)\n",
        "\n",
        "for i in range(len(name)):\n",
        "  dic[name[i]] += 1\n",
        "\n",
        "odd = -1\n",
        "tf = False\n",
        "\n",
        "for i in dic:\n",
        "  if dic[i]%2 == 1:\n",
        "    if tf:\n",
        "      fellin = \"I'm Sorry Hansoo\"\n",
        "      break\n",
        "    odd = i\n",
        "    tf = True\n",
        "\n",
        "if fellin == \"I'm Sorry Hansoo\":\n",
        "  print(fellin)\n",
        "else:\n",
        "  for i in dic:\n",
        "    fellin += i*(dic[i]//2)\n",
        "  rev = fellin[::-1]\n",
        "  if odd != -1:\n",
        "    fellin += odd\n",
        "  fellin += rev\n",
        "  print(fellin)"
      ],
      "metadata": {
        "colab": {
          "base_uri": "https://localhost:8080/"
        },
        "id": "ryf6IZGDLKXg",
        "outputId": "c6ff5837-8006-4828-95b2-daa1f95694bc"
      },
      "execution_count": 76,
      "outputs": [
        {
          "output_type": "stream",
          "name": "stdout",
          "text": [
            "ABCD\n",
            "I'm Sorry Hansoo\n"
          ]
        }
      ]
    },
    {
      "cell_type": "code",
      "source": [
        "rev"
      ],
      "metadata": {
        "colab": {
          "base_uri": "https://localhost:8080/",
          "height": 35
        },
        "id": "WqpV4IY_TKTj",
        "outputId": "5b2ae820-2791-4bd0-df78-588e67c6b42a"
      },
      "execution_count": 71,
      "outputs": [
        {
          "output_type": "execute_result",
          "data": {
            "text/plain": [
              "'BA'"
            ],
            "application/vnd.google.colaboratory.intrinsic+json": {
              "type": "string"
            }
          },
          "metadata": {},
          "execution_count": 71
        }
      ]
    },
    {
      "cell_type": "code",
      "source": [
        "a = \"abdc\"\n",
        "a.sort()\n",
        "a"
      ],
      "metadata": {
        "colab": {
          "base_uri": "https://localhost:8080/",
          "height": 181
        },
        "id": "CikuzXWXTLvW",
        "outputId": "4048f74c-747a-45e4-8a8a-2032e2542328"
      },
      "execution_count": 74,
      "outputs": [
        {
          "output_type": "error",
          "ename": "AttributeError",
          "evalue": "'str' object has no attribute 'sort'",
          "traceback": [
            "\u001b[0;31m---------------------------------------------------------------------------\u001b[0m",
            "\u001b[0;31mAttributeError\u001b[0m                            Traceback (most recent call last)",
            "\u001b[0;32m<ipython-input-74-5d4f07ecf0c4>\u001b[0m in \u001b[0;36m<cell line: 2>\u001b[0;34m()\u001b[0m\n\u001b[1;32m      1\u001b[0m \u001b[0ma\u001b[0m \u001b[0;34m=\u001b[0m \u001b[0;34m\"abdc\"\u001b[0m\u001b[0;34m\u001b[0m\u001b[0;34m\u001b[0m\u001b[0m\n\u001b[0;32m----> 2\u001b[0;31m \u001b[0ma\u001b[0m\u001b[0;34m.\u001b[0m\u001b[0msort\u001b[0m\u001b[0;34m(\u001b[0m\u001b[0;34m)\u001b[0m\u001b[0;34m\u001b[0m\u001b[0;34m\u001b[0m\u001b[0m\n\u001b[0m\u001b[1;32m      3\u001b[0m \u001b[0ma\u001b[0m\u001b[0;34m\u001b[0m\u001b[0;34m\u001b[0m\u001b[0m\n",
            "\u001b[0;31mAttributeError\u001b[0m: 'str' object has no attribute 'sort'"
          ]
        }
      ]
    },
    {
      "cell_type": "code",
      "source": [
        "n = int(input())\n",
        "num = list(map(int,input().split()))\n",
        "res = []\n",
        "num = num[::-1]\n",
        "for i in range(n):\n",
        "  res.insert(num[i],n-i)\n",
        "print(*res)"
      ],
      "metadata": {
        "colab": {
          "base_uri": "https://localhost:8080/"
        },
        "id": "87ZvfvBHTUiG",
        "outputId": "24800fd0-bb62-4139-a88c-a38a9757e5fe"
      },
      "execution_count": 81,
      "outputs": [
        {
          "output_type": "stream",
          "name": "stdout",
          "text": [
            "4\n",
            "2 1 1 0\n",
            "4 2 1 3\n"
          ]
        }
      ]
    },
    {
      "cell_type": "code",
      "source": [],
      "metadata": {
        "id": "3yQMfTY6ZEda"
      },
      "execution_count": null,
      "outputs": []
    }
  ]
}