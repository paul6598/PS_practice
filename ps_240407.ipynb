{
  "nbformat": 4,
  "nbformat_minor": 0,
  "metadata": {
    "colab": {
      "provenance": [],
      "authorship_tag": "ABX9TyOq0DpvfGcnr3FWuW+5et/I",
      "include_colab_link": true
    },
    "kernelspec": {
      "name": "python3",
      "display_name": "Python 3"
    },
    "language_info": {
      "name": "python"
    }
  },
  "cells": [
    {
      "cell_type": "markdown",
      "metadata": {
        "id": "view-in-github",
        "colab_type": "text"
      },
      "source": [
        "<a href=\"https://colab.research.google.com/github/paul6598/PS_practice/blob/main/ps_240407.ipynb\" target=\"_parent\"><img src=\"https://colab.research.google.com/assets/colab-badge.svg\" alt=\"Open In Colab\"/></a>"
      ]
    },
    {
      "cell_type": "markdown",
      "source": [
        "# 18405:경쟁적 전염 (골5)"
      ],
      "metadata": {
        "id": "8A_s_hUJMkp4"
      }
    },
    {
      "cell_type": "code",
      "execution_count": 7,
      "metadata": {
        "id": "mODKrvUZOpej",
        "colab": {
          "base_uri": "https://localhost:8080/"
        },
        "outputId": "ba7c7391-71d7-4e44-f4b0-a9b393ce59c0"
      },
      "outputs": [
        {
          "output_type": "stream",
          "name": "stdout",
          "text": [
            "3 3\n",
            "1 0 2\n",
            "0 0 0\n",
            "3 0 0\n",
            "2 3 2\n",
            "2\n"
          ]
        }
      ],
      "source": [
        "from collections import deque\n",
        "\n",
        "n,k = map(int, input().split())\n",
        "table = []\n",
        "for _ in range(n):\n",
        "  table.append(list(map(int, input().split())))\n",
        "s,X,Y = map(int, input().split())\n",
        "\n",
        "def bfs(table,n,k,s,X,Y):\n",
        "  dx = [0,0,1,-1]\n",
        "  dy = [1,-1,0,0]\n",
        "  tmp = []\n",
        "  q = deque([])\n",
        "  for i in range(n):\n",
        "    for j in range(n):\n",
        "      if table[i][j] != 0:\n",
        "        tmp.append([table[i][j], i, j, 0])\n",
        "  tmp.sort(key=lambda x:x[0])\n",
        "  q = deque(tmp)\n",
        "\n",
        "  while q:\n",
        "    virus, b,a, time = q.popleft()\n",
        "    if time < s:\n",
        "      for i in range(4):\n",
        "        x = a+dx[i]\n",
        "        y = b+dy[i]\n",
        "        if 0<=x<n and 0<=y<n and table[y][x] == 0:\n",
        "          table[y][x] = virus\n",
        "          q.append([virus, y,x, time+1])\n",
        "  return table[X-1][Y-1]\n",
        "\n",
        "print(bfs(table,n,k,s,X,Y))\n"
      ]
    },
    {
      "cell_type": "markdown",
      "source": [
        "# 1756:피자 굽기 (골5)"
      ],
      "metadata": {
        "id": "lpfrhj9PlUK8"
      }
    },
    {
      "cell_type": "code",
      "source": [
        "d,n = map(int, input().split())\n",
        "oven = list(map(int, input().split()))\n",
        "pizza = list(map(int, input().split()))\n",
        "\n",
        "min_oven = [float('inf')]\n",
        "min_ = float('inf')\n",
        "for i in oven:\n",
        "  min_ = min(min_, i)\n",
        "  min_oven.append(min_)\n",
        "print(min_oven)\n",
        "\n",
        "def binary(list_,depth,r):\n",
        "  s,e = 0,depth-1\n",
        "  while s <= e:\n",
        "    mid = (s+e)//2\n",
        "    #print(s,e,mid)\n",
        "    if list_[mid] > r:\n",
        "      s = mid+1\n",
        "    elif list_[mid] < r:\n",
        "      e = mid-1\n",
        "    else: # list_[mid] == r\n",
        "      while mid < depth and list_[mid] == r:\n",
        "        mid += 1\n",
        "      return mid-1\n",
        "  if list_[mid] < r:\n",
        "    return mid-1\n",
        "  else:\n",
        "    return mid\n",
        "\n",
        "res = 0\n",
        "depth = d+1\n",
        "for i in range(n):\n",
        "  #print(depth)\n",
        "  depth = binary(min_oven,depth,pizza[i])\n",
        "  if i < n-1 and depth <= 0: # 아직 반죽이 남음\n",
        "    depth = 0\n",
        "    break\n",
        "\n",
        "print(depth)\n"
      ],
      "metadata": {
        "colab": {
          "base_uri": "https://localhost:8080/"
        },
        "id": "i0rQeqsWKPWa",
        "outputId": "44828e31-d2e5-4e6c-9bb6-d0a4ad095090"
      },
      "execution_count": 66,
      "outputs": [
        {
          "output_type": "stream",
          "name": "stdout",
          "text": [
            "7 3\n",
            "5 6 4 3 6 2 3\n",
            "3 2 5\n",
            "0 7 3\n",
            "4 7 5\n",
            "0 4 2\n",
            "3 4 3\n",
            "4 4 4\n",
            "0 3 1\n",
            "2\n"
          ]
        }
      ]
    },
    {
      "cell_type": "code",
      "source": [],
      "metadata": {
        "id": "k3H1hqb4Kv0t"
      },
      "execution_count": 82,
      "outputs": []
    },
    {
      "cell_type": "code",
      "source": [],
      "metadata": {
        "id": "XVDSFt_2Sk36"
      },
      "execution_count": null,
      "outputs": []
    }
  ]
}