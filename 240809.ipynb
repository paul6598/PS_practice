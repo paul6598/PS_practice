{
  "nbformat": 4,
  "nbformat_minor": 0,
  "metadata": {
    "colab": {
      "provenance": [],
      "authorship_tag": "ABX9TyPCIyDVqSlKpk+NK2KfBePQ",
      "include_colab_link": true
    },
    "kernelspec": {
      "name": "python3",
      "display_name": "Python 3"
    },
    "language_info": {
      "name": "python"
    }
  },
  "cells": [
    {
      "cell_type": "markdown",
      "metadata": {
        "id": "view-in-github",
        "colab_type": "text"
      },
      "source": [
        "<a href=\"https://colab.research.google.com/github/paul6598/PS_practice/blob/main/240809.ipynb\" target=\"_parent\"><img src=\"https://colab.research.google.com/assets/colab-badge.svg\" alt=\"Open In Colab\"/></a>"
      ]
    },
    {
      "cell_type": "code",
      "source": [
        "import sys\n",
        "input = sys.stdin.readline"
      ],
      "metadata": {
        "id": "GNpWyn2Fwkz5"
      },
      "execution_count": null,
      "outputs": []
    },
    {
      "cell_type": "code",
      "execution_count": 1,
      "metadata": {
        "colab": {
          "base_uri": "https://localhost:8080/"
        },
        "id": "E4gX5GLNtrDz",
        "outputId": "16f7cb4e-e3ec-4009-a0c4-b21bfc434087"
      },
      "outputs": [
        {
          "output_type": "stream",
          "name": "stdout",
          "text": [
            "1\n",
            "136 68\n",
            "1000\n"
          ]
        }
      ],
      "source": [
        "n = int(input())\n",
        "res = 0\n",
        "\n",
        "for _ in range(n):\n",
        "  w, _ = map(int, input().split())\n",
        "  if w == 136:\n",
        "    res += 1000\n",
        "  elif w == 142:\n",
        "    res += 5000\n",
        "  elif w == 148:\n",
        "    res += 10000\n",
        "  else:\n",
        "    res += 50000\n",
        "\n",
        "print(res)"
      ]
    },
    {
      "cell_type": "code",
      "source": [
        "n,m = map(int, input().split())\n",
        "table = [[0]*(m+1)]\n",
        "for _ in range(n):\n",
        "  table.append([0]+list(map(int, input().split())))\n",
        "\n",
        "\n",
        "accsum = [[0]*(m+1) for i in range(n+1)]\n",
        "for i in range(1,n+1):\n",
        "  for j in range(1,m+1):\n",
        "    accsum[i][j] = table[i][j]+accsum[i-1][j]+accsum[i][j-1]-accsum[i-1][j-1]\n",
        "\n",
        "\n",
        "k = int(input())\n",
        "for _ in range(k):\n",
        "  i,j,x,y = map(int, input().split())\n",
        "\n",
        "  print(accsum[x][y]-accsum[x][j-1]-accsum[i-1][y]+accsum[i-1][j-1])"
      ],
      "metadata": {
        "colab": {
          "base_uri": "https://localhost:8080/"
        },
        "id": "T9ZCW6i6wjFF",
        "outputId": "f78acfab-5924-4b24-d574-953f1bab3233"
      },
      "execution_count": 14,
      "outputs": [
        {
          "output_type": "stream",
          "name": "stdout",
          "text": [
            "2 3\n",
            "1 2 4\n",
            "8 16 32\n",
            "[0, 0, 0, 0]\n",
            "[0, 1, 2, 4]\n",
            "[0, 8, 16, 32]\n",
            "\n",
            "[0, 0, 0, 0]\n",
            "[0, 1, 3, 7]\n",
            "[0, 9, 27, 63]\n",
            "3\n",
            "1 1 2 3\n",
            "63\n",
            "1 2 1 2\n",
            "2\n",
            "1 3 2 3\n",
            "36\n"
          ]
        }
      ]
    },
    {
      "cell_type": "code",
      "source": [
        "import math\n",
        "x1, y1, x2, y2, x3, y3 = map(int, input().split())\n",
        "\n",
        "def dist(x,y,i,j):\n",
        "  return math.sqrt((x-i)**2+(y-j)**2)\n",
        "\n",
        "if (y2-y1)*(x3-x2)==(y3-y2)*(x2-x1):\n",
        "  print(-1)\n",
        "else:\n",
        "  a = dist(x1, y1, x2, y2)\n",
        "  b = dist(x2, y2, x3, y3)\n",
        "  c = dist(x1, y1, x3, y3)\n",
        "  max_ = max(a+b, b+c, c+a)\n",
        "  min_ = min(a+b, b+c, c+a)\n",
        "  print(2*max_-2*min_)\n"
      ],
      "metadata": {
        "colab": {
          "base_uri": "https://localhost:8080/"
        },
        "id": "F1-Qy-kWyVbc",
        "outputId": "46ac656c-0634-40f9-c524-9d3599e1435a"
      },
      "execution_count": 19,
      "outputs": [
        {
          "output_type": "stream",
          "name": "stdout",
          "text": [
            "2 -1 -7 2 -1 0\n",
            "-1\n"
          ]
        }
      ]
    },
    {
      "cell_type": "code",
      "source": [
        "t = int(input())\n",
        "for _ in range(t):\n",
        "  n,m = map(int, input().split())\n",
        "\n",
        "  a = sorted(list(map(int, input().split())))\n",
        "  b = sorted(list(map(int, input().split())))\n",
        "\n",
        "  j = 0\n",
        "  eatable = 0\n",
        "  res = 0\n",
        "  for i in range(n):\n",
        "    while j < m and a[i] > b[j]:\n",
        "      j += 1\n",
        "      eatable += 1\n",
        "    res += eatable\n",
        "  print(res)\n"
      ],
      "metadata": {
        "colab": {
          "base_uri": "https://localhost:8080/"
        },
        "id": "HUqq34-Q4YBr",
        "outputId": "f2b5b680-1a51-4cfa-e3f1-3d77e182764e"
      },
      "execution_count": 21,
      "outputs": [
        {
          "output_type": "stream",
          "name": "stdout",
          "text": [
            "2\n",
            "5 3\n",
            "8 1 7 3 1\n",
            "3 6 1\n",
            "7\n",
            "3 4\n",
            "2 13 7\n",
            "103 11 290 215\n",
            "1\n"
          ]
        }
      ]
    },
    {
      "cell_type": "code",
      "source": [
        "import heapq\n",
        "\n",
        "v,e = map(int, input().split())\n",
        "graph = {i:{} for i in range(1,v+1)}\n",
        "for i in range(e):\n",
        "  a,b,w = map(int, input().split())\n",
        "  graph[a][b] = w\n",
        "  graph[b][a] = w\n",
        "\n",
        "def mst(graph,v,e):\n",
        "  visit = [False]*(v+1)\n",
        "  stack = []\n",
        "  heapq.heappush(stack, (0,1))\n",
        "  res = 0\n",
        "  visited = 0\n",
        "  while stack:\n",
        "    weight, node = heapq.heappop(stack)\n",
        "    if not visit[node]:\n",
        "      visit[node] = True\n",
        "      res += weight\n",
        "      visited += 1\n",
        "      if visited == v:\n",
        "        return res\n",
        "      for next in graph[node]:\n",
        "        if not visit[next]:\n",
        "          heapq.heappush(stack, (graph[node][next], next))\n",
        "\n",
        "    #print(stack)\n",
        "\n",
        "print(mst(graph,v,e))"
      ],
      "metadata": {
        "colab": {
          "base_uri": "https://localhost:8080/"
        },
        "id": "3QdokWh65tp-",
        "outputId": "0cab8f47-9be2-4919-b5da-c8e38abdb51c"
      },
      "execution_count": 12,
      "outputs": [
        {
          "output_type": "stream",
          "name": "stdout",
          "text": [
            "5 5\n",
            "1 4 3\n",
            "2 3 3\n",
            "4 3 5\n",
            "2 1 6\n",
            "4 5 9\n",
            "20\n"
          ]
        }
      ]
    },
    {
      "cell_type": "code",
      "source": [
        "import heapq\n",
        "\n",
        "v,e = map(int, input().split())\n",
        "graph = {i:{} for i in range(1,v+1)}\n",
        "for i in range(e):\n",
        "  a,b,w = map(int, input().split())\n",
        "  graph[a][b] = w\n",
        "  graph[b][a] = w\n",
        "\n",
        "def mst(graph,v,e):\n",
        "  visit = [False]*(v+1)\n",
        "  stack = []\n",
        "  heapq.heappush(stack, (0,1))\n",
        "  res = 0\n",
        "  visited = 0\n",
        "  max_weight = 0\n",
        "  while stack:\n",
        "    weight, node = heapq.heappop(stack)\n",
        "    if not visit[node]:\n",
        "      visit[node] = True\n",
        "      res += weight\n",
        "      max_weight = max(max_weight, weight)\n",
        "      visited += 1\n",
        "      if visited == v:\n",
        "        return res-max_weight\n",
        "      for next in graph[node]:\n",
        "        if not visit[next]:\n",
        "          heapq.heappush(stack, (graph[node][next], next))\n",
        "\n",
        "    #print(stack)\n",
        "\n",
        "print(mst(graph,v,e))"
      ],
      "metadata": {
        "colab": {
          "base_uri": "https://localhost:8080/"
        },
        "id": "9kfSKfi_5w1m",
        "outputId": "7ff521ea-762d-4bdf-a16f-823f9b070c63"
      },
      "execution_count": 13,
      "outputs": [
        {
          "output_type": "stream",
          "name": "stdout",
          "text": [
            "7 12\n",
            "1 2 3\n",
            "1 3 2\n",
            "3 2 1\n",
            "2 5 2\n",
            "3 4 4\n",
            "7 3 6\n",
            "5 1 5\n",
            "1 6 2\n",
            "6 4 1\n",
            "6 5 3\n",
            "4 5 3\n",
            "6 7 4\n",
            "8\n"
          ]
        }
      ]
    },
    {
      "cell_type": "code",
      "source": [
        "n = int(input())\n",
        "a,b,c,d = [],[],[],[]\n",
        "for _ in range(n):\n",
        "  a_,b_,c_,d_ = map(int, input().split())\n",
        "  a.append(a_)\n",
        "  b.append(b_)\n",
        "  c.append(c_)\n",
        "  d.append(d_)\n",
        "\n",
        "x,y = [],{}\n",
        "for i in range(n):\n",
        "  for j in range(n):\n",
        "    x.append(a[i]+b[j])\n",
        "    if c[i]+d[j] in y:\n",
        "      y[c[i]+d[j]] += 1\n",
        "    else:\n",
        "      y[c[i]+d[j]] = 1\n",
        "\n",
        "\n",
        "res = 0\n",
        "for i in range(n*n):\n",
        " if -x[i] in y:\n",
        "  res += y[-x[i]]\n",
        "\n",
        "print(res)"
      ],
      "metadata": {
        "colab": {
          "base_uri": "https://localhost:8080/"
        },
        "id": "div7AEbG4n1j",
        "outputId": "1946eb2f-a65b-4655-d5d1-e2bac51acb02"
      },
      "execution_count": 14,
      "outputs": [
        {
          "output_type": "stream",
          "name": "stdout",
          "text": [
            "6\n",
            "-45 22 42 -16\n",
            "-41 -27 56 30\n",
            "-36 53 -37 77\n",
            "-36 30 -75 -46\n",
            "26 -38 -10 62\n",
            "-32 -54 -6 45\n",
            "5\n"
          ]
        }
      ]
    },
    {
      "cell_type": "code",
      "source": [],
      "metadata": {
        "id": "DnhGWW3P74Fp"
      },
      "execution_count": null,
      "outputs": []
    }
  ]
}