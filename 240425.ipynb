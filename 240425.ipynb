{
  "nbformat": 4,
  "nbformat_minor": 0,
  "metadata": {
    "colab": {
      "provenance": [],
      "authorship_tag": "ABX9TyOl5wd9EmId8imfO225OfaN",
      "include_colab_link": true
    },
    "kernelspec": {
      "name": "python3",
      "display_name": "Python 3"
    },
    "language_info": {
      "name": "python"
    }
  },
  "cells": [
    {
      "cell_type": "markdown",
      "metadata": {
        "id": "view-in-github",
        "colab_type": "text"
      },
      "source": [
        "<a href=\"https://colab.research.google.com/github/paul6598/PS_practice/blob/main/240425.ipynb\" target=\"_parent\"><img src=\"https://colab.research.google.com/assets/colab-badge.svg\" alt=\"Open In Colab\"/></a>"
      ]
    },
    {
      "cell_type": "code",
      "execution_count": null,
      "metadata": {
        "colab": {
          "base_uri": "https://localhost:8080/",
          "height": 444
        },
        "id": "CM6FLhKG6o2P",
        "outputId": "a0d4085d-811c-4cc9-aa6f-735460d5eb73"
      },
      "outputs": [
        {
          "name": "stdout",
          "output_type": "stream",
          "text": [
            "1\n",
            "1\n",
            "1 1 2\n",
            "1 1\n"
          ]
        },
        {
          "output_type": "error",
          "ename": "KeyError",
          "evalue": "2",
          "traceback": [
            "\u001b[0;31m---------------------------------------------------------------------------\u001b[0m",
            "\u001b[0;31mKeyError\u001b[0m                                  Traceback (most recent call last)",
            "\u001b[0;32m<ipython-input-11-e08ec40102b3>\u001b[0m in \u001b[0;36m<cell line: 42>\u001b[0;34m()\u001b[0m\n\u001b[1;32m     40\u001b[0m   \u001b[0;32mreturn\u001b[0m \u001b[0mdist\u001b[0m\u001b[0;34m\u001b[0m\u001b[0;34m\u001b[0m\u001b[0m\n\u001b[1;32m     41\u001b[0m \u001b[0;34m\u001b[0m\u001b[0m\n\u001b[0;32m---> 42\u001b[0;31m \u001b[0mprint\u001b[0m\u001b[0;34m(\u001b[0m\u001b[0mdijk\u001b[0m\u001b[0;34m(\u001b[0m\u001b[0mgraph\u001b[0m\u001b[0;34m,\u001b[0m\u001b[0mn\u001b[0m\u001b[0;34m,\u001b[0m\u001b[0mstart\u001b[0m\u001b[0;34m)\u001b[0m\u001b[0;34m[\u001b[0m\u001b[0mend\u001b[0m\u001b[0;34m]\u001b[0m\u001b[0;34m[\u001b[0m\u001b[0;36m0\u001b[0m\u001b[0;34m]\u001b[0m\u001b[0;34m)\u001b[0m\u001b[0;34m\u001b[0m\u001b[0;34m\u001b[0m\u001b[0m\n\u001b[0m\u001b[1;32m     43\u001b[0m \u001b[0mprint\u001b[0m\u001b[0;34m(\u001b[0m\u001b[0mlen\u001b[0m\u001b[0;34m(\u001b[0m\u001b[0mdijk\u001b[0m\u001b[0;34m(\u001b[0m\u001b[0mgraph\u001b[0m\u001b[0;34m,\u001b[0m\u001b[0mn\u001b[0m\u001b[0;34m,\u001b[0m\u001b[0mstart\u001b[0m\u001b[0;34m)\u001b[0m\u001b[0;34m[\u001b[0m\u001b[0mend\u001b[0m\u001b[0;34m]\u001b[0m\u001b[0;34m[\u001b[0m\u001b[0;36m1\u001b[0m\u001b[0;34m]\u001b[0m\u001b[0;34m)\u001b[0m\u001b[0;34m)\u001b[0m\u001b[0;34m\u001b[0m\u001b[0;34m\u001b[0m\u001b[0m\n\u001b[1;32m     44\u001b[0m \u001b[0;32mfor\u001b[0m \u001b[0mi\u001b[0m \u001b[0;32min\u001b[0m \u001b[0mdijk\u001b[0m\u001b[0;34m(\u001b[0m\u001b[0mgraph\u001b[0m\u001b[0;34m,\u001b[0m\u001b[0mn\u001b[0m\u001b[0;34m,\u001b[0m\u001b[0mstart\u001b[0m\u001b[0;34m)\u001b[0m\u001b[0;34m[\u001b[0m\u001b[0mend\u001b[0m\u001b[0;34m]\u001b[0m\u001b[0;34m[\u001b[0m\u001b[0;36m1\u001b[0m\u001b[0;34m]\u001b[0m\u001b[0;34m:\u001b[0m\u001b[0;34m\u001b[0m\u001b[0;34m\u001b[0m\u001b[0m\n",
            "\u001b[0;32m<ipython-input-11-e08ec40102b3>\u001b[0m in \u001b[0;36mdijk\u001b[0;34m(graph, n, start)\u001b[0m\n\u001b[1;32m     34\u001b[0m       \u001b[0;32mfor\u001b[0m \u001b[0mnext_node\u001b[0m\u001b[0;34m,\u001b[0m \u001b[0mnext_dist\u001b[0m \u001b[0;32min\u001b[0m \u001b[0mgraph\u001b[0m\u001b[0;34m[\u001b[0m\u001b[0mcurr_node\u001b[0m\u001b[0;34m]\u001b[0m\u001b[0;34m.\u001b[0m\u001b[0mitems\u001b[0m\u001b[0;34m(\u001b[0m\u001b[0;34m)\u001b[0m\u001b[0;34m:\u001b[0m\u001b[0;34m\u001b[0m\u001b[0;34m\u001b[0m\u001b[0m\n\u001b[1;32m     35\u001b[0m         \u001b[0mnew_dist\u001b[0m \u001b[0;34m=\u001b[0m \u001b[0;34m[\u001b[0m\u001b[0mdist\u001b[0m\u001b[0;34m[\u001b[0m\u001b[0mcurr_node\u001b[0m\u001b[0;34m]\u001b[0m\u001b[0;34m[\u001b[0m\u001b[0;36m0\u001b[0m\u001b[0;34m]\u001b[0m\u001b[0;34m+\u001b[0m\u001b[0mnext_dist\u001b[0m\u001b[0;34m,\u001b[0m\u001b[0mcurr_way\u001b[0m\u001b[0;34m+\u001b[0m\u001b[0;34m[\u001b[0m\u001b[0mnext_node\u001b[0m\u001b[0;34m]\u001b[0m\u001b[0;34m]\u001b[0m\u001b[0;34m\u001b[0m\u001b[0;34m\u001b[0m\u001b[0m\n\u001b[0;32m---> 36\u001b[0;31m         \u001b[0;32mif\u001b[0m \u001b[0mnew_dist\u001b[0m\u001b[0;34m[\u001b[0m\u001b[0;36m0\u001b[0m\u001b[0;34m]\u001b[0m \u001b[0;34m<\u001b[0m \u001b[0mdist\u001b[0m\u001b[0;34m[\u001b[0m\u001b[0mnext_node\u001b[0m\u001b[0;34m]\u001b[0m\u001b[0;34m[\u001b[0m\u001b[0;36m0\u001b[0m\u001b[0;34m]\u001b[0m\u001b[0;34m:\u001b[0m\u001b[0;34m\u001b[0m\u001b[0;34m\u001b[0m\u001b[0m\n\u001b[0m\u001b[1;32m     37\u001b[0m           \u001b[0mdist\u001b[0m\u001b[0;34m[\u001b[0m\u001b[0mnext_node\u001b[0m\u001b[0;34m]\u001b[0m \u001b[0;34m=\u001b[0m \u001b[0mnew_dist\u001b[0m\u001b[0;34m\u001b[0m\u001b[0;34m\u001b[0m\u001b[0m\n\u001b[1;32m     38\u001b[0m           \u001b[0mheapq\u001b[0m\u001b[0;34m.\u001b[0m\u001b[0mheappush\u001b[0m\u001b[0;34m(\u001b[0m\u001b[0mq\u001b[0m\u001b[0;34m,\u001b[0m\u001b[0;34m[\u001b[0m\u001b[0mnew_dist\u001b[0m\u001b[0;34m,\u001b[0m \u001b[0mnext_node\u001b[0m\u001b[0;34m]\u001b[0m\u001b[0;34m)\u001b[0m\u001b[0;34m\u001b[0m\u001b[0;34m\u001b[0m\u001b[0m\n",
            "\u001b[0;31mKeyError\u001b[0m: 2"
          ]
        }
      ],
      "source": [
        "import heapq  # 우선순위 큐 구현을 위함\n",
        "\n",
        "n = int(input())\n",
        "m = int(input())\n",
        "graph = {}\n",
        "\n",
        "for _ in range(m):\n",
        "  u,v,w = map(int, input().split())\n",
        "  if u in graph:\n",
        "    if v in graph[u]:\n",
        "      graph[u][v] = min(w, graph[u][v])\n",
        "    else:\n",
        "      graph[u][v] = w\n",
        "  else:\n",
        "    graph[u] = {v:w}\n",
        "\n",
        "start, end = map(int, input().split())\n",
        "\n",
        "\n",
        "\n",
        "def dijk(graph, n, start):\n",
        "  dist = {i:[float(\"INF\"),[i]] for i in range(1,n+1)}\n",
        "  dist[start][0] = 0\n",
        "  q = []\n",
        "  heapq.heappush(q,[dist[start], start])\n",
        "  while q:\n",
        "    curr_dist_way, curr_node = heapq.heappop(q)\n",
        "    curr_dist, curr_way = curr_dist_way\n",
        "    #print(curr_node, curr_way)\n",
        "    if curr_node in graph:\n",
        "      for next_node, next_dist in graph[curr_node].items():\n",
        "        new_dist = [dist[curr_node][0]+next_dist,curr_way+[next_node]]\n",
        "        if new_dist[0] < dist[next_node][0]:\n",
        "          dist[next_node] = new_dist\n",
        "          heapq.heappush(q,[new_dist, next_node])\n",
        "\n",
        "  return dist\n",
        "\n",
        "print(dijk(graph,n,start)[end][0])\n",
        "print(len(dijk(graph,n,start)[end][1]))\n",
        "for i in dijk(graph,n,start)[end][1]:\n",
        "  print(i, end = \" \")\n"
      ]
    },
    {
      "cell_type": "code",
      "source": [
        "a = [[1,2],2]\n",
        "\n",
        "b,c,d  = a"
      ],
      "metadata": {
        "colab": {
          "base_uri": "https://localhost:8080/",
          "height": 192
        },
        "id": "IqIUkOp07M6q",
        "outputId": "ab6ade7f-2918-48ff-b690-1e15e11d245a"
      },
      "execution_count": null,
      "outputs": [
        {
          "output_type": "error",
          "ename": "ValueError",
          "evalue": "not enough values to unpack (expected 3, got 2)",
          "traceback": [
            "\u001b[0;31m---------------------------------------------------------------------------\u001b[0m",
            "\u001b[0;31mValueError\u001b[0m                                Traceback (most recent call last)",
            "\u001b[0;32m<ipython-input-1-b9522b52fb32>\u001b[0m in \u001b[0;36m<cell line: 3>\u001b[0;34m()\u001b[0m\n\u001b[1;32m      1\u001b[0m \u001b[0ma\u001b[0m \u001b[0;34m=\u001b[0m \u001b[0;34m[\u001b[0m\u001b[0;34m[\u001b[0m\u001b[0;36m1\u001b[0m\u001b[0;34m,\u001b[0m\u001b[0;36m2\u001b[0m\u001b[0;34m]\u001b[0m\u001b[0;34m,\u001b[0m\u001b[0;36m2\u001b[0m\u001b[0;34m]\u001b[0m\u001b[0;34m\u001b[0m\u001b[0;34m\u001b[0m\u001b[0m\n\u001b[1;32m      2\u001b[0m \u001b[0;34m\u001b[0m\u001b[0m\n\u001b[0;32m----> 3\u001b[0;31m \u001b[0mb\u001b[0m\u001b[0;34m,\u001b[0m\u001b[0mc\u001b[0m\u001b[0;34m,\u001b[0m\u001b[0md\u001b[0m  \u001b[0;34m=\u001b[0m \u001b[0ma\u001b[0m\u001b[0;34m\u001b[0m\u001b[0;34m\u001b[0m\u001b[0m\n\u001b[0m",
            "\u001b[0;31mValueError\u001b[0m: not enough values to unpack (expected 3, got 2)"
          ]
        }
      ]
    },
    {
      "cell_type": "code",
      "source": [
        "n = int(input())\n",
        "\n",
        "def put_queen(table_, y,x):\n",
        "  table = [arr[:] for arr in table_]\n",
        "  n = len(table)\n",
        "  table[y][x] = 1\n",
        "\n",
        "  i = 1\n",
        "  while y+i < n and x+i < n: # 오른쪽 아래로\n",
        "    table[y+i][x+i] = 1\n",
        "    i += 1\n",
        "\n",
        "  i = 1\n",
        "  while y+i < n and x-i >=0: # 왼쪽 아래로\n",
        "    table[y+i][x-i] = 1\n",
        "    i += 1\n",
        "\n",
        "  i = 1\n",
        "  while y+i < n: #아래로\n",
        "    table[y+i][x] = 1\n",
        "    i += 1\n",
        "  return table\n",
        "\n",
        "def dfs(n):\n",
        "  res = 0\n",
        "  visit = [[0]*n for _ in range(n)]\n",
        "  #stack = [[0,put_queen(visit,0,i)] for i in range(n)]\n",
        "  stack = []\n",
        "  for i in range(n):\n",
        "    stack.append([0,put_queen(visit,0,i)])\n",
        "  while stack:\n",
        "    y,table = stack.pop()\n",
        "\n",
        "    if y == n-1:\n",
        "      res += 1\n",
        "    else:\n",
        "      for i in range(n):\n",
        "        if table[y+1][i] == 0:\n",
        "          stack.append([y+1,put_queen(table,y+1,i)])\n",
        "\n",
        "  return res\n",
        "\n",
        "print(dfs(n))\n",
        "\n"
      ],
      "metadata": {
        "colab": {
          "base_uri": "https://localhost:8080/"
        },
        "id": "UAsNClDc7Qev",
        "outputId": "0e5747f0-f3e7-429a-f03e-824ac5f7e882"
      },
      "execution_count": null,
      "outputs": [
        {
          "output_type": "stream",
          "name": "stdout",
          "text": [
            "14\n",
            "365596\n"
          ]
        }
      ]
    },
    {
      "cell_type": "code",
      "source": [
        "\n",
        "inf = float('INF')\n",
        "v = int(input())\n",
        "e = int(input())\n",
        "table = [[inf]*v for _ in range(v)]\n",
        "for i in range(v):\n",
        "  table[i][i] = 0\n",
        "\n",
        "for _ in range(e):\n",
        "  U,V,dist = map(int, input().split())\n",
        "  table[U-1][V-1] = min(table[U-1][V-1],dist)\n",
        "\n",
        "for i in table:\n",
        "  print(i)\n",
        "print(\"\")\n",
        "for k in range(v):\n",
        "  for i in range(v):\n",
        "    for j in range(v):\n",
        "      table[i][j] = min(table[i][j], table[i][k]+table[k][j])\n",
        "\n",
        "for i in range(v):\n",
        "  for j in range(v):\n",
        "    if table[i][j] == inf:\n",
        "      print(0, end = \" \")\n",
        "    else:\n",
        "      print(table[i][j], end = \" \")\n",
        "  print(\"\")\n",
        "\n",
        "\n",
        "for k in range(v):\n",
        "  for i in range(v):\n",
        "    for j in range(v):\n",
        "      table[i][j] = min(table[i][j], table[i][k]+table[k][j])\n",
        "\n",
        "for i in range(v):\n",
        "  for j in range(v):\n",
        "    if table[i][j] == inf:\n",
        "      print(0, end = \" \")\n",
        "    else:\n",
        "      print(table[i][j], end = \" \")\n",
        "  print(\"\")"
      ],
      "metadata": {
        "colab": {
          "base_uri": "https://localhost:8080/"
        },
        "id": "q_OtP6veC711",
        "outputId": "253c3612-4ee8-463d-b405-02524f115b57"
      },
      "execution_count": null,
      "outputs": [
        {
          "output_type": "stream",
          "name": "stdout",
          "text": [
            "3\n",
            "3\n",
            "1 2 -1\n",
            "2 3 -1\n",
            "3 1 -1\n",
            "[0, -1, inf]\n",
            "[inf, 0, -1]\n",
            "[-1, inf, 0]\n",
            "\n",
            "-3 -4 -5 \n",
            "-2 -3 -4 \n",
            "-4 -5 -6 \n",
            "-93 -103 -158 \n",
            "-101 -111 -166 \n",
            "-157 -167 -222 \n"
          ]
        }
      ]
    },
    {
      "cell_type": "code",
      "source": [
        "t = int(input())\n",
        "inf = float('INF')\n",
        "\n",
        "def floid_check(table,n):\n",
        "  for k in range(n):\n",
        "    for i in range(n):\n",
        "      for j in range(n):\n",
        "        if table[i][j] > table[i][k]+table[k][j]:\n",
        "          table[i][j] = table[i][k]+table[k][j]\n",
        "          if i == j and table[i][j] < 0:\n",
        "            return \"YES\"\n",
        "  return \"NO\"\n",
        "\n",
        "for _ in range(t):\n",
        "  n,m,w = map(int, input().split())\n",
        "  table = [[inf]*n for _ in range(n)]\n",
        "  for i in range(n):\n",
        "    table[i][i] = 0\n",
        "\n",
        "  for _ in range(m):\n",
        "    U,V,dist = map(int, input().split())\n",
        "    table[U-1][V-1] = min(table[U-1][V-1],dist)\n",
        "    table[V-1][U-1] = min(table[V-1][U-1],dist)\n",
        "\n",
        "  for _ in range(w):\n",
        "    U,V,dist = map(int, input().split())\n",
        "    table[U-1][V-1] = min(table[U-1][V-1],-dist)\n",
        "\n",
        "  print(floid_check(table,n))\n",
        "\n",
        "\n"
      ],
      "metadata": {
        "id": "sXPTJZdqC_vI",
        "colab": {
          "base_uri": "https://localhost:8080/"
        },
        "outputId": "39f3c1ae-88a7-4a3e-fd43-ae3524f424b2"
      },
      "execution_count": null,
      "outputs": [
        {
          "output_type": "stream",
          "name": "stdout",
          "text": [
            "1\n",
            "3 0 3\n",
            "1 2 1\n",
            "2 3 1\n",
            "3 1 1\n",
            "YES\n"
          ]
        }
      ]
    },
    {
      "cell_type": "code",
      "source": [
        "t = int(input())\n",
        "inf = float('INF')\n",
        "\n",
        "def floid_check(table,n):\n",
        "  for k in range(n):\n",
        "    for i in range(n):\n",
        "      for j in range(n):\n",
        "        if table[i][j] > table[i][k]+table[k][j]:\n",
        "          return \"YES\"\n",
        "  return \"NO\"\n",
        "\n",
        "for _ in range(t):\n",
        "  n,m,w = map(int, input().split())\n",
        "  table = [[inf]*n for _ in range(n)]\n",
        "  for i in range(n):\n",
        "    table[i][i] = 0\n",
        "\n",
        "  for _ in range(m):\n",
        "    U,V,dist = map(int, input().split())\n",
        "    table[U-1][V-1] = min(table[U-1][V-1],dist)\n",
        "    table[V-1][U-1] = min(table[V-1][U-1],dist)\n",
        "\n",
        "  for _ in range(w):\n",
        "    U,V,dist = map(int, input().split())\n",
        "    table[U-1][V-1] = min(table[U-1][V-1],-dist)\n",
        "\n",
        "\n",
        "  for k in range(n):\n",
        "    for i in range(n):\n",
        "      for j in range(n):\n",
        "        table[i][j] = min(table[i][j], table[i][k]+table[k][j])\n",
        "\n",
        "  print(floid_check(table,n))\n",
        "\n"
      ],
      "metadata": {
        "colab": {
          "base_uri": "https://localhost:8080/"
        },
        "id": "y5zc8_Q-aQPZ",
        "outputId": "fb7f31d1-a170-4934-d095-d08368e08284"
      },
      "execution_count": null,
      "outputs": [
        {
          "output_type": "stream",
          "name": "stdout",
          "text": [
            "2\n",
            "3 3 0\n",
            "1 2 1\n",
            "2 3 1\n",
            "3 1 1\n",
            "YES\n",
            "3 0 3\n",
            "1 2 1\n",
            "2 3 1\n",
            "3 1 1\n",
            "YES\n"
          ]
        }
      ]
    },
    {
      "cell_type": "code",
      "source": [],
      "metadata": {
        "colab": {
          "base_uri": "https://localhost:8080/"
        },
        "id": "0AVhOhMOaRwq",
        "outputId": "655d5063-9c01-4e53-f819-76b041c38af4"
      },
      "execution_count": null,
      "outputs": [
        {
          "output_type": "stream",
          "name": "stdout",
          "text": [
            "1\n"
          ]
        }
      ]
    },
    {
      "cell_type": "code",
      "source": [],
      "metadata": {
        "id": "-2wDYhZGh1KN"
      },
      "execution_count": null,
      "outputs": []
    }
  ]
}