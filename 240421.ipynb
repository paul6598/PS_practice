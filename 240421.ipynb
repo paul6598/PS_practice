{
  "nbformat": 4,
  "nbformat_minor": 0,
  "metadata": {
    "colab": {
      "provenance": [],
      "authorship_tag": "ABX9TyNCQmDTqlfQ/Asg2gphbPTh",
      "include_colab_link": true
    },
    "kernelspec": {
      "name": "python3",
      "display_name": "Python 3"
    },
    "language_info": {
      "name": "python"
    }
  },
  "cells": [
    {
      "cell_type": "markdown",
      "metadata": {
        "id": "view-in-github",
        "colab_type": "text"
      },
      "source": [
        "<a href=\"https://colab.research.google.com/github/paul6598/PS_practice/blob/main/240421.ipynb\" target=\"_parent\"><img src=\"https://colab.research.google.com/assets/colab-badge.svg\" alt=\"Open In Colab\"/></a>"
      ]
    },
    {
      "cell_type": "code",
      "source": [
        "import sys\n",
        "input = sys.stdin.readline"
      ],
      "metadata": {
        "id": "JZpjR3wxBcqS"
      },
      "execution_count": null,
      "outputs": []
    },
    {
      "cell_type": "code",
      "execution_count": null,
      "metadata": {
        "colab": {
          "base_uri": "https://localhost:8080/",
          "height": 447
        },
        "id": "3JJCMgLMWyzW",
        "outputId": "5dcd9264-56e0-42c7-ceae-1b960e1c565a"
      },
      "outputs": [
        {
          "output_type": "stream",
          "name": "stdout",
          "text": [
            "XX.OOOXOX\n",
            "0 1 0 1\n",
            "valid\n"
          ]
        },
        {
          "output_type": "error",
          "ename": "KeyboardInterrupt",
          "evalue": "Interrupted by user",
          "traceback": [
            "\u001b[0;31m---------------------------------------------------------------------------\u001b[0m",
            "\u001b[0;31mKeyboardInterrupt\u001b[0m                         Traceback (most recent call last)",
            "\u001b[0;32m<ipython-input-9-bf3f44a18035>\u001b[0m in \u001b[0;36m<cell line: 29>\u001b[0;34m()\u001b[0m\n\u001b[1;32m     28\u001b[0m \u001b[0;34m\u001b[0m\u001b[0m\n\u001b[1;32m     29\u001b[0m \u001b[0;32mwhile\u001b[0m \u001b[0;32mTrue\u001b[0m\u001b[0;34m:\u001b[0m\u001b[0;34m\u001b[0m\u001b[0;34m\u001b[0m\u001b[0m\n\u001b[0;32m---> 30\u001b[0;31m   \u001b[0mgame\u001b[0m \u001b[0;34m=\u001b[0m \u001b[0minput\u001b[0m\u001b[0;34m(\u001b[0m\u001b[0;34m)\u001b[0m\u001b[0;34m\u001b[0m\u001b[0;34m\u001b[0m\u001b[0m\n\u001b[0m\u001b[1;32m     31\u001b[0m   \u001b[0;32mif\u001b[0m \u001b[0mgame\u001b[0m \u001b[0;34m==\u001b[0m \u001b[0;34m\"end\"\u001b[0m\u001b[0;34m:\u001b[0m\u001b[0;34m\u001b[0m\u001b[0;34m\u001b[0m\u001b[0m\n\u001b[1;32m     32\u001b[0m     \u001b[0;32mbreak\u001b[0m\u001b[0;34m\u001b[0m\u001b[0;34m\u001b[0m\u001b[0m\n",
            "\u001b[0;32m/usr/local/lib/python3.10/dist-packages/ipykernel/kernelbase.py\u001b[0m in \u001b[0;36mraw_input\u001b[0;34m(self, prompt)\u001b[0m\n\u001b[1;32m    849\u001b[0m                 \u001b[0;34m\"raw_input was called, but this frontend does not support input requests.\"\u001b[0m\u001b[0;34m\u001b[0m\u001b[0;34m\u001b[0m\u001b[0m\n\u001b[1;32m    850\u001b[0m             )\n\u001b[0;32m--> 851\u001b[0;31m         return self._input_request(str(prompt),\n\u001b[0m\u001b[1;32m    852\u001b[0m             \u001b[0mself\u001b[0m\u001b[0;34m.\u001b[0m\u001b[0m_parent_ident\u001b[0m\u001b[0;34m,\u001b[0m\u001b[0;34m\u001b[0m\u001b[0;34m\u001b[0m\u001b[0m\n\u001b[1;32m    853\u001b[0m             \u001b[0mself\u001b[0m\u001b[0;34m.\u001b[0m\u001b[0m_parent_header\u001b[0m\u001b[0;34m,\u001b[0m\u001b[0;34m\u001b[0m\u001b[0;34m\u001b[0m\u001b[0m\n",
            "\u001b[0;32m/usr/local/lib/python3.10/dist-packages/ipykernel/kernelbase.py\u001b[0m in \u001b[0;36m_input_request\u001b[0;34m(self, prompt, ident, parent, password)\u001b[0m\n\u001b[1;32m    893\u001b[0m             \u001b[0;32mexcept\u001b[0m \u001b[0mKeyboardInterrupt\u001b[0m\u001b[0;34m:\u001b[0m\u001b[0;34m\u001b[0m\u001b[0;34m\u001b[0m\u001b[0m\n\u001b[1;32m    894\u001b[0m                 \u001b[0;31m# re-raise KeyboardInterrupt, to truncate traceback\u001b[0m\u001b[0;34m\u001b[0m\u001b[0;34m\u001b[0m\u001b[0m\n\u001b[0;32m--> 895\u001b[0;31m                 \u001b[0;32mraise\u001b[0m \u001b[0mKeyboardInterrupt\u001b[0m\u001b[0;34m(\u001b[0m\u001b[0;34m\"Interrupted by user\"\u001b[0m\u001b[0;34m)\u001b[0m \u001b[0;32mfrom\u001b[0m \u001b[0;32mNone\u001b[0m\u001b[0;34m\u001b[0m\u001b[0;34m\u001b[0m\u001b[0m\n\u001b[0m\u001b[1;32m    896\u001b[0m             \u001b[0;32mexcept\u001b[0m \u001b[0mException\u001b[0m \u001b[0;32mas\u001b[0m \u001b[0me\u001b[0m\u001b[0;34m:\u001b[0m\u001b[0;34m\u001b[0m\u001b[0;34m\u001b[0m\u001b[0m\n\u001b[1;32m    897\u001b[0m                 \u001b[0mself\u001b[0m\u001b[0;34m.\u001b[0m\u001b[0mlog\u001b[0m\u001b[0;34m.\u001b[0m\u001b[0mwarning\u001b[0m\u001b[0;34m(\u001b[0m\u001b[0;34m\"Invalid Message:\"\u001b[0m\u001b[0;34m,\u001b[0m \u001b[0mexc_info\u001b[0m\u001b[0;34m=\u001b[0m\u001b[0;32mTrue\u001b[0m\u001b[0;34m)\u001b[0m\u001b[0;34m\u001b[0m\u001b[0;34m\u001b[0m\u001b[0m\n",
            "\u001b[0;31mKeyboardInterrupt\u001b[0m: Interrupted by user"
          ]
        }
      ],
      "source": [
        "def count_ox(game):\n",
        "  res = 0\n",
        "  for i in game:\n",
        "    if i == \"X\":\n",
        "      res += 1\n",
        "    elif i == \"O\":\n",
        "      res -= 1\n",
        "\n",
        "  return res\n",
        "\n",
        "def num_game_set(game):\n",
        "  O = 0\n",
        "  X = 0\n",
        "  cases = [[0,1,2],[3,4,5],[6,7,8],[0,3,6],[1,4,7],[2,5,8],[0,4,8],[2,4,6]]\n",
        "  for i in cases:\n",
        "    if (game[i[0]] == game[i[1]] == game[i[2]] ) and game[i[0]] == \"O\":\n",
        "      O += 1\n",
        "    if (game[i[0]] == game[i[1]] == game[i[2]] ) and game[i[0]] == \"X\":\n",
        "      X += 1\n",
        "  return O,X\n",
        "\n",
        "def count_blank(game):\n",
        "  res = 0\n",
        "  for i in game:\n",
        "    if i == \".\":\n",
        "      res += 1\n",
        "  return res\n",
        "\n",
        "while True:\n",
        "  game = input()\n",
        "  if game == \"end\":\n",
        "    break\n",
        "\n",
        "  cnt_ox = count_ox(game)\n",
        "  o_win, x_win = num_game_set(game)\n",
        "  cnt_blank = count_blank(game)\n",
        "  print(cnt_ox, o_win, x_win, cnt_blank)\n",
        "  if cnt_ox != 0 and cnt_ox != 1:\n",
        "    print(\"invalid\")\n",
        "\n",
        "  elif cnt_ox == 0: # O가 이김\n",
        "    if o_win == 1 and x_win == 0:\n",
        "      print(\"valid\")\n",
        "    else:\n",
        "      print(\"invalid\")\n",
        "\n",
        "  else: # cnt_ox == 1, x가 이기거나 무승부\n",
        "    if o_win==0 and (x_win >= 1 or cnt_blank == 0):\n",
        "      print(\"valid\")\n",
        "    else:\n",
        "      print(\"invalid\")"
      ]
    },
    {
      "cell_type": "code",
      "source": [
        "h,w,n,m = map(int, input().split())\n",
        "if h%(n+1) == 0:\n",
        "  a = h//(n+1)\n",
        "else:\n",
        "  a = h//(n+1)+1\n",
        "\n",
        "if w%(m+1) == 0:\n",
        "  b = w//(m+1)\n",
        "else:\n",
        "  b = w//(m+1)+1\n",
        "\n",
        "print(a*b)"
      ],
      "metadata": {
        "id": "CE9AGwgeZKzd",
        "colab": {
          "base_uri": "https://localhost:8080/"
        },
        "outputId": "b01163f3-3451-40c5-8b96-8cb99ae61885"
      },
      "execution_count": 11,
      "outputs": [
        {
          "output_type": "stream",
          "name": "stdout",
          "text": [
            "5 4 1 1\n",
            "6\n"
          ]
        }
      ]
    },
    {
      "cell_type": "code",
      "source": [
        "n,k = map(int, input().split())\n",
        "country = {}\n",
        "for _ in range(n):\n",
        "  ctry, gold, silver, cooper = map(int, input().split())\n",
        "  country[ctry] = [gold, silver, cooper]\n",
        "\n",
        "country = dict(sorted(country.items(), key = lambda x:x[1], reverse = True))\n",
        "#print(country)\n",
        "\n",
        "rank_list = [1]\n",
        "rank_ = 2\n",
        "\n",
        "key_ = list(country.keys())\n",
        "\n",
        "if n == 1:\n",
        "  print(1)\n",
        "else:\n",
        "  if k == key_[0]:\n",
        "    print(1)\n",
        "  else:\n",
        "    for i in range(1,len(key_)):\n",
        "      if country[key_[i]] == country[key_[i-1]]:\n",
        "        rank_list.append(rank_list[-1])\n",
        "        rank_ += 1\n",
        "      else:\n",
        "        rank_list.append(rank_)\n",
        "        rank_ += 1\n",
        "\n",
        "      if k == key_[i]:\n",
        "        print(rank_list[-1])\n",
        "        break\n"
      ],
      "metadata": {
        "colab": {
          "base_uri": "https://localhost:8080/"
        },
        "id": "6On_-h5X7zau",
        "outputId": "42ea1e5a-c4b5-4460-d390-ffbb50e5244a"
      },
      "execution_count": 29,
      "outputs": [
        {
          "output_type": "stream",
          "name": "stdout",
          "text": [
            "1 1\n",
            "2 1 1 1\n",
            "1\n"
          ]
        }
      ]
    },
    {
      "cell_type": "code",
      "source": [
        "n = int(input())\n",
        "switch = list(map(int, input().split()))\n",
        "\n",
        "student_num = int(input())\n",
        "student = []\n",
        "for _ in range(student_num):\n",
        "  student.append(list(map(int, input().split())))\n",
        "\n",
        "def boy(switch, num):\n",
        "  i = 1\n",
        "  while i*num < len(switch):\n",
        "    switch[i*num-1] = 1-switch[i*num-1]\n",
        "    i += 1\n",
        "  return\n",
        "\n",
        "def girl(switch, num):\n",
        "  switch[num-1] = 1-switch[num-1]\n",
        "  i = 1\n",
        "  while num-i-1 >=0 and num+i-1 < len(switch) and switch[num-i-1] == switch[num+i-1]:\n",
        "    switch[num-i-1] = 1-switch[num-i-1]\n",
        "    switch[num+i-1] = 1-switch[num+i-1]\n",
        "    i += 1\n",
        "  return\n",
        "\n",
        "for gender, num in student:\n",
        "  for i in switch:\n",
        "    print(i, end = \" \")\n",
        "  print(\"\")\n",
        "  if gender == 1:\n",
        "    boy(switch, num)\n",
        "  else:\n",
        "    girl(switch, num)\n",
        "\n",
        "for i in switch:\n",
        "  print(i, end = \" \")"
      ],
      "metadata": {
        "colab": {
          "base_uri": "https://localhost:8080/"
        },
        "id": "1hIw_t0s_nFg",
        "outputId": "33ac3f15-1aa4-4001-f229-5d23ef4fb1aa"
      },
      "execution_count": 36,
      "outputs": [
        {
          "output_type": "stream",
          "name": "stdout",
          "text": [
            "8\n",
            "0 1 0 1 0 0 0 1\n",
            "2\n",
            "1 3\n",
            "2 3\n",
            "0 1 0 1 0 0 0 1 \n",
            "0 1 1 1 0 1 0 1 \n",
            "1 0 0 0 1 1 0 1 "
          ]
        }
      ]
    },
    {
      "cell_type": "code",
      "source": [
        "n = int(input())\n",
        "switch = list(map(int, input().split()))\n",
        "\n",
        "student_num = int(input())\n",
        "student = []\n",
        "for _ in range(student_num):\n",
        "  student.append(list(map(int, input().split())))\n",
        "\n",
        "def boy(switch, num):\n",
        "  i = 1\n",
        "  while i*num-1 < len(switch):\n",
        "    switch[i*num-1] = 1-switch[i*num-1]\n",
        "    i += 1\n",
        "  return\n",
        "\n",
        "def girl(switch, num):\n",
        "  switch[num-1] = 1-switch[num-1]\n",
        "  i = 1\n",
        "  while num-i-1 >=0 and num+i-1 < len(switch) and switch[num-i-1] == switch[num+i-1]:\n",
        "    switch[num-i-1] = 1-switch[num-i-1]\n",
        "    switch[num+i-1] = 1-switch[num+i-1]\n",
        "    i += 1\n",
        "  return\n",
        "\n",
        "for gender, num in student:\n",
        "  if gender == 1:\n",
        "    boy(switch, num)\n",
        "  else:\n",
        "    girl(switch, num)\n",
        "\n",
        "for i in range(len(switch)):\n",
        "  if i>0 and i%20 == 0:\n",
        "    print(\"\")\n",
        "  print(switch[i], end = \" \")\n"
      ],
      "metadata": {
        "colab": {
          "base_uri": "https://localhost:8080/"
        },
        "id": "5LwcHayrH35J",
        "outputId": "8e43637d-a730-45e2-b4de-1b54d5420c6b"
      },
      "execution_count": 44,
      "outputs": [
        {
          "output_type": "stream",
          "name": "stdout",
          "text": [
            "40\n",
            "1 1 1 1 1 1 1 1 1 1 1 1 1 1 1 1 1 1 1 1 1 1 1 1 1 1 1 1 1 1 1 1 1 1 1 1 1 1 1 1 \n",
            "1\n",
            "1 3\n",
            "1 1 0 1 1 0 1 1 0 1 1 0 1 1 0 1 1 0 1 1 \n",
            "0 1 1 0 1 1 0 1 1 0 1 1 0 1 1 0 1 1 0 1 "
          ]
        }
      ]
    },
    {
      "cell_type": "code",
      "source": [],
      "metadata": {
        "id": "R6D2r4kYKVDj"
      },
      "execution_count": null,
      "outputs": []
    }
  ]
}