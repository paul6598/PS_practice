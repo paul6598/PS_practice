{
  "nbformat": 4,
  "nbformat_minor": 0,
  "metadata": {
    "colab": {
      "provenance": [],
      "authorship_tag": "ABX9TyMlQpYIZ+CUJ4mWd2a3pZSS",
      "include_colab_link": true
    },
    "kernelspec": {
      "name": "python3",
      "display_name": "Python 3"
    },
    "language_info": {
      "name": "python"
    }
  },
  "cells": [
    {
      "cell_type": "markdown",
      "metadata": {
        "id": "view-in-github",
        "colab_type": "text"
      },
      "source": [
        "<a href=\"https://colab.research.google.com/github/paul6598/PS_practice/blob/main/240817.ipynb\" target=\"_parent\"><img src=\"https://colab.research.google.com/assets/colab-badge.svg\" alt=\"Open In Colab\"/></a>"
      ]
    },
    {
      "cell_type": "code",
      "execution_count": 22,
      "metadata": {
        "colab": {
          "base_uri": "https://localhost:8080/"
        },
        "id": "gmC7oGx1ypnQ",
        "outputId": "1acc283b-40cb-42bf-e6ef-3c782de95f7c"
      },
      "outputs": [
        {
          "output_type": "stream",
          "name": "stdout",
          "text": [
            "123456789 987654321 7\n",
            "17418947301805038.000000000\n"
          ]
        }
      ],
      "source": [
        "import decimal\n",
        "\n",
        "a,b,c = map(float, input().split())\n",
        "#print(decimal.Decimal(a*b/c))\n",
        "print('%.9f'%(a*b/c))"
      ]
    },
    {
      "cell_type": "code",
      "source": [
        "import decimal\n",
        "\n",
        "a,b,c = map(decimal.Decimal, input().split())\n",
        "print(a*b/c)"
      ],
      "metadata": {
        "colab": {
          "base_uri": "https://localhost:8080/"
        },
        "id": "lFd72AdPzcx2",
        "outputId": "5ce8eb4b-c514-46e9-8553-dac30a9eb5f2"
      },
      "execution_count": 35,
      "outputs": [
        {
          "output_type": "stream",
          "name": "stdout",
          "text": [
            "123456789 987654321 7\n",
            "17418947301805038.42857142857\n"
          ]
        }
      ]
    },
    {
      "cell_type": "code",
      "source": [
        "121932631112635269/7"
      ],
      "metadata": {
        "colab": {
          "base_uri": "https://localhost:8080/"
        },
        "id": "FbofK-ae0xrN",
        "outputId": "19dee8ef-6c86-43bd-c14c-9ef5823fcad7"
      },
      "execution_count": 24,
      "outputs": [
        {
          "output_type": "execute_result",
          "data": {
            "text/plain": [
              "1.7418947301805038e+16"
            ]
          },
          "metadata": {},
          "execution_count": 24
        }
      ]
    },
    {
      "cell_type": "code",
      "source": [
        "17636684.14285714*987654321"
      ],
      "metadata": {
        "colab": {
          "base_uri": "https://localhost:8080/"
        },
        "id": "2jQivGWz75t6",
        "outputId": "134be772-3675-442b-eb70-e113d1667ae1"
      },
      "execution_count": 26,
      "outputs": [
        {
          "output_type": "execute_result",
          "data": {
            "text/plain": [
              "1.7418947301805038e+16"
            ]
          },
          "metadata": {},
          "execution_count": 26
        }
      ]
    },
    {
      "cell_type": "code",
      "source": [
        "\n",
        "while True:\n",
        "  station, bus = input().split()\n",
        "  if station == \"#\" and bus == \"0\":\n",
        "    break\n",
        "  bus = int(bus)\n",
        "  passenger = int(input())\n",
        "  s = int(input())\n",
        "  for _ in range(s):\n",
        "    out_bus, in_bus = map(int,input().split())\n",
        "    passenger -= out_bus\n",
        "    passenger = min(bus, passenger+in_bus)\n",
        "\n",
        "  print(station,passenger)"
      ],
      "metadata": {
        "colab": {
          "base_uri": "https://localhost:8080/"
        },
        "id": "pKVEFbHQ8AJF",
        "outputId": "764b5e36-bc02-4e27-dc79-fffbfb6ca2b3"
      },
      "execution_count": 54,
      "outputs": [
        {
          "name": "stdout",
          "output_type": "stream",
          "text": [
            "# 0\n"
          ]
        }
      ]
    },
    {
      "cell_type": "code",
      "source": [
        "from collections import deque\n",
        "\n",
        "'''\n",
        "def bfs(graph,start):\n",
        "  n = len(graph)\n",
        "  visit = [0]*n\n",
        "  res = 0\n",
        "  q = deque([start])\n",
        "  visit[start] = 1\n",
        "\n",
        "  while q:\n",
        "    node = deque.popleft()\n",
        "    for i in range(n):\n",
        "      if graph[node][i] != 0 and visit[i] != 0:\n",
        "        q.append(i)\n",
        "        visit[i] = 1\n",
        "        res += 1\n",
        "'''\n",
        "\n",
        "t = int(input())\n",
        "for _ in range(t):\n",
        "  n,m = map(int,input().split())\n",
        "  graph = [[0]*n for _ in range(n)]\n",
        "  for _ in range(m):\n",
        "    a,b = map(int,input().split())\n",
        "    graph[a-1][b-1],graph[b-1][a-1] = 1,1\n",
        "  print(n-1)\n",
        "\n",
        "\n"
      ],
      "metadata": {
        "colab": {
          "base_uri": "https://localhost:8080/"
        },
        "id": "9DnhY1v0_d6r",
        "outputId": "2f4384af-89f9-4740-a0d4-1747e3ff9860"
      },
      "execution_count": 56,
      "outputs": [
        {
          "output_type": "stream",
          "name": "stdout",
          "text": [
            "2\n",
            "3 3\n",
            "1 2\n",
            "2 3\n",
            "1 3\n",
            "2\n",
            "5 4\n",
            "2 1\n",
            "2 3\n",
            "4 3\n",
            "4 5\n",
            "4\n"
          ]
        }
      ]
    },
    {
      "cell_type": "code",
      "source": [
        "n = int(input())\n",
        "if n%2 == 0:\n",
        "  for i in range(n//2,0,-1):\n",
        "    print(i, end = \" \")\n",
        "    print(i+n//2, end = \" \")\n",
        "else:\n",
        "  print(n,end = \" \")\n",
        "  for i in range(n//2,0,-1):\n",
        "    print(i, end = \" \")\n",
        "    print(i+n//2, end = \" \")\n",
        ""
      ],
      "metadata": {
        "colab": {
          "base_uri": "https://localhost:8080/"
        },
        "id": "XypK5SsnCHMx",
        "outputId": "da3d578f-a1cb-4077-cc40-d646ffbc589d"
      },
      "execution_count": 65,
      "outputs": [
        {
          "output_type": "stream",
          "name": "stdout",
          "text": [
            "11\n",
            "11\n",
            "5 10 4 9 3 8 2 7 1 6 "
          ]
        }
      ]
    },
    {
      "cell_type": "code",
      "source": [
        "r,c = map(int,input().split())\n",
        "table = []\n",
        "for _ in range(r):\n",
        "  table.append(input())\n",
        "\n",
        "dic = []\n",
        "\n",
        "for i in range(r):\n",
        "  word = ''\n",
        "  for j in range(c):\n",
        "    if table[i][j] == \"#\":\n",
        "      if len(word) > 1:\n",
        "        dic.append(word)\n",
        "      else:\n",
        "        word = \"\"\n",
        "    else:\n",
        "      word += table[i][j]\n",
        "      if j == c-1 and len(word)>1:\n",
        "        dic.append(word)\n",
        "\n",
        "for i in range(c):\n",
        "  word = ''\n",
        "  for j in range(r):\n",
        "    if table[j][i] == \"#\":\n",
        "      if len(word) > 1:\n",
        "        dic.append(word)\n",
        "      else:\n",
        "        word = \"\"\n",
        "    else:\n",
        "      word += table[j][i]\n",
        "      if j == r-1 and len(word)>1:\n",
        "        dic.append(word)\n",
        "\n",
        "print(sorted(dic)[0])"
      ],
      "metadata": {
        "colab": {
          "base_uri": "https://localhost:8080/"
        },
        "id": "amU1ZwZAHwzl",
        "outputId": "2619f126-e23f-4c5b-d235-16725f08c4cd"
      },
      "execution_count": 76,
      "outputs": [
        {
          "output_type": "stream",
          "name": "stdout",
          "text": [
            "2 2\n",
            "##\n",
            "as\n",
            "a\n"
          ]
        }
      ]
    },
    {
      "cell_type": "code",
      "source": [
        "2**63\n"
      ],
      "metadata": {
        "colab": {
          "base_uri": "https://localhost:8080/"
        },
        "id": "YKbhM6CkKkoa",
        "outputId": "8c0ea3a7-2f26-4bc4-e8d3-bb8ddd8f3bc7"
      },
      "execution_count": 78,
      "outputs": [
        {
          "output_type": "execute_result",
          "data": {
            "text/plain": [
              "9223372036854775808"
            ]
          },
          "metadata": {},
          "execution_count": 78
        }
      ]
    },
    {
      "cell_type": "code",
      "source": [
        "a,b = input().split()\n",
        "res = []\n",
        "for i in range(2,37):\n",
        "  for j in range(2,37):\n",
        "\n",
        "    try:\n",
        "      first = int(a,i)\n",
        "      second = int(b,j)\n",
        "      if i != j and first == second and first < 2**63:\n",
        "        res.append((first,i,j))\n",
        "    except:\n",
        "      continue\n",
        "\n",
        "if len(res) == 1:\n",
        "  print(*res[0])\n",
        "elif len(res) == 0:\n",
        "  print(\"Impossible\")\n",
        "else:\n",
        "  print(\"Multiple\")"
      ],
      "metadata": {
        "colab": {
          "base_uri": "https://localhost:8080/"
        },
        "id": "GgID9FpqOD_n",
        "outputId": "587d0c66-15b2-4461-a729-085773a4e18b"
      },
      "execution_count": 93,
      "outputs": [
        {
          "output_type": "stream",
          "name": "stdout",
          "text": [
            "2222222222222222222222222222222222222222222222222222222222222222222222 8888888888888888888888888888888\n",
            "Impossible\n"
          ]
        }
      ]
    },
    {
      "cell_type": "code",
      "source": [
        "n = int(input())\n",
        "beads = list(map(int, input().split()))\n",
        "energy = 0\n",
        "res = 0\n",
        "def backtrk(beads,energy,res):\n",
        "  len_ = len(beads)\n",
        "  #print(len_,beads,energy,res)\n",
        "  if len_ == 2:\n",
        "    res = max(res,energy)\n",
        "    #print(res)\n",
        "  else:\n",
        "    for i in range(1,len_-1):\n",
        "\n",
        "      tmp = beads[:]\n",
        "      tmp.pop(i)\n",
        "      #print(beads,i)\n",
        "      res = backtrk(tmp,energy + beads[i-1]*beads[i+1],res)\n",
        "  return res\n",
        "\n",
        "print(backtrk(beads,energy,res))"
      ],
      "metadata": {
        "colab": {
          "base_uri": "https://localhost:8080/"
        },
        "id": "sG2qGtIFPSJp",
        "outputId": "0717e551-bfe1-4654-cb53-8a04a7f1fd55"
      },
      "execution_count": 111,
      "outputs": [
        {
          "output_type": "stream",
          "name": "stdout",
          "text": [
            "8\n",
            "1 1 1 1 1 1 1 1\n",
            "6\n"
          ]
        }
      ]
    },
    {
      "cell_type": "code",
      "source": [
        "n = int(input())\n",
        "\n",
        "for i in range(n-1):\n",
        "  print(1,-1,end = \" \")\n",
        "print(-1,1)"
      ],
      "metadata": {
        "colab": {
          "base_uri": "https://localhost:8080/"
        },
        "id": "HL6ZG4YZPdAi",
        "outputId": "95f5369d-4238-4eed-cc8b-9785f836a2fd"
      },
      "execution_count": 15,
      "outputs": [
        {
          "output_type": "stream",
          "name": "stdout",
          "text": [
            "2\n",
            "1 -1 -1 1\n"
          ]
        }
      ]
    },
    {
      "cell_type": "code",
      "source": [
        "n = int(input())\n",
        "\n",
        "\n",
        "table = [[-1,1],[1,-1,-1,1],[1,-1,1,-1,-1,1],[1,-1,1,-1,1,-1,-1,1]]\n",
        "k = [-1,-1,1,-1,-1,1,1,1]\n",
        "\n",
        "result = []\n",
        "\n",
        "if n % 4 == 1:\n",
        "    result.extend(table[0])\n",
        "    for i in range(n // 4):\n",
        "        result.extend(k)\n",
        "elif n % 4 == 2:\n",
        "    result.extend(table[1])\n",
        "    for i in range(n // 4):\n",
        "        result.extend(k)\n",
        "elif n % 4 == 3:\n",
        "    result.extend(table[2])\n",
        "    for i in range(n // 4):\n",
        "        result.extend(k)\n",
        "elif n % 4 == 0:\n",
        "    result.extend(table[3])\n",
        "    for i in range(n // 4):\n",
        "        result.extend(k)\n",
        "\n",
        "print(\" \".join(map(str, result)))"
      ],
      "metadata": {
        "colab": {
          "base_uri": "https://localhost:8080/"
        },
        "id": "ZtsBFbr1OcF9",
        "outputId": "fcabd2d8-b70c-4914-8ab2-ffb7feca9bad"
      },
      "execution_count": 13,
      "outputs": [
        {
          "output_type": "stream",
          "name": "stdout",
          "text": [
            "5\n",
            "-1 1 -1 -1 1 -1 -1 1 1 1\n"
          ]
        }
      ]
    },
    {
      "cell_type": "code",
      "source": [
        "a = list(map(int,[*input()]))\n",
        "a"
      ],
      "metadata": {
        "colab": {
          "base_uri": "https://localhost:8080/"
        },
        "id": "4t69CPNCVwf6",
        "outputId": "23253275-0e5e-4ed7-ef39-adaf20d5b2d9"
      },
      "execution_count": 29,
      "outputs": [
        {
          "name": "stdout",
          "output_type": "stream",
          "text": [
            "1234\n"
          ]
        },
        {
          "output_type": "execute_result",
          "data": {
            "text/plain": [
              "[1, 2, 3, 4]"
            ]
          },
          "metadata": {},
          "execution_count": 29
        }
      ]
    },
    {
      "cell_type": "code",
      "source": [
        "n = int(input())\n",
        "table = []\n",
        "for _ in range(n):\n",
        "  table.append(list(map(int,[*input()])))\n",
        "\n",
        "#dp[mask][people] ,방문한 집합이 mask일때, people가 가지고 있을때 그림의 최소현재가치\n",
        "\n",
        "dp = [[float(\"inf\")]*n for _ in range(1<<n)]\n",
        "\n",
        "for mask in range(1<<n):\n",
        "  for people in range(n):\n",
        "    if not (mask&(1<<people)):\n",
        "      continue\n",
        "    for i in range(n):\n",
        "      if mask&(1<<i):\n",
        "        continue\n",
        "      if dp[mask][people] >= table[people][i]:\n",
        "        next_mask = mask|(1<<i)\n",
        "        dp[next_mask][i] = min(dp[next_mask][i],table[people][i])\n",
        ""
      ],
      "metadata": {
        "colab": {
          "base_uri": "https://localhost:8080/"
        },
        "id": "4qF8rY8tQr4A",
        "outputId": "b4aba0a3-f532-4221-bf0c-dca7cbe1f5e0"
      },
      "execution_count": 38,
      "outputs": [
        {
          "name": "stdout",
          "output_type": "stream",
          "text": [
            "5\n",
            "01231\n",
            "00231\n",
            "00031\n",
            "00002\n",
            "00000\n"
          ]
        }
      ]
    },
    {
      "cell_type": "code",
      "source": [
        "dp"
      ],
      "metadata": {
        "colab": {
          "base_uri": "https://localhost:8080/"
        },
        "id": "8TSkgoNHcKZA",
        "outputId": "4c6d30ec-4d4f-4323-ae18-25a7d163d2f8"
      },
      "execution_count": 39,
      "outputs": [
        {
          "output_type": "execute_result",
          "data": {
            "text/plain": [
              "[[inf, inf, inf, inf, inf],\n",
              " [inf, inf, inf, inf, inf],\n",
              " [inf, inf, inf, inf, inf],\n",
              " [0, 1, inf, inf, inf],\n",
              " [inf, inf, inf, inf, inf],\n",
              " [0, inf, 2, inf, inf],\n",
              " [inf, 0, 2, inf, inf],\n",
              " [0, 0, inf, inf, inf],\n",
              " [inf, inf, inf, inf, inf],\n",
              " [0, inf, inf, 3, inf],\n",
              " [inf, 0, inf, 3, inf],\n",
              " [0, 0, inf, inf, inf],\n",
              " [inf, inf, 0, 3, inf],\n",
              " [0, inf, 0, inf, inf],\n",
              " [inf, 0, 0, inf, inf],\n",
              " [0, 0, 0, 3, inf],\n",
              " [inf, inf, inf, inf, inf],\n",
              " [0, inf, inf, inf, 1],\n",
              " [inf, 0, inf, inf, 1],\n",
              " [0, 0, inf, inf, 1],\n",
              " [inf, inf, 0, inf, 1],\n",
              " [0, inf, 0, inf, 1],\n",
              " [inf, 0, 0, inf, 1],\n",
              " [0, 0, 0, inf, 1],\n",
              " [inf, inf, inf, 0, 2],\n",
              " [0, inf, inf, 0, 2],\n",
              " [inf, 0, inf, 0, 2],\n",
              " [0, 0, inf, 0, 2],\n",
              " [inf, inf, 0, 0, 2],\n",
              " [0, inf, 0, 0, 2],\n",
              " [inf, 0, 0, 0, 2],\n",
              " [0, 0, 0, 0, 2]]"
            ]
          },
          "metadata": {},
          "execution_count": 39
        }
      ]
    },
    {
      "cell_type": "code",
      "source": [
        "n = int(input())\n",
        "table = []\n",
        "for _ in range(n):\n",
        "  table.append(list(map(int,[*input()])))\n",
        "\n",
        "#dp[mask][people] ,방문한 집합이 mask일때, people가 가지고 있을때 그림의 최소가치\n",
        "res = 0\n",
        "\n",
        "dp = [[float('inf')]*n for _ in range(1<<n)]\n",
        "dp[1][0] = 0\n",
        "\n",
        "for mask in range(1<<n):\n",
        "  for people in range(n):\n",
        "    print(dp[mask][people])\n",
        "    if not (mask&(1<<people)):\n",
        "      continue\n",
        "    for i in range(n):\n",
        "      if mask&(1<<i) or people == i:\n",
        "        continue\n",
        "      if dp[next_mask][i] == float('inf') or dp[mask][people] <= table[people][i]:\n",
        "        next_mask = mask|(1<<i)\n",
        "        dp[next_mask][i] = table[people][i]\n",
        "        res = max(res,next_mask.bit_count())\n",
        "        print(mask,res)\n",
        "#dp\n",
        "print(res)"
      ],
      "metadata": {
        "colab": {
          "base_uri": "https://localhost:8080/"
        },
        "id": "czDk7kFsYLWc",
        "outputId": "cc719b72-eb47-4171-8655-45b1e68670e9"
      },
      "execution_count": 62,
      "outputs": [
        {
          "output_type": "stream",
          "name": "stdout",
          "text": [
            "5\n",
            "01231\n",
            "00231\n",
            "00031\n",
            "00002\n",
            "00000\n",
            "inf\n",
            "inf\n",
            "inf\n",
            "inf\n",
            "inf\n",
            "0\n",
            "1 2\n",
            "1 2\n",
            "1 2\n",
            "1 2\n",
            "inf\n",
            "inf\n",
            "inf\n",
            "inf\n",
            "inf\n",
            "inf\n",
            "2 2\n",
            "2 2\n",
            "2 2\n",
            "2 2\n",
            "inf\n",
            "inf\n",
            "inf\n",
            "0\n",
            "3 3\n",
            "3 3\n",
            "3 3\n",
            "1\n",
            "3 3\n",
            "3 3\n",
            "3 3\n",
            "inf\n",
            "inf\n",
            "inf\n",
            "inf\n",
            "inf\n",
            "inf\n",
            "4 3\n",
            "4 3\n",
            "4 3\n",
            "4 3\n",
            "inf\n",
            "inf\n",
            "0\n",
            "5 3\n",
            "5 3\n",
            "5 3\n",
            "inf\n",
            "2\n",
            "5 3\n",
            "5 3\n",
            "5 3\n",
            "inf\n",
            "inf\n",
            "inf\n",
            "0\n",
            "6 3\n",
            "6 3\n",
            "6 3\n",
            "2\n",
            "6 3\n",
            "6 3\n",
            "6 3\n",
            "inf\n",
            "inf\n",
            "0\n",
            "7 4\n",
            "7 4\n",
            "0\n",
            "7 4\n",
            "7 4\n",
            "2\n",
            "7 4\n",
            "7 4\n",
            "inf\n",
            "inf\n",
            "inf\n",
            "inf\n",
            "inf\n",
            "inf\n",
            "8 4\n",
            "8 4\n",
            "8 4\n",
            "8 4\n",
            "inf\n",
            "0\n",
            "9 4\n",
            "9 4\n",
            "9 4\n",
            "inf\n",
            "inf\n",
            "3\n",
            "9 4\n",
            "9 4\n",
            "9 4\n",
            "inf\n",
            "inf\n",
            "0\n",
            "10 4\n",
            "10 4\n",
            "10 4\n",
            "inf\n",
            "3\n",
            "10 4\n",
            "10 4\n",
            "10 4\n",
            "inf\n",
            "0\n",
            "11 4\n",
            "11 4\n",
            "0\n",
            "11 4\n",
            "11 4\n",
            "inf\n",
            "3\n",
            "11 4\n",
            "11 4\n",
            "inf\n",
            "inf\n",
            "inf\n",
            "0\n",
            "12 4\n",
            "12 4\n",
            "12 4\n",
            "3\n",
            "12 4\n",
            "12 4\n",
            "12 4\n",
            "inf\n",
            "0\n",
            "13 4\n",
            "13 4\n",
            "inf\n",
            "0\n",
            "13 4\n",
            "13 4\n",
            "3\n",
            "13 4\n",
            "13 4\n",
            "inf\n",
            "inf\n",
            "0\n",
            "14 4\n",
            "14 4\n",
            "0\n",
            "14 4\n",
            "14 4\n",
            "3\n",
            "14 4\n",
            "14 4\n",
            "inf\n",
            "0\n",
            "15 5\n",
            "0\n",
            "15 5\n",
            "0\n",
            "15 5\n",
            "3\n",
            "inf\n",
            "inf\n",
            "inf\n",
            "inf\n",
            "inf\n",
            "inf\n",
            "16 5\n",
            "16 5\n",
            "16 5\n",
            "16 5\n",
            "0\n",
            "17 5\n",
            "17 5\n",
            "17 5\n",
            "inf\n",
            "inf\n",
            "inf\n",
            "1\n",
            "17 5\n",
            "17 5\n",
            "17 5\n",
            "inf\n",
            "0\n",
            "18 5\n",
            "18 5\n",
            "18 5\n",
            "inf\n",
            "inf\n",
            "1\n",
            "18 5\n",
            "18 5\n",
            "18 5\n",
            "0\n",
            "19 5\n",
            "19 5\n",
            "0\n",
            "19 5\n",
            "19 5\n",
            "inf\n",
            "inf\n",
            "1\n",
            "19 5\n",
            "19 5\n",
            "inf\n",
            "inf\n",
            "0\n",
            "20 5\n",
            "20 5\n",
            "20 5\n",
            "inf\n",
            "1\n",
            "20 5\n",
            "20 5\n",
            "20 5\n",
            "0\n",
            "21 5\n",
            "21 5\n",
            "inf\n",
            "0\n",
            "21 5\n",
            "21 5\n",
            "inf\n",
            "1\n",
            "21 5\n",
            "21 5\n",
            "inf\n",
            "0\n",
            "22 5\n",
            "22 5\n",
            "0\n",
            "22 5\n",
            "22 5\n",
            "inf\n",
            "1\n",
            "22 5\n",
            "22 5\n",
            "0\n",
            "23 5\n",
            "0\n",
            "23 5\n",
            "0\n",
            "23 5\n",
            "inf\n",
            "1\n",
            "inf\n",
            "inf\n",
            "inf\n",
            "0\n",
            "24 5\n",
            "24 5\n",
            "24 5\n",
            "2\n",
            "24 5\n",
            "24 5\n",
            "24 5\n",
            "0\n",
            "25 5\n",
            "25 5\n",
            "inf\n",
            "inf\n",
            "0\n",
            "25 5\n",
            "25 5\n",
            "2\n",
            "25 5\n",
            "25 5\n",
            "inf\n",
            "0\n",
            "26 5\n",
            "26 5\n",
            "inf\n",
            "0\n",
            "26 5\n",
            "26 5\n",
            "2\n",
            "26 5\n",
            "26 5\n",
            "0\n",
            "27 5\n",
            "0\n",
            "27 5\n",
            "inf\n",
            "0\n",
            "27 5\n",
            "2\n",
            "inf\n",
            "inf\n",
            "0\n",
            "28 5\n",
            "28 5\n",
            "0\n",
            "28 5\n",
            "28 5\n",
            "2\n",
            "28 5\n",
            "28 5\n",
            "0\n",
            "29 5\n",
            "inf\n",
            "0\n",
            "29 5\n",
            "0\n",
            "29 5\n",
            "2\n",
            "inf\n",
            "0\n",
            "30 5\n",
            "0\n",
            "30 5\n",
            "0\n",
            "30 5\n",
            "2\n",
            "0\n",
            "0\n",
            "0\n",
            "3\n",
            "1\n",
            "5\n"
          ]
        }
      ]
    },
    {
      "cell_type": "code",
      "source": [
        "dp"
      ],
      "metadata": {
        "colab": {
          "base_uri": "https://localhost:8080/"
        },
        "id": "apMqecuujhBT",
        "outputId": "8aea26f6-655f-41cd-bd58-5d90add04da0"
      },
      "execution_count": 61,
      "outputs": [
        {
          "output_type": "execute_result",
          "data": {
            "text/plain": [
              "[[inf, inf, inf],\n",
              " [0, inf, inf],\n",
              " [inf, inf, inf],\n",
              " [1, 2, inf],\n",
              " [inf, inf, inf],\n",
              " [1, inf, 2],\n",
              " [inf, 1, 1],\n",
              " [1, 2, 2]]"
            ]
          },
          "metadata": {},
          "execution_count": 61
        }
      ]
    },
    {
      "cell_type": "code",
      "source": [
        "n = int(input())\n",
        "table = []\n",
        "for _ in range(n):\n",
        "  table.append(list(map(int,[*input()])))\n",
        "\n",
        "#dp[mask][people] ,방문한 집합이 mask일때, people가 가지고 있을때 그림의 최대사람\n",
        "#현재가치는?\n",
        "dp = [[[0,0]]*n for _ in range(1<<n)]\n",
        "\n",
        "for mask in range(1<<n):\n",
        "  for people in range(n):\n",
        "    if not (mask&(1<<people)):\n",
        "      continue\n",
        "    for i in range(n):\n",
        "      if mask&(1<<i):\n",
        "        continue\n",
        "      if dp[mask][people][1] <= table[people][i]:\n",
        "        next_mask = mask|(1<<i)\n",
        "        if dp[next_mask][i][0] <= dp[mask][people][0]+1:\n",
        "          dp[next_mask][i][0] = dp[mask][people][0]+1\n",
        "          dp[next_mask][i][1] = table[people][i]\n",
        "\n",
        "dp\n",
        ""
      ],
      "metadata": {
        "colab": {
          "base_uri": "https://localhost:8080/"
        },
        "id": "bJEI-YXVYL_G",
        "outputId": "30f41317-5995-4c93-d3a3-51063aa2dbc2"
      },
      "execution_count": 44,
      "outputs": [
        {
          "name": "stdout",
          "output_type": "stream",
          "text": [
            "2\n",
            "01\n",
            "10\n"
          ]
        },
        {
          "output_type": "execute_result",
          "data": {
            "text/plain": [
              "[[[0, 0], [0, 0]], [[0, 0], [0, 0]], [[0, 0], [0, 0]], [[1, 1], [1, 1]]]"
            ]
          },
          "metadata": {},
          "execution_count": 44
        }
      ]
    },
    {
      "cell_type": "code",
      "source": [
        "a = 234\n",
        "a.bit_count()"
      ],
      "metadata": {
        "colab": {
          "base_uri": "https://localhost:8080/"
        },
        "id": "rj2agC6qev2Q",
        "outputId": "a1b53dbb-654a-4ff5-d30e-ceb1eb3114f5"
      },
      "execution_count": 48,
      "outputs": [
        {
          "output_type": "execute_result",
          "data": {
            "text/plain": [
              "5"
            ]
          },
          "metadata": {},
          "execution_count": 48
        }
      ]
    },
    {
      "cell_type": "code",
      "source": [],
      "metadata": {
        "id": "O-4n1bcQjI4V"
      },
      "execution_count": null,
      "outputs": []
    }
  ]
}