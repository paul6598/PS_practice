{
  "nbformat": 4,
  "nbformat_minor": 0,
  "metadata": {
    "colab": {
      "provenance": [],
      "authorship_tag": "ABX9TyOvrCHSW71jsnJaaNAwgldM",
      "include_colab_link": true
    },
    "kernelspec": {
      "name": "python3",
      "display_name": "Python 3"
    },
    "language_info": {
      "name": "python"
    }
  },
  "cells": [
    {
      "cell_type": "markdown",
      "metadata": {
        "id": "view-in-github",
        "colab_type": "text"
      },
      "source": [
        "<a href=\"https://colab.research.google.com/github/paul6598/PS_practice/blob/main/240616.ipynb\" target=\"_parent\"><img src=\"https://colab.research.google.com/assets/colab-badge.svg\" alt=\"Open In Colab\"/></a>"
      ]
    },
    {
      "cell_type": "code",
      "execution_count": 7,
      "metadata": {
        "colab": {
          "base_uri": "https://localhost:8080/"
        },
        "id": "UHb98Og8Y1de",
        "outputId": "f4fc0d35-36ea-44e9-bd29-efbdb897993a"
      },
      "outputs": [
        {
          "output_type": "stream",
          "name": "stdout",
          "text": [
            "5 10\n",
            "1 0 0 0 1\n",
            "1 0 0 0 1\n",
            "1 0 0 0 1\n",
            "1 0 0 0 1\n",
            "1 0 0 0 1\n",
            "10\n",
            "5\n",
            "4\n",
            "2\n",
            "1\n",
            "1\n",
            "2\n",
            "1\n",
            "1\n",
            "5\n",
            "4\n",
            "2\n",
            "1\n",
            "1\n",
            "2\n",
            "1\n",
            "1\n",
            "512 0 0 0 512 \n",
            "512 0 0 0 512 \n",
            "512 0 0 0 512 \n",
            "512 0 0 0 512 \n",
            "512 0 0 0 512 \n"
          ]
        }
      ],
      "source": [
        "n,b = map(int,input().split())\n",
        "\n",
        "mat = []\n",
        "for _ in range(n):\n",
        "  mat.append(list(map(int,input().split())))\n",
        "\n",
        "def mult(mat1, mat2):\n",
        "  n = len(mat1)\n",
        "  res = [ [0 for _ in range(n)] for _ in range(n)]\n",
        "  for i in range(n):\n",
        "    for j in range(n):\n",
        "      for k in range(n):\n",
        "        res[i][j] += mat1[i][k] * mat2[k][j]\n",
        "      res[i][j] %= 1000\n",
        "  return res\n",
        "\n",
        "def matpower(mat, b):\n",
        "  #print(b)\n",
        "  if b == 1:\n",
        "    return mat\n",
        "  elif b % 2 == 0:\n",
        "    return mult(matpower(mat,b//2),matpower(mat,b//2))\n",
        "  else:\n",
        "    return mult(mat, matpower(mat,b-1))\n",
        "\n",
        "res = matpower(mat,b)\n",
        "\n",
        "for i in range(n):\n",
        "  for j in range(n):\n",
        "    print(res[i][j],end=' ')\n",
        "  print()"
      ]
    },
    {
      "cell_type": "code",
      "source": [
        "n,b = map(int,input().split())\n",
        "\n",
        "mat = []\n",
        "for _ in range(n):\n",
        "  mat.append(list(map(int,input().split())))\n",
        "\n",
        "def mult(mat1, mat2):\n",
        "  n = len(mat1)\n",
        "  res = [ [0 for _ in range(n)] for _ in range(n)]\n",
        "  for i in range(n):\n",
        "    for j in range(n):\n",
        "      for k in range(n):\n",
        "        res[i][j] += mat1[i][k] * mat2[k][j]\n",
        "      res[i][j] %= 1000\n",
        "  return res\n",
        "\n",
        "def matpower(mat, b):\n",
        "  #print(b)\n",
        "  if b == 1:\n",
        "    return mat\n",
        "  elif b == 2:\n",
        "    return mult(mat,mat)\n",
        "  elif b % 2 == 0:\n",
        "    return matpower(matpower(mat,b//2),2)\n",
        "  else:\n",
        "    return mult(mat, matpower(mat,b-1))\n",
        "\n",
        "res = matpower(mat,b)\n",
        "\n",
        "for i in range(n):\n",
        "  for j in range(n):\n",
        "    print(res[i][j],end=' ')\n",
        "  print()"
      ],
      "metadata": {
        "colab": {
          "base_uri": "https://localhost:8080/"
        },
        "id": "nQ2t4B0Yf-ht",
        "outputId": "d240a0f6-c60c-4dd5-da20-384b27742775"
      },
      "execution_count": 11,
      "outputs": [
        {
          "output_type": "stream",
          "name": "stdout",
          "text": [
            "2 1\n",
            "1000 1000\n",
            "1000 1000\n",
            "1000 1000 \n",
            "1000 1000 \n"
          ]
        }
      ]
    },
    {
      "cell_type": "code",
      "source": [
        "#30805번 사전순 최대 공통 부분 수열\n",
        "\n",
        "\"\"\"\n",
        "수열 A와 수열 B의 최대 공통 부분 수열을 구하고, 이 수열의 부분수열 중 사전순으로 가장 나중인 수열\n",
        "역으로 순회하면서 최댓값을 저장하면 O(N)으로 구할 수 있음\n",
        "\n",
        "\"\"\"\n",
        "\n",
        "n = int(input())\n",
        "a = list(map(int,input().split()))\n",
        "m = int(input())\n",
        "b = list(map(int,input().split()))\n",
        "\n",
        "coseq = []\n"
      ],
      "metadata": {
        "id": "-YJ9Kiz3gK7g"
      },
      "execution_count": null,
      "outputs": []
    }
  ]
}