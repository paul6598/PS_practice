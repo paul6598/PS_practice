{
  "nbformat": 4,
  "nbformat_minor": 0,
  "metadata": {
    "colab": {
      "provenance": [],
      "authorship_tag": "ABX9TyMB2ZhXPPlAGx7F+QN5JwIc",
      "include_colab_link": true
    },
    "kernelspec": {
      "name": "python3",
      "display_name": "Python 3"
    },
    "language_info": {
      "name": "python"
    }
  },
  "cells": [
    {
      "cell_type": "markdown",
      "metadata": {
        "id": "view-in-github",
        "colab_type": "text"
      },
      "source": [
        "<a href=\"https://colab.research.google.com/github/paul6598/PS_practice/blob/main/240814.ipynb\" target=\"_parent\"><img src=\"https://colab.research.google.com/assets/colab-badge.svg\" alt=\"Open In Colab\"/></a>"
      ]
    },
    {
      "cell_type": "code",
      "source": [
        "import sys\n",
        "input = sys.stdin.readline"
      ],
      "metadata": {
        "id": "oQ7dx7Sqakzc"
      },
      "execution_count": null,
      "outputs": []
    },
    {
      "cell_type": "code",
      "execution_count": 6,
      "metadata": {
        "colab": {
          "base_uri": "https://localhost:8080/"
        },
        "id": "UjCDQwnBWzah",
        "outputId": "7e41ce7a-a1ce-4d26-c873-0d357fd369e8"
      },
      "outputs": [
        {
          "output_type": "stream",
          "name": "stdout",
          "text": [
            "100 5 4\n",
            "1 10 20 50 99\n",
            "1 11 12 50\n",
            "10\n",
            "20\n",
            "50\n",
            "99\n"
          ]
        }
      ],
      "source": [
        "import bisect\n",
        "\n",
        "n,m,k = map(int, input().split())\n",
        "num = sorted(list(map(int, input().split())))\n",
        "magic = list(map(int, input().split()))\n",
        "\n",
        "#print(num)\n",
        "#print(magic)\n",
        "\n",
        "for i in range(k):\n",
        " index = bisect.bisect_right(num,magic[i])\n",
        " if index == len(num):\n",
        "  print(num.pop())\n",
        " else:\n",
        "  print(num.pop(index))\n"
      ]
    },
    {
      "cell_type": "code",
      "source": [
        "n = int(input())\n",
        "table = []\n",
        "for _ in range(n):\n",
        "  table.append(list(map(int, input().split())))\n",
        "\n",
        "def put_bis(table,i,j): #대각선 방문처리\n",
        "  y,x = i,j\n",
        "  u,v = i,j\n",
        "  while y < n and x < n:\n",
        "    table[y][x] = 0\n",
        "    y += 1\n",
        "    x += 1\n",
        "  while u < n and v >= 0:\n",
        "    table[u][v] = 0\n",
        "    u += 1\n",
        "    v -= 1\n",
        "\n",
        "def sol(table):\n",
        "  res = 0\n",
        "  for i in range(n,0,-1):\n",
        "    for j in range(i):\n",
        "      if table[n-i][j] == 1:\n",
        "        put_bis(table, n-i,j)\n",
        "        res += 1\n",
        "    for k in range(n-i+1,n):\n",
        "      if table[k][i-1] == 1:\n",
        "        put_bis(table, k,i-1)\n",
        "        res += 1\n",
        "\n",
        "  return res\n",
        "\n",
        "print(sol(table))\n"
      ],
      "metadata": {
        "colab": {
          "base_uri": "https://localhost:8080/"
        },
        "id": "Qdlx_d8DZshi",
        "outputId": "81949c47-907c-4569-84e6-e24ab1b2afcf"
      },
      "execution_count": 42,
      "outputs": [
        {
          "output_type": "stream",
          "name": "stdout",
          "text": [
            "5\n",
            "1 1 0 1 1\n",
            "0 1 0 0 1\n",
            "1 0 1 0 1\n",
            "1 0 0 0 0\n",
            "1 0 1 1 1\n",
            "7\n"
          ]
        }
      ]
    },
    {
      "cell_type": "code",
      "source": [
        "from collections import defaultdict\n",
        "\n",
        "t = int(input())\n",
        "n = int(input())\n",
        "a = list(map(int, input().split()))\n",
        "m = int(input())\n",
        "b = list(map(int, input().split()))\n",
        "\n",
        "accsum_a, accsum_b = [0], [0]\n",
        "for i in range(n):\n",
        "  accsum_a.append(accsum_a[-1]+a[i])\n",
        "for i in range(m):\n",
        "  accsum_b.append(accsum_b[-1]+b[i])\n",
        "\n",
        "dic_a = defaultdict(int)\n",
        "\n",
        "for i in range(1,n+1):\n",
        "  for j in range(i):\n",
        "    dic_a[accsum_a[i]-accsum_a[j]] += 1\n",
        "\n",
        "res = 0\n",
        "\n",
        "for i in range(1,m+1):\n",
        "  for j in range(i):\n",
        "    res += dic_a[t-(accsum_b[i]-accsum_b[j])]\n",
        "print(res)\n",
        "\n"
      ],
      "metadata": {
        "colab": {
          "base_uri": "https://localhost:8080/"
        },
        "id": "eOPYLawPeuty",
        "outputId": "33d6bfd2-b2eb-4f61-cf7a-e7512f453494"
      },
      "execution_count": 44,
      "outputs": [
        {
          "output_type": "stream",
          "name": "stdout",
          "text": [
            "5\n",
            "4\n",
            "1 3 1 2\n",
            "3\n",
            "1 3 2\n",
            "7\n"
          ]
        }
      ]
    },
    {
      "cell_type": "code",
      "source": [
        "n,m = map(int, input().split())\n",
        "graph = {i:[] for i in range(1,n+1)}\n",
        "\n",
        "for _ in range(m):\n",
        "  tmp = list(map(int, input().split()))\n",
        "  k = tmp[0]\n",
        "  for i in range(1,k):\n",
        "    for j in range(i+1,k+1):\n",
        "      graph[tmp[i]].append(tmp[j])\n",
        "\n",
        "\n",
        "def topo(graph):\n",
        "  res = []\n",
        "  indegree = {i:0 for i in range(1,n+1)}\n",
        "  for i in graph:\n",
        "    for j in graph[i]:\n",
        "      indegree[j] += 1\n",
        "\n",
        "  stack = [i for i in range(1,n+1) if indegree[i] == 0]\n",
        "  visit = [False]*(n+1)\n",
        "  while stack:\n",
        "    node = stack.pop()\n",
        "    res.append(node)\n",
        "    for next in graph[node]:\n",
        "      indegree[next] -= 1\n",
        "      if indegree[next] == 0:\n",
        "        stack.append(next)\n",
        "  #print(graph)\n",
        "  #print(res)\n",
        "  if len(res) == len(graph):\n",
        "    return res\n",
        "  else:\n",
        "    return [0]\n",
        "\n",
        "res = topo(graph)\n",
        "for i in res:\n",
        "  print(i)\n"
      ],
      "metadata": {
        "colab": {
          "base_uri": "https://localhost:8080/"
        },
        "id": "26BnqDz4p3d1",
        "outputId": "4ba79b8a-06b3-4260-e77a-229f9f0c64a6"
      },
      "execution_count": 52,
      "outputs": [
        {
          "output_type": "stream",
          "name": "stdout",
          "text": [
            "6 3\n",
            "1 1\n",
            "4 6 2 5 4\n",
            "2 1 2\n",
            "{1: [2], 2: [5, 4], 3: [], 4: [], 5: [4], 6: [2, 5, 4]}\n",
            "[6, 3, 1, 2, 5, 4]\n",
            "6\n",
            "3\n",
            "1\n",
            "2\n",
            "5\n",
            "4\n"
          ]
        }
      ]
    },
    {
      "cell_type": "code",
      "source": [
        "a = input()\n",
        "b = input()\n",
        "\n",
        "len_a = len(a)\n",
        "len_b = len(b)\n",
        "\n",
        "dp = [[0]*(len_b+1) for _ in range(len_a+1)]\n",
        "\n",
        "for i in range(1,len_a+1):\n",
        "  for j in range(1,len_b+1):\n",
        "    if a[i-1] == b[j-1]:\n",
        "      dp[i][j] = dp[i-1][j-1] + 1\n",
        "    else:\n",
        "      dp[i][j] = max(dp[i-1][j], dp[i][j-1])\n",
        "\n",
        "i,j = len_a, len_b\n",
        "res = \"\"\n",
        "while i>0 and j>0:\n",
        "  if a[i-1] == b[j-1]:\n",
        "    #print(i-1,j-1,a[i-1])\n",
        "    res = a[i-1]+res\n",
        "    i -= 1\n",
        "    j -= 1\n",
        "  elif dp[i-1][j] >= dp[i][j-1]:\n",
        "    i -= 1\n",
        "  else:\n",
        "    j -= 1\n",
        "print(len(res))\n",
        "print(res)"
      ],
      "metadata": {
        "colab": {
          "base_uri": "https://localhost:8080/"
        },
        "id": "BIuykp6P2XYJ",
        "outputId": "49a29c07-709d-4e34-f687-c52730828c09"
      },
      "execution_count": 65,
      "outputs": [
        {
          "output_type": "stream",
          "name": "stdout",
          "text": [
            "acaykp\n",
            "capcak\n",
            "4 5 k\n",
            "2 4 a\n",
            "1 3 c\n",
            "0 1 a\n",
            "4\n",
            "acak\n"
          ]
        }
      ]
    },
    {
      "cell_type": "code",
      "source": [
        "for i in dp:\n",
        "  print(i)"
      ],
      "metadata": {
        "colab": {
          "base_uri": "https://localhost:8080/"
        },
        "id": "gHgzaY_eCLSg",
        "outputId": "59a34fa4-413b-4ac1-b93b-48d4aee5cd14"
      },
      "execution_count": 57,
      "outputs": [
        {
          "output_type": "stream",
          "name": "stdout",
          "text": [
            "[0, 0, 0, 0, 0, 0, 0]\n",
            "[0, 0, 1, 1, 1, 1, 1]\n",
            "[0, 1, 1, 1, 2, 2, 2]\n",
            "[0, 1, 2, 2, 2, 3, 3]\n",
            "[0, 1, 2, 2, 2, 3, 3]\n",
            "[0, 1, 2, 2, 2, 3, 4]\n",
            "[0, 1, 2, 3, 3, 3, 4]\n"
          ]
        }
      ]
    },
    {
      "cell_type": "code",
      "source": [
        "n = int(input())\n",
        "graph = []\n",
        "for _ in range(n):\n",
        "  graph.append(list(map(int, input().split())))\n",
        "\n",
        "def dfs(graph,start):\n",
        "  visit = [0]*n\n",
        "  visit[start] = 1\n",
        "  stack = [(start,0)]\n",
        "  res = 100000000\n",
        "  while stack:\n",
        "    node, weight = stack.pop()\n",
        "    for i in range(n):\n",
        "      if visit[i] == 0 and graph[node][i] != 0 :\n",
        "        stack.append((i,weight+graph[node][i]))\n",
        "\n",
        "      if sum(visit) == n and graph[node][start] != 0:\n",
        "        res = min(res, weight+graph[node][start])\n",
        "        print(visit)\n",
        "  return res\n",
        "\n",
        "result = 1000000000\n",
        "for i in range(n):\n",
        "  result = min(result, dfs(graph,i))\n",
        "print(res)\n"
      ],
      "metadata": {
        "colab": {
          "base_uri": "https://localhost:8080/"
        },
        "id": "X3jvn40ACewV",
        "outputId": "3de3eb75-4d5b-475a-e8fe-1cebb8615138"
      },
      "execution_count": 71,
      "outputs": [
        {
          "output_type": "stream",
          "name": "stdout",
          "text": [
            "4\n",
            "0 10 15 20\n",
            "5 0 9 10\n",
            "6 13 0 12\n",
            "8 8 9 0\n",
            "[1, 1, 1, 1]\n",
            "[1, 1, 1, 1]\n",
            "[1, 1, 1, 1]\n",
            "[1, 1, 1, 1]\n",
            "[1, 1, 1, 1]\n",
            "[1, 1, 1, 1]\n",
            "[1, 1, 1, 1]\n",
            "[1, 1, 1, 1]\n",
            "[1, 1, 1, 1]\n",
            "[1, 1, 1, 1]\n",
            "[1, 1, 1, 1]\n",
            "[1, 1, 1, 1]\n",
            "[1, 1, 1, 1]\n",
            "[1, 1, 1, 1]\n",
            "[1, 1, 1, 1]\n",
            "[1, 1, 1, 1]\n",
            "[1, 1, 1, 1]\n",
            "[1, 1, 1, 1]\n",
            "[1, 1, 1, 1]\n",
            "[1, 1, 1, 1]\n",
            "[1, 1, 1, 1]\n",
            "[1, 1, 1, 1]\n",
            "[1, 1, 1, 1]\n",
            "[1, 1, 1, 1]\n",
            "[1, 1, 1, 1]\n",
            "[1, 1, 1, 1]\n",
            "[1, 1, 1, 1]\n",
            "[1, 1, 1, 1]\n",
            "[1, 1, 1, 1]\n",
            "[1, 1, 1, 1]\n",
            "[1, 1, 1, 1]\n",
            "[1, 1, 1, 1]\n",
            "[1, 1, 1, 1]\n",
            "[1, 1, 1, 1]\n",
            "[1, 1, 1, 1]\n",
            "[1, 1, 1, 1]\n",
            "[1, 1, 1, 1]\n",
            "[1, 1, 1, 1]\n",
            "[1, 1, 1, 1]\n",
            "[1, 1, 1, 1]\n",
            "[1, 1, 1, 1]\n",
            "[1, 1, 1, 1]\n",
            "[1, 1, 1, 1]\n",
            "[1, 1, 1, 1]\n",
            "[1, 1, 1, 1]\n",
            "[1, 1, 1, 1]\n",
            "[1, 1, 1, 1]\n",
            "[1, 1, 1, 1]\n",
            "15\n"
          ]
        }
      ]
    },
    {
      "cell_type": "code",
      "source": [
        "n = int(input())\n",
        "graph = []\n",
        "for _ in range(n):\n",
        "  graph.append(list(map(int, input().split())))\n",
        "\n",
        "def dfs(graph,start):\n",
        "  visit = 0\n",
        "  visit = visit | (1<<start)\n",
        "  stack = [(start,0,visit)]\n",
        "  res = 100000000\n",
        "  while stack:\n",
        "    node, weight,visit = stack.pop()\n",
        "    if visit == 2**n-1 and graph[node][start] != 0:\n",
        "      res = min(res, weight+graph[node][start])\n",
        "\n",
        "    for i in range(n):\n",
        "      if visit&(1<<i) == 0 and graph[node][i] != 0 :\n",
        "        stack.append((i,weight+graph[node][i],visit|(1<<i)))\n",
        "  return res\n",
        "\n",
        "result = 1000000000\n",
        "\n",
        "print(dfs(graph,0))"
      ],
      "metadata": {
        "colab": {
          "base_uri": "https://localhost:8080/"
        },
        "id": "TKeu_15lFK0Q",
        "outputId": "8fe58275-9e28-4c97-8107-04ad830f7a49"
      },
      "execution_count": 76,
      "outputs": [
        {
          "output_type": "stream",
          "name": "stdout",
          "text": [
            "4\n",
            "0 10 15 20\n",
            "5 0 9 10\n",
            "6 13 0 12\n",
            "8 8 9 0\n",
            "35\n"
          ]
        }
      ]
    },
    {
      "cell_type": "code",
      "source": [
        "a = 0\n",
        "a = a|(1<<4)\n",
        "a"
      ],
      "metadata": {
        "colab": {
          "base_uri": "https://localhost:8080/"
        },
        "id": "44cwgaeCJ-HI",
        "outputId": "add9aa5b-c1c1-4505-d955-c66ed3e1c4f2"
      },
      "execution_count": 72,
      "outputs": [
        {
          "output_type": "execute_result",
          "data": {
            "text/plain": [
              "16"
            ]
          },
          "metadata": {},
          "execution_count": 72
        }
      ]
    },
    {
      "cell_type": "code",
      "source": [],
      "metadata": {
        "id": "UajKCIVmNITB"
      },
      "execution_count": null,
      "outputs": []
    }
  ]
}