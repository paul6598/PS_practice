{
  "nbformat": 4,
  "nbformat_minor": 0,
  "metadata": {
    "colab": {
      "provenance": [],
      "authorship_tag": "ABX9TyPddbTgyB/ihiaEHfdOj6O0",
      "include_colab_link": true
    },
    "kernelspec": {
      "name": "python3",
      "display_name": "Python 3"
    },
    "language_info": {
      "name": "python"
    }
  },
  "cells": [
    {
      "cell_type": "markdown",
      "metadata": {
        "id": "view-in-github",
        "colab_type": "text"
      },
      "source": [
        "<a href=\"https://colab.research.google.com/github/paul6598/PS_practice/blob/main/ps_240409.ipynb\" target=\"_parent\"><img src=\"https://colab.research.google.com/assets/colab-badge.svg\" alt=\"Open In Colab\"/></a>"
      ]
    },
    {
      "cell_type": "markdown",
      "source": [
        "# 1976번:여행가자(골4)"
      ],
      "metadata": {
        "id": "RdeeUxL5F5X1"
      }
    },
    {
      "cell_type": "code",
      "execution_count": 5,
      "metadata": {
        "colab": {
          "base_uri": "https://localhost:8080/"
        },
        "id": "qc9vyFhg9XWl",
        "outputId": "0489f11e-bb33-47db-802a-40cda778347e"
      },
      "outputs": [
        {
          "output_type": "stream",
          "name": "stdout",
          "text": [
            "3\n",
            "3\n",
            "0 1 0\n",
            "1 0 1\n",
            "0 1 0\n",
            "1 2 3\n",
            "YES\n"
          ]
        }
      ],
      "source": [
        "n = int(input())\n",
        "m = int(input())\n",
        "\n",
        "graph = []\n",
        "for _ in range(n):\n",
        "  graph.append(list(map(int, input().split())))\n",
        "\n",
        "plan = list(map(int, input().split()))\n",
        "\n",
        "able = [[float('inf')]*n for _ in range(n)]\n",
        "\n",
        "for i in range(n):\n",
        "  for j in range(n):\n",
        "    if i == j:\n",
        "      able[i][j] = 0\n",
        "    if graph[i][j] == 1:\n",
        "      able[i][j] = 0\n",
        "\n",
        "\n",
        "for k in range(n):\n",
        "  for i in range(n):\n",
        "    for j in range(n):\n",
        "      able[i][j] = min(able[i][j], able[i][k]+able[k][j])\n",
        "\n",
        "res = True\n",
        "for i in range(1,m):\n",
        "  if able[plan[i-1]-1][plan[i]-1] == float('inf'):\n",
        "    res = False\n",
        "    break\n",
        "\n",
        "if res:\n",
        "  print(\"YES\")\n",
        "else:\n",
        "  print(\"NO\")"
      ]
    },
    {
      "cell_type": "code",
      "source": [
        "'''\n",
        "union-find 알고리즘을 이용하는 문제라는데, 나는 거리가 0이라고 가정해서 플루이드 워셜 알고리즘을 적용해서 풀었다.\n",
        "\n",
        "'''"
      ],
      "metadata": {
        "id": "NIVTsa6s__p2"
      },
      "execution_count": null,
      "outputs": []
    },
    {
      "cell_type": "code",
      "source": [],
      "metadata": {
        "colab": {
          "base_uri": "https://localhost:8080/"
        },
        "id": "66Ea5Xo8GRCJ",
        "outputId": "8229cd50-dfc3-432c-d364-a37ea3070133"
      },
      "execution_count": 11,
      "outputs": [
        {
          "output_type": "stream",
          "name": "stdout",
          "text": [
            "1\n",
            "50\n",
            "50\n"
          ]
        }
      ]
    },
    {
      "cell_type": "code",
      "source": [
        "class Node:\n",
        "  def __init__(self, n):\n",
        "    self.key = n\n",
        "    self.children = []\n",
        "\n",
        "class Tree:\n",
        "  def __init__(self):\n",
        "    self.root = None\n",
        "\n",
        "  def add(self, key, key2):\n",
        "\n",
        "    if self.root == None:\n",
        "      if key == 1:\n",
        "        self.root = Node(key)\n",
        "      else:\n",
        "        self.root = Node(key2)\n",
        "    else:\n",
        "      if not self.find(self.root, key): #key가 부모일 경우\n",
        "        new_node = Node(key2)\n",
        "        parent_node = self.find(self.root, key)\n",
        "        parent_node.children.append(new_node)\n",
        "      else:\n",
        "        new_node = Node(key)\n",
        "        parent_node = self.find(self.root, key2)\n",
        "        parent_node.children.append(new_node)\n",
        "\n",
        "  def find(self, node, key):\n",
        "    if node.key == key:\n",
        "      return node\n",
        "    for i in node.children:\n",
        "      found = self.find(i,key)\n",
        "      if found:\n",
        "        return found\n",
        "    return None\n",
        "\n",
        "  def find_parent(self, node, key):\n",
        "    if key in node.children:\n",
        "      return node.key\n",
        "    else:\n",
        "      for child in node.children:\n",
        "        self.find_parent(child, key)\n",
        "\n",
        "tree = Tree()\n",
        "n = int(input())\n",
        "for _ in range(n):\n",
        "  u,v = map(int, input().split())\n",
        "  tree.add(u,v)\n",
        "  print(tree.root.key)\n",
        "\n",
        "for i in range(2,n+1):\n",
        "  print(tree.find_parent(tree.root, i))"
      ],
      "metadata": {
        "colab": {
          "base_uri": "https://localhost:8080/",
          "height": 444
        },
        "id": "dC2Lo4T_MNgo",
        "outputId": "bad59fe3-e5a9-47fa-85da-a8b3f502116b"
      },
      "execution_count": 17,
      "outputs": [
        {
          "name": "stdout",
          "output_type": "stream",
          "text": [
            "7\n",
            "1 6\n",
            "1\n",
            "6 3\n"
          ]
        },
        {
          "output_type": "error",
          "ename": "AttributeError",
          "evalue": "'NoneType' object has no attribute 'children'",
          "traceback": [
            "\u001b[0;31m---------------------------------------------------------------------------\u001b[0m",
            "\u001b[0;31mAttributeError\u001b[0m                            Traceback (most recent call last)",
            "\u001b[0;32m<ipython-input-17-014a9e8ace0d>\u001b[0m in \u001b[0;36m<cell line: 45>\u001b[0;34m()\u001b[0m\n\u001b[1;32m     45\u001b[0m \u001b[0;32mfor\u001b[0m \u001b[0m_\u001b[0m \u001b[0;32min\u001b[0m \u001b[0mrange\u001b[0m\u001b[0;34m(\u001b[0m\u001b[0mn\u001b[0m\u001b[0;34m)\u001b[0m\u001b[0;34m:\u001b[0m\u001b[0;34m\u001b[0m\u001b[0;34m\u001b[0m\u001b[0m\n\u001b[1;32m     46\u001b[0m   \u001b[0mu\u001b[0m\u001b[0;34m,\u001b[0m\u001b[0mv\u001b[0m \u001b[0;34m=\u001b[0m \u001b[0mmap\u001b[0m\u001b[0;34m(\u001b[0m\u001b[0mint\u001b[0m\u001b[0;34m,\u001b[0m \u001b[0minput\u001b[0m\u001b[0;34m(\u001b[0m\u001b[0;34m)\u001b[0m\u001b[0;34m.\u001b[0m\u001b[0msplit\u001b[0m\u001b[0;34m(\u001b[0m\u001b[0;34m)\u001b[0m\u001b[0;34m)\u001b[0m\u001b[0;34m\u001b[0m\u001b[0;34m\u001b[0m\u001b[0m\n\u001b[0;32m---> 47\u001b[0;31m   \u001b[0mtree\u001b[0m\u001b[0;34m.\u001b[0m\u001b[0madd\u001b[0m\u001b[0;34m(\u001b[0m\u001b[0mu\u001b[0m\u001b[0;34m,\u001b[0m\u001b[0mv\u001b[0m\u001b[0;34m)\u001b[0m\u001b[0;34m\u001b[0m\u001b[0;34m\u001b[0m\u001b[0m\n\u001b[0m\u001b[1;32m     48\u001b[0m   \u001b[0mprint\u001b[0m\u001b[0;34m(\u001b[0m\u001b[0mtree\u001b[0m\u001b[0;34m.\u001b[0m\u001b[0mroot\u001b[0m\u001b[0;34m.\u001b[0m\u001b[0mkey\u001b[0m\u001b[0;34m)\u001b[0m\u001b[0;34m\u001b[0m\u001b[0;34m\u001b[0m\u001b[0m\n\u001b[1;32m     49\u001b[0m \u001b[0;34m\u001b[0m\u001b[0m\n",
            "\u001b[0;32m<ipython-input-17-014a9e8ace0d>\u001b[0m in \u001b[0;36madd\u001b[0;34m(self, key, key2)\u001b[0m\n\u001b[1;32m     19\u001b[0m         \u001b[0mnew_node\u001b[0m \u001b[0;34m=\u001b[0m \u001b[0mNode\u001b[0m\u001b[0;34m(\u001b[0m\u001b[0mkey2\u001b[0m\u001b[0;34m)\u001b[0m\u001b[0;34m\u001b[0m\u001b[0;34m\u001b[0m\u001b[0m\n\u001b[1;32m     20\u001b[0m         \u001b[0mparent_node\u001b[0m \u001b[0;34m=\u001b[0m \u001b[0mself\u001b[0m\u001b[0;34m.\u001b[0m\u001b[0mfind\u001b[0m\u001b[0;34m(\u001b[0m\u001b[0mself\u001b[0m\u001b[0;34m.\u001b[0m\u001b[0mroot\u001b[0m\u001b[0;34m,\u001b[0m \u001b[0mkey\u001b[0m\u001b[0;34m)\u001b[0m\u001b[0;34m\u001b[0m\u001b[0;34m\u001b[0m\u001b[0m\n\u001b[0;32m---> 21\u001b[0;31m         \u001b[0mparent_node\u001b[0m\u001b[0;34m.\u001b[0m\u001b[0mchildren\u001b[0m\u001b[0;34m.\u001b[0m\u001b[0mappend\u001b[0m\u001b[0;34m(\u001b[0m\u001b[0mnew_node\u001b[0m\u001b[0;34m)\u001b[0m\u001b[0;34m\u001b[0m\u001b[0;34m\u001b[0m\u001b[0m\n\u001b[0m\u001b[1;32m     22\u001b[0m       \u001b[0;32melse\u001b[0m\u001b[0;34m:\u001b[0m\u001b[0;34m\u001b[0m\u001b[0;34m\u001b[0m\u001b[0m\n\u001b[1;32m     23\u001b[0m         \u001b[0mnew_node\u001b[0m \u001b[0;34m=\u001b[0m \u001b[0mNode\u001b[0m\u001b[0;34m(\u001b[0m\u001b[0mkey\u001b[0m\u001b[0;34m)\u001b[0m\u001b[0;34m\u001b[0m\u001b[0;34m\u001b[0m\u001b[0m\n",
            "\u001b[0;31mAttributeError\u001b[0m: 'NoneType' object has no attribute 'children'"
          ]
        }
      ]
    },
    {
      "cell_type": "code",
      "source": [],
      "metadata": {
        "id": "gteXx5WaTBxf"
      },
      "execution_count": null,
      "outputs": []
    }
  ]
}