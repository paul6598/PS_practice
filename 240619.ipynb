{
  "nbformat": 4,
  "nbformat_minor": 0,
  "metadata": {
    "colab": {
      "provenance": [],
      "authorship_tag": "ABX9TyOJUdMs4S7lbdeemWCQCAlu",
      "include_colab_link": true
    },
    "kernelspec": {
      "name": "python3",
      "display_name": "Python 3"
    },
    "language_info": {
      "name": "python"
    }
  },
  "cells": [
    {
      "cell_type": "markdown",
      "metadata": {
        "id": "view-in-github",
        "colab_type": "text"
      },
      "source": [
        "<a href=\"https://colab.research.google.com/github/paul6598/PS_practice/blob/main/240619.ipynb\" target=\"_parent\"><img src=\"https://colab.research.google.com/assets/colab-badge.svg\" alt=\"Open In Colab\"/></a>"
      ]
    },
    {
      "cell_type": "code",
      "execution_count": 8,
      "metadata": {
        "colab": {
          "base_uri": "https://localhost:8080/"
        },
        "id": "tDbnthM7wkIk",
        "outputId": "73692f9a-0fec-4356-d8ff-7a729fa17609"
      },
      "outputs": [
        {
          "output_type": "stream",
          "name": "stdout",
          "text": [
            "15\n",
            "1 2 3 4 5 6 5 4 3 2 1 2 3 4 5\n",
            "3\n",
            "3\n",
            "3\n",
            "3\n",
            "3\n",
            "3\n",
            "3\n",
            "3\n",
            "3\n",
            "3\n",
            "3\n",
            "4\n",
            "4\n",
            "4\n",
            "2\n",
            "4\n",
            "4\n",
            "4\n",
            "4\n",
            "2\n",
            "4\n",
            "4\n",
            "4\n",
            "5\n",
            "5\n",
            "3\n",
            "3\n",
            "5\n",
            "5\n",
            "3\n",
            "3\n",
            "5\n",
            "6\n",
            "4\n",
            "2\n",
            "4\n",
            "4\n",
            "6\n",
            "4\n",
            "2\n",
            "4\n",
            "4\n",
            "5\n",
            "3\n",
            "3\n",
            "5\n",
            "5\n",
            "3\n",
            "3\n",
            "4\n",
            "2\n",
            "4\n",
            "4\n",
            "4\n",
            "4\n",
            "2\n",
            "4\n",
            "3\n",
            "3\n",
            "3\n",
            "3\n",
            "3\n",
            "2\n",
            "4\n",
            "2\n",
            "2\n",
            "2\n",
            "2\n",
            "3\n",
            "3\n",
            "3\n",
            "3\n",
            "4\n",
            "4\n",
            "4\n",
            "4\n",
            "3\n",
            "5\n",
            "5\n",
            "4\n",
            "6\n",
            "5\n",
            "[1, 2, 3, 4, 5, 6, 5, 4, 3, 2, 1, 4, 3, 4, 5]\n",
            "[0, 1, 2, 3, 4, 5, 4, 3, 2, 1, 4, 3, 4, 5, 6]\n",
            "[0, 0, 1, 2, 3, 4, 3, 2, 1, 4, 3, 2, 3, 4, 5]\n",
            "[0, 0, 0, 1, 2, 3, 2, 1, 4, 3, 4, 3, 2, 3, 4]\n",
            "[0, 0, 0, 0, 1, 2, 1, 4, 3, 4, 5, 4, 3, 2, 3]\n",
            "[0, 0, 0, 0, 0, 1, 2, 3, 4, 5, 6, 5, 4, 3, 2]\n",
            "[0, 0, 0, 0, 0, 0, 1, 2, 3, 4, 5, 4, 3, 2, 1]\n",
            "[0, 0, 0, 0, 0, 0, 0, 1, 2, 3, 4, 3, 2, 1, 4]\n",
            "[0, 0, 0, 0, 0, 0, 0, 0, 1, 2, 3, 2, 1, 4, 3]\n",
            "[0, 0, 0, 0, 0, 0, 0, 0, 0, 1, 2, 1, 4, 3, 4]\n",
            "[0, 0, 0, 0, 0, 0, 0, 0, 0, 0, 1, 2, 3, 4, 5]\n",
            "[0, 0, 0, 0, 0, 0, 0, 0, 0, 0, 0, 1, 2, 3, 4]\n",
            "[0, 0, 0, 0, 0, 0, 0, 0, 0, 0, 0, 0, 1, 2, 3]\n",
            "[0, 0, 0, 0, 0, 0, 0, 0, 0, 0, 0, 0, 0, 1, 2]\n",
            "[0, 0, 0, 0, 0, 0, 0, 0, 0, 0, 0, 0, 0, 0, 1]\n",
            "\n"
          ]
        }
      ],
      "source": [
        "n = int(input())\n",
        "num = list(map(int, input().split()))\n",
        "\n",
        "\n",
        "dp = [[0]*n for _ in range(n)]\n",
        "for i in range(n):\n",
        "  dp[i][i] = 1\n",
        "\n",
        "for i in range(n-1):\n",
        "  if num[i] == num[i+1]:\n",
        "    dp[i][i+1] = 1\n",
        "  else:\n",
        "    dp[i][i+1] = 2\n",
        "for i in range(2,n): #차이\n",
        "  for j in range(n-i): #위치\n",
        "    if dp[j+1][j+i-1] == 1 and num[j] == num[j+i]:\n",
        "      dp[j][j+i] = 1\n",
        "    else:\n",
        "      min_ = 1000000000\n",
        "      for k in range(1,i):\n",
        "        min_ = min(min_, dp[j][j+k-1]+dp[j+k][j+i])\n",
        "      dp[j][j+i] = min_\n",
        "      print(min_)\n",
        "\n",
        "for p in dp:\n",
        "  print(p)\n",
        "print(\"\")\n",
        "\n"
      ]
    },
    {
      "cell_type": "code",
      "source": [
        "num = input()\n",
        "n = len(num)\n",
        "\n",
        "dp = [[0]*n for _ in range(n)]\n",
        "for i in range(n):\n",
        "  dp[i][i] = 1\n",
        "\n",
        "for i in range(n-1):\n",
        "  if num[i] == num[i+1]:\n",
        "    dp[i][i+1] = 1\n",
        "  else:\n",
        "    dp[i][i+1] = 2\n",
        "for i in range(2,n): #차이\n",
        "  for j in range(n-i): #위치\n",
        "    if dp[j+1][j+i-1] == 1 and num[j] == num[j+i]:\n",
        "      dp[j][j+i] = 1\n",
        "    else:\n",
        "      min_ = 1000000000\n",
        "      for k in range(1,i):\n",
        "        min_ = min(min_, dp[j][j+k-1]+dp[j+k][j+i])\n",
        "      dp[j][j+i] = min_\n",
        "\n",
        "\n",
        "#for p in dp:\n",
        "#  print(p)\n",
        "#print(\"\")\n",
        "\n",
        "print(dp[0][-1])"
      ],
      "metadata": {
        "colab": {
          "base_uri": "https://localhost:8080/"
        },
        "id": "VgR0ps7Sy1-l",
        "outputId": "6590387a-c1c7-4639-fced-63388a133f8f"
      },
      "execution_count": 13,
      "outputs": [
        {
          "output_type": "stream",
          "name": "stdout",
          "text": [
            "BBCDDECAECBDABADDCEBACCCBDCAABDBADD\n",
            "22\n"
          ]
        }
      ]
    },
    {
      "cell_type": "code",
      "source": [
        "2500*2500//2"
      ],
      "metadata": {
        "colab": {
          "base_uri": "https://localhost:8080/"
        },
        "id": "iAq8QdFg2enD",
        "outputId": "87556899-a2c5-43c9-c82c-889e8b91e327"
      },
      "execution_count": 14,
      "outputs": [
        {
          "output_type": "execute_result",
          "data": {
            "text/plain": [
              "3125000"
            ]
          },
          "metadata": {},
          "execution_count": 14
        }
      ]
    },
    {
      "cell_type": "code",
      "source": [],
      "metadata": {
        "id": "R1Hzeqa93H-b"
      },
      "execution_count": null,
      "outputs": []
    }
  ]
}