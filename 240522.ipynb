{
  "nbformat": 4,
  "nbformat_minor": 0,
  "metadata": {
    "colab": {
      "provenance": [],
      "authorship_tag": "ABX9TyOug8m9nEhE50lHrF0MxI/Z",
      "include_colab_link": true
    },
    "kernelspec": {
      "name": "python3",
      "display_name": "Python 3"
    },
    "language_info": {
      "name": "python"
    }
  },
  "cells": [
    {
      "cell_type": "markdown",
      "metadata": {
        "id": "view-in-github",
        "colab_type": "text"
      },
      "source": [
        "<a href=\"https://colab.research.google.com/github/paul6598/PS_practice/blob/main/240522.ipynb\" target=\"_parent\"><img src=\"https://colab.research.google.com/assets/colab-badge.svg\" alt=\"Open In Colab\"/></a>"
      ]
    },
    {
      "cell_type": "code",
      "execution_count": 6,
      "metadata": {
        "colab": {
          "base_uri": "https://localhost:8080/"
        },
        "id": "ZUrt36Ctn9Gd",
        "outputId": "d6ddd247-a5ed-4928-8fbd-71ae9dc95cd0"
      },
      "outputs": [
        {
          "output_type": "stream",
          "name": "stdout",
          "text": [
            "1\n",
            "10\n",
            "1\n"
          ]
        }
      ],
      "source": [
        "n = int(input())\n",
        "seri = list(map(int, input().split()))\n",
        "\n",
        "dp = [0 for _ in range(n)]\n",
        "dp[0] = 1\n",
        "\n",
        "for i in range(n):\n",
        "  max_inc = 0\n",
        "  for j in range(i):\n",
        "    if seri[j] < seri[i] and dp[j] >= max_inc:\n",
        "      max_inc = dp[j]\n",
        "  dp[i] = max_inc+1\n",
        "  #print(dp)\n",
        "\n",
        "print(max(dp))"
      ]
    },
    {
      "cell_type": "code",
      "source": [
        "s = input()\n",
        "n = len(s)\n",
        "i = 0\n",
        "res = \"\"\n",
        "while i != n:\n",
        "  #print(i)\n",
        "  tmp = \"\"\n",
        "  if s[i] == \"<\":\n",
        "    while s[i] != \">\":\n",
        "      tmp += s[i]\n",
        "      i += 1\n",
        "    tmp += s[i]\n",
        "    i += 1\n",
        "    res += tmp\n",
        "\n",
        "  elif s[i] == \" \":\n",
        "    res += \" \"\n",
        "    i += 1\n",
        "\n",
        "  else:\n",
        "    while i != n and s[i] != \"<\" and s[i] != \" \":\n",
        "      tmp += s[i]\n",
        "      i += 1\n",
        "\n",
        "    res += tmp[::-1]\n",
        "  #print(tmp)\n",
        "print(res)"
      ],
      "metadata": {
        "colab": {
          "base_uri": "https://localhost:8080/"
        },
        "id": "sE7BWoEmqjQJ",
        "outputId": "23d4da1f-27b0-4c28-d451-5f5690cd2d89"
      },
      "execution_count": 24,
      "outputs": [
        {
          "output_type": "stream",
          "name": "stdout",
          "text": [
            "<   space   >space space space<    spa   c e>\n",
            "<   space   >ecaps ecaps ecaps<    spa   c e>\n"
          ]
        }
      ]
    },
    {
      "cell_type": "code",
      "source": [
        "s[n-1]"
      ],
      "metadata": {
        "colab": {
          "base_uri": "https://localhost:8080/",
          "height": 35
        },
        "id": "OvZlp0AntSRc",
        "outputId": "5f481681-1eac-4e6f-ce67-8453955c7dbe"
      },
      "execution_count": 13,
      "outputs": [
        {
          "output_type": "execute_result",
          "data": {
            "text/plain": [
              "'>'"
            ],
            "application/vnd.google.colaboratory.intrinsic+json": {
              "type": "string"
            }
          },
          "metadata": {},
          "execution_count": 13
        }
      ]
    },
    {
      "cell_type": "code",
      "source": [
        "n = int(input())\n",
        "if n <= 2:\n",
        "  print(4)\n",
        "else:\n",
        "  while n%2 == 1:\n",
        "    n += 1\n",
        "  print(n)"
      ],
      "metadata": {
        "colab": {
          "base_uri": "https://localhost:8080/"
        },
        "id": "UgX-eSnIvGq0",
        "outputId": "a73cdbf8-2f13-4237-df01-53b0ca458141"
      },
      "execution_count": 27,
      "outputs": [
        {
          "output_type": "stream",
          "name": "stdout",
          "text": [
            "15341\n",
            "15342\n"
          ]
        }
      ]
    },
    {
      "cell_type": "code",
      "source": [
        "print(\"FA\")"
      ],
      "metadata": {
        "id": "QCAgF0uKx0iI"
      },
      "execution_count": null,
      "outputs": []
    }
  ]
}