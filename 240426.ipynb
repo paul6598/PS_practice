{
  "nbformat": 4,
  "nbformat_minor": 0,
  "metadata": {
    "colab": {
      "provenance": [],
      "authorship_tag": "ABX9TyOa9OyMjV12gfCNc4dDgYbO",
      "include_colab_link": true
    },
    "kernelspec": {
      "name": "python3",
      "display_name": "Python 3"
    },
    "language_info": {
      "name": "python"
    }
  },
  "cells": [
    {
      "cell_type": "markdown",
      "metadata": {
        "id": "view-in-github",
        "colab_type": "text"
      },
      "source": [
        "<a href=\"https://colab.research.google.com/github/paul6598/PS_practice/blob/main/240426.ipynb\" target=\"_parent\"><img src=\"https://colab.research.google.com/assets/colab-badge.svg\" alt=\"Open In Colab\"/></a>"
      ]
    },
    {
      "cell_type": "code",
      "source": [
        "import sys\n",
        "input = sys.stdin.readline"
      ],
      "metadata": {
        "id": "3eh18etf2Pj3"
      },
      "execution_count": null,
      "outputs": []
    },
    {
      "cell_type": "code",
      "execution_count": 2,
      "metadata": {
        "colab": {
          "base_uri": "https://localhost:8080/"
        },
        "id": "SJ09yRbk0GgM",
        "outputId": "ade6722e-c056-4367-8ac4-f91c708b8f08"
      },
      "outputs": [
        {
          "output_type": "stream",
          "name": "stdout",
          "text": [
            "7\n",
            "0 0 0 1 0 0 0\n",
            "0 0 0 0 0 0 1\n",
            "0 0 0 0 0 0 0\n",
            "0 0 0 0 1 1 0\n",
            "1 0 0 0 0 0 0\n",
            "0 0 0 0 0 0 1\n",
            "0 0 1 0 0 0 0\n",
            "1 0 1 1 1 1 1 \n",
            "0 0 1 0 0 0 1 \n",
            "0 0 0 0 0 0 0 \n",
            "1 0 1 1 1 1 1 \n",
            "1 0 1 1 1 1 1 \n",
            "0 0 1 0 0 0 1 \n",
            "0 0 1 0 0 0 0 \n"
          ]
        }
      ],
      "source": [
        "n = int(input())\n",
        "table = []\n",
        "for _ in range(n):\n",
        "  table.append(list(map(int, input().split())))\n",
        "\n",
        "for k in range(n):\n",
        "  for i in range(n):\n",
        "    for j in range(n):\n",
        "      if table[i][k] == 1 and table[k][j] == 1:\n",
        "        table[i][j] = 1\n",
        "\n",
        "for i in range(n):\n",
        "  for j in range(n):\n",
        "    print(table[i][j], end = \" \")\n",
        "  print(\"\")\n",
        "\n"
      ]
    },
    {
      "cell_type": "code",
      "source": [
        "n,m = map(int,input().split())\n",
        "table = []\n",
        "for _ in range(n):\n",
        "  table.append(list(map(int, input().split())))\n",
        "\n",
        "accsum = [[0]*(n+1) for _ in range(n+1)]\n",
        "for i in range(1,n+1):\n",
        "  for j in range(1,n+1):\n",
        "    accsum[i][j] = accsum[i-1][j]+accsum[i][j-1]-accsum[i-1][j-1]+table[i-1][j-1]\n",
        "\n",
        "for _ in range(m):\n",
        "  y1,x1,y2,x2 = map(int,input().split())\n",
        "  print(accsum[y2][x2]-accsum[y2][x1-1]-accsum[y1-1][x2]+accsum[y1-1][x1-1])"
      ],
      "metadata": {
        "colab": {
          "base_uri": "https://localhost:8080/"
        },
        "id": "E3c08Ltb19ky",
        "outputId": "3921c073-e381-4ccb-c57e-318da6ef44de"
      },
      "execution_count": 7,
      "outputs": [
        {
          "output_type": "stream",
          "name": "stdout",
          "text": [
            "4 3\n",
            "1 2 3 4\n",
            "2 3 4 5\n",
            "3 4 5 6\n",
            "4 5 6 7\n",
            "2 2 3 4\n",
            "27\n",
            "3 4 3 4\n",
            "6\n",
            "1 1 4 4\n",
            "64\n"
          ]
        }
      ]
    },
    {
      "cell_type": "code",
      "source": [
        "n = int(input())\n",
        "table = []\n",
        "for _ in range(n):\n",
        "  table.append(list(map(int, input().split())))\n",
        "\n",
        "dp = [[[0]*(n+1) for _ in range(n+1)] for _ in range(3)] #dp[0] 가로, dp[1] 대각선, dp[2] 세로\n",
        "\n",
        "for i in range(2,n+1):\n",
        "  if table[0][i-1] == 1:\n",
        "    break\n",
        "  dp[0][1][i] = 1\n",
        "\n",
        "for i in range(2,n+1):\n",
        "  for j in range(1,n+1):\n",
        "    if table[i-1][j-1] != 1:\n",
        "      dp[0][i][j] = dp[1][i][j-1]+dp[0][i][j-1]\n",
        "      dp[2][i][j] = dp[1][i-1][j]+dp[2][i-1][j]\n",
        "      if table[i-2][j-1] != 1 and table[i-1][j-2] != 1:\n",
        "        dp[1][i][j] = dp[0][i-1][j-1]+dp[1][i-1][j-1]+dp[2][i-1][j-1]\n",
        "\n",
        "print(sum([dp[i][-1][-1] for i in range(3)]))\n"
      ],
      "metadata": {
        "colab": {
          "base_uri": "https://localhost:8080/"
        },
        "id": "q3YI2scz72vw",
        "outputId": "915dab22-fa44-487a-9a29-46b88ab7befa"
      },
      "execution_count": 23,
      "outputs": [
        {
          "output_type": "stream",
          "name": "stdout",
          "text": [
            "22\n",
            "0 0 0 0 0 0 0 0 0 0 0 0 0 0 0 0 0 0 0 0 0 0\n",
            "0 0 0 0 0 0 0 0 0 0 0 0 0 0 0 0 0 0 0 0 0 0\n",
            "0 0 0 0 0 0 0 0 0 0 0 0 0 0 0 0 0 0 0 0 0 0\n",
            "0 0 0 0 0 0 0 0 0 0 0 0 0 0 0 0 0 0 0 0 0 0\n",
            "0 0 0 0 0 0 0 0 0 0 0 0 0 0 0 0 0 0 0 0 0 0\n",
            "0 0 0 0 0 0 0 0 0 0 0 0 0 0 0 0 0 0 0 0 0 0\n",
            "0 0 0 0 0 0 0 0 0 0 0 0 0 0 0 0 0 0 0 0 0 0\n",
            "0 0 0 0 0 0 0 0 0 0 0 0 0 0 0 0 0 0 0 0 0 0\n",
            "0 0 0 0 0 0 0 0 0 0 0 0 0 0 0 0 0 0 0 0 0 0\n",
            "0 0 0 0 0 0 0 0 0 0 0 0 0 0 0 0 0 0 0 0 0 0\n",
            "0 0 0 0 0 0 0 0 0 0 0 0 0 0 0 0 0 0 0 0 0 0\n",
            "0 0 0 0 0 0 0 0 0 0 0 0 0 0 0 0 0 0 0 0 0 0\n",
            "0 0 0 0 0 0 0 0 0 0 0 0 0 0 0 0 0 0 0 0 0 0\n",
            "0 0 0 0 0 0 0 0 0 0 0 0 0 0 0 0 0 0 0 0 0 0\n",
            "0 0 0 0 0 0 0 0 0 0 0 0 0 0 0 0 0 0 0 0 0 0\n",
            "0 0 0 0 0 0 0 0 0 0 0 0 0 0 0 0 0 0 0 0 0 0\n",
            "0 0 0 0 0 0 0 0 0 0 0 0 0 0 0 0 0 0 0 0 0 0\n",
            "0 0 0 0 0 0 0 0 0 0 0 0 0 0 0 0 0 0 0 0 0 0\n",
            "0 0 0 0 0 0 0 0 0 0 0 0 0 0 0 0 0 0 0 0 0 0\n",
            "0 0 0 0 0 0 0 0 0 0 0 0 0 0 0 0 0 0 0 0 0 0\n",
            "0 0 0 0 0 0 0 0 0 0 0 0 0 0 0 0 0 0 0 0 0 0\n",
            "0 0 0 0 0 0 0 0 0 0 0 0 0 0 0 0 0 0 0 0 0 0\n",
            "4345413252\n"
          ]
        }
      ]
    },
    {
      "cell_type": "code",
      "source": [],
      "metadata": {
        "id": "TIwCsjN-JsLT"
      },
      "execution_count": null,
      "outputs": []
    }
  ]
}