{
  "nbformat": 4,
  "nbformat_minor": 0,
  "metadata": {
    "colab": {
      "provenance": [],
      "authorship_tag": "ABX9TyMHw/Q0lc2fIyHlyizoCJ9/",
      "include_colab_link": true
    },
    "kernelspec": {
      "name": "python3",
      "display_name": "Python 3"
    },
    "language_info": {
      "name": "python"
    }
  },
  "cells": [
    {
      "cell_type": "markdown",
      "metadata": {
        "id": "view-in-github",
        "colab_type": "text"
      },
      "source": [
        "<a href=\"https://colab.research.google.com/github/paul6598/PS_practice/blob/main/240626.ipynb\" target=\"_parent\"><img src=\"https://colab.research.google.com/assets/colab-badge.svg\" alt=\"Open In Colab\"/></a>"
      ]
    },
    {
      "cell_type": "code",
      "execution_count": 3,
      "metadata": {
        "colab": {
          "base_uri": "https://localhost:8080/"
        },
        "id": "j8eKOyrLpGXl",
        "outputId": "294f0d89-a51c-4b34-caf5-d855c7bd0ae5"
      },
      "outputs": [
        {
          "output_type": "stream",
          "name": "stdout",
          "text": [
            "9\n",
            "8 6\n",
            "7\n",
            "1 2\n",
            "1 3\n",
            "2 7\n",
            "2 8\n",
            "2 9\n",
            "4 5\n",
            "4 6\n",
            "-1\n"
          ]
        }
      ],
      "source": [
        "from collections import deque\n",
        "\n",
        "n = int(input())\n",
        "a,b = map(int,input().split())\n",
        "\n",
        "m = int(input())\n",
        "family = {}\n",
        "for _ in range(m):\n",
        "  x,y = map(int, input().split())\n",
        "  if x in family:\n",
        "    family[x].append(y)\n",
        "  else:\n",
        "    family[x] = [y]\n",
        "\n",
        "  if y in family:\n",
        "    family[y].append(x)\n",
        "  else:\n",
        "    family[y] = [x]\n",
        "\n",
        "def bfs(start, end, family):\n",
        "  visited = [False] * (n+1)\n",
        "  queue = deque([[start, 0]])\n",
        "  visited[start] = True\n",
        "  while queue:\n",
        "    node, depth = queue.popleft()\n",
        "    if node == end:\n",
        "      return depth\n",
        "    else:\n",
        "      for next in family[node]:\n",
        "        if not visited[next]:\n",
        "          visited[next] = True\n",
        "          queue.append((next, depth+1))\n",
        "  return -1\n",
        "\n",
        "print(bfs(a,b,family))"
      ]
    },
    {
      "cell_type": "code",
      "source": [
        "print(\"\\\\    /\\\\\")\n",
        "print(\" )  ( ')\")\n",
        "print(\"(  /  )\")\n",
        "print(\" \\(__)|\")\n"
      ],
      "metadata": {
        "colab": {
          "base_uri": "https://localhost:8080/"
        },
        "id": "fWuB-YZYquWT",
        "outputId": "7d936ac4-72dc-4b38-900d-a8084883f526"
      },
      "execution_count": 5,
      "outputs": [
        {
          "output_type": "stream",
          "name": "stdout",
          "text": [
            "\\    /\\\n",
            " )  ( ')\n",
            "(  /  )\n",
            " \\(__)|\n"
          ]
        }
      ]
    },
    {
      "cell_type": "code",
      "source": [
        "from collections import deque\n",
        "\n",
        "n = int(input())\n",
        "table = [[1,1,0,1,1],[0,1,0,0,0],[1,0,1,0,1],[1,0,0,0,0],[1,0,1,1,1]]\n",
        "#for _ in range(n):\n",
        "#  table.append(list(map(int, input().split())))\n",
        "\n",
        "def put_bishop(y,x,table):\n",
        "  tmp = table[:]\n",
        "  tmp[x+y] = 1\n",
        "  return tmp\n",
        "\n",
        "def bfs(table):\n",
        "  n = len(table)\n",
        "  visited = [[False] * n for _ in range(n)]\n",
        "  bishop = [0] * (2*n-1)\n",
        "  visited[0][n-1] = True\n",
        "\n",
        "  if table[0][n-1] == 1:\n",
        "    bishop[n-1+0] = 1\n",
        "  queue = deque([[n-1,0, bishop]])\n",
        "\n",
        "  while queue:\n",
        "    x,y,curr_bishop = queue.popleft()\n",
        "    print(y,x,curr_bishop)\n",
        "    if x > 0 and visited[y][x-1] == False:\n",
        "      visited[y][x-1] = True\n",
        "      if curr_bishop[x+y-1] == 0 and table[y][x-1] == 1:\n",
        "        queue.append([x-1,y,put_bishop(y,x-1,curr_bishop)])\n",
        "      else:\n",
        "        queue.append([x-1,y,curr_bishop])\n",
        "    if y < n-1 and visited[y+1][x] == False:\n",
        "      visited[y+1][x] = True\n",
        "      if curr_bishop[x+y+1] == 0 and table[y+1][x] == 1:\n",
        "        queue.append([x,y+1,put_bishop(y+1,x,curr_bishop)])\n",
        "      else:\n",
        "        queue.append([x,y+1,curr_bishop])\n",
        "\n",
        "\n",
        "  return sum(curr_bishop)\n",
        "\n",
        "print(bfs(table))"
      ],
      "metadata": {
        "colab": {
          "base_uri": "https://localhost:8080/"
        },
        "id": "ZYRkNzrDreib",
        "outputId": "ba951823-a81e-44ed-9237-f1c9a023befb"
      },
      "execution_count": 17,
      "outputs": [
        {
          "output_type": "stream",
          "name": "stdout",
          "text": [
            "5\n",
            "0 4 [0, 0, 0, 0, 1, 0, 0, 0, 0]\n",
            "0 3 [0, 0, 0, 1, 1, 0, 0, 0, 0]\n",
            "1 4 [0, 0, 0, 0, 1, 0, 0, 0, 0]\n",
            "0 2 [0, 0, 0, 1, 1, 0, 0, 0, 0]\n",
            "1 3 [0, 0, 0, 1, 1, 0, 0, 0, 0]\n",
            "2 4 [0, 0, 0, 0, 1, 0, 1, 0, 0]\n",
            "0 1 [0, 1, 0, 1, 1, 0, 0, 0, 0]\n",
            "1 2 [0, 0, 0, 1, 1, 0, 0, 0, 0]\n",
            "2 3 [0, 0, 0, 1, 1, 0, 0, 0, 0]\n",
            "3 4 [0, 0, 0, 0, 1, 0, 1, 0, 0]\n",
            "0 0 [1, 1, 0, 1, 1, 0, 0, 0, 0]\n",
            "1 1 [0, 1, 1, 1, 1, 0, 0, 0, 0]\n",
            "2 2 [0, 0, 0, 1, 1, 0, 0, 0, 0]\n",
            "3 3 [0, 0, 0, 1, 1, 0, 0, 0, 0]\n",
            "4 4 [0, 0, 0, 0, 1, 0, 1, 0, 1]\n",
            "1 0 [1, 1, 0, 1, 1, 0, 0, 0, 0]\n",
            "2 1 [0, 1, 1, 1, 1, 0, 0, 0, 0]\n",
            "3 2 [0, 0, 0, 1, 1, 0, 0, 0, 0]\n",
            "4 3 [0, 0, 0, 1, 1, 0, 0, 1, 0]\n",
            "2 0 [1, 1, 1, 1, 1, 0, 0, 0, 0]\n",
            "3 1 [0, 1, 1, 1, 1, 0, 0, 0, 0]\n",
            "4 2 [0, 0, 0, 1, 1, 0, 1, 0, 0]\n",
            "3 0 [1, 1, 1, 1, 1, 0, 0, 0, 0]\n",
            "4 1 [0, 1, 1, 1, 1, 0, 0, 0, 0]\n",
            "4 0 [1, 1, 1, 1, 1, 0, 0, 0, 0]\n",
            "5\n"
          ]
        }
      ]
    },
    {
      "cell_type": "code",
      "source": [
        "from collections import deque\n",
        "\n",
        "n = int(input())\n",
        "table = [[1,1,0,1,1],[0,1,0,0,0],[1,0,1,0,1],[1,0,0,0,0],[1,0,1,1,1]]\n",
        "#for _ in range(n):\n",
        "#  table.append(list(map(int, input().split())))\n",
        "\n",
        "def put_bishop(n,y,x,table):\n",
        "  tmp = table[:]\n",
        "  tmp[y-x+n-1] = 1\n",
        "  return tmp\n",
        "\n",
        "def bfs(table):\n",
        "  n = len(table)\n",
        "  visited = [[False] * n for _ in range(n)]\n",
        "  bishop = [0] * (2*n-1)\n",
        "  visited[0][0] = True\n",
        "  if table[0][0] == 1:\n",
        "    bishop[n-1] = 1\n",
        "  queue = deque([[0,0, bishop]])\n",
        "\n",
        "  while queue:\n",
        "    y,x,curr_bishop = queue.popleft()\n",
        "    #print(y,x,curr_bishop)\n",
        "    if x+y >= n-1:\n",
        "      a,b = n-1, x+y-n+2\n",
        "    else:\n",
        "      a,b = x+y+1, 0\n",
        "    while a >= 0 and b < n:\n",
        "      if curr_bishop[b-a+n-1] == 0 and table[a][b] == 1:\n",
        "        queue.append([a,b,put_bishop(n,a,b,curr_bishop)])\n",
        "      print(a,b,curr_bishop)\n",
        "      a -= 1\n",
        "      b += 1\n",
        "\n",
        "  return sum(curr_bishop)\n",
        "\n",
        "print(bfs(table))"
      ],
      "metadata": {
        "colab": {
          "base_uri": "https://localhost:8080/"
        },
        "id": "wUqt9lVvwNAg",
        "outputId": "2fde82b1-627e-4d98-d30f-f5c253a0504b"
      },
      "execution_count": 30,
      "outputs": [
        {
          "output_type": "stream",
          "name": "stdout",
          "text": [
            "5\n",
            "1 0 [0, 0, 0, 0, 1, 0, 0, 0, 0]\n",
            "0 1 [0, 0, 0, 0, 1, 0, 0, 0, 0]\n",
            "2 0 [0, 0, 0, 1, 1, 0, 0, 0, 0]\n",
            "1 1 [0, 0, 0, 1, 1, 0, 0, 0, 0]\n",
            "0 2 [0, 0, 0, 1, 1, 0, 0, 0, 0]\n",
            "3 0 [0, 0, 0, 1, 1, 0, 1, 0, 0]\n",
            "2 1 [0, 0, 0, 1, 1, 0, 1, 0, 0]\n",
            "1 2 [0, 0, 0, 1, 1, 0, 1, 0, 0]\n",
            "0 3 [0, 0, 0, 1, 1, 0, 1, 0, 0]\n",
            "4 0 [0, 0, 0, 1, 1, 0, 1, 1, 0]\n",
            "3 1 [0, 0, 0, 1, 1, 0, 1, 1, 0]\n",
            "2 2 [0, 0, 0, 1, 1, 0, 1, 1, 0]\n",
            "1 3 [0, 0, 0, 1, 1, 0, 1, 1, 0]\n",
            "0 4 [0, 0, 0, 1, 1, 0, 1, 1, 0]\n",
            "4 0 [0, 1, 0, 1, 1, 0, 1, 0, 0]\n",
            "3 1 [0, 1, 0, 1, 1, 0, 1, 0, 0]\n",
            "2 2 [0, 1, 0, 1, 1, 0, 1, 0, 0]\n",
            "1 3 [0, 1, 0, 1, 1, 0, 1, 0, 0]\n",
            "0 4 [0, 1, 0, 1, 1, 0, 1, 0, 0]\n",
            "4 1 [0, 0, 0, 1, 1, 0, 1, 1, 1]\n",
            "3 2 [0, 0, 0, 1, 1, 0, 1, 1, 1]\n",
            "2 3 [0, 0, 0, 1, 1, 0, 1, 1, 1]\n",
            "1 4 [0, 0, 0, 1, 1, 0, 1, 1, 1]\n",
            "4 1 [1, 0, 0, 1, 1, 0, 1, 1, 0]\n",
            "3 2 [1, 0, 0, 1, 1, 0, 1, 1, 0]\n",
            "2 3 [1, 0, 0, 1, 1, 0, 1, 1, 0]\n",
            "1 4 [1, 0, 0, 1, 1, 0, 1, 1, 0]\n",
            "4 1 [0, 1, 0, 1, 1, 0, 1, 0, 1]\n",
            "3 2 [0, 1, 0, 1, 1, 0, 1, 0, 1]\n",
            "2 3 [0, 1, 0, 1, 1, 0, 1, 0, 1]\n",
            "1 4 [0, 1, 0, 1, 1, 0, 1, 0, 1]\n",
            "4 1 [1, 1, 0, 1, 1, 0, 1, 0, 0]\n",
            "3 2 [1, 1, 0, 1, 1, 0, 1, 0, 0]\n",
            "2 3 [1, 1, 0, 1, 1, 0, 1, 0, 0]\n",
            "1 4 [1, 1, 0, 1, 1, 0, 1, 0, 0]\n",
            "5\n"
          ]
        }
      ]
    },
    {
      "cell_type": "code",
      "source": [
        "y-x+n-1\n",
        "\n",
        "0,1,2,3,4,5,6,7,8,9"
      ],
      "metadata": {
        "id": "aMPtwM56yhJf"
      },
      "execution_count": null,
      "outputs": []
    }
  ]
}