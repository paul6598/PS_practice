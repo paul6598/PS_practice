{
  "nbformat": 4,
  "nbformat_minor": 0,
  "metadata": {
    "colab": {
      "provenance": [],
      "authorship_tag": "ABX9TyOZNeCRouRYORF+jfpws8qa",
      "include_colab_link": true
    },
    "kernelspec": {
      "name": "python3",
      "display_name": "Python 3"
    },
    "language_info": {
      "name": "python"
    }
  },
  "cells": [
    {
      "cell_type": "markdown",
      "metadata": {
        "id": "view-in-github",
        "colab_type": "text"
      },
      "source": [
        "<a href=\"https://colab.research.google.com/github/paul6598/PS_practice/blob/main/240428.ipynb\" target=\"_parent\"><img src=\"https://colab.research.google.com/assets/colab-badge.svg\" alt=\"Open In Colab\"/></a>"
      ]
    },
    {
      "cell_type": "code",
      "execution_count": 6,
      "metadata": {
        "colab": {
          "base_uri": "https://localhost:8080/"
        },
        "id": "aV--Mag6DOuN",
        "outputId": "296f5a6f-545c-4a2e-995e-d01e790eccc6"
      },
      "outputs": [
        {
          "output_type": "stream",
          "name": "stdout",
          "text": [
            "12\n",
            "1 2\n",
            "1 3\n",
            "2 4\n",
            "3 5\n",
            "3 6\n",
            "4 7\n",
            "4 8\n",
            "5 9\n",
            "5 10\n",
            "6 11\n",
            "6 12\n",
            "1\n",
            "1\n",
            "2\n",
            "3\n",
            "3\n",
            "4\n",
            "4\n",
            "5\n",
            "5\n",
            "6\n",
            "6\n"
          ]
        }
      ],
      "source": [
        "n = int(input())\n",
        "graph = {}\n",
        "for _ in range(n-1):\n",
        "  u,v = map(int, input().split())\n",
        "  if u in graph:\n",
        "    graph[u].append(v)\n",
        "  else:\n",
        "    graph[u] = [v]\n",
        "  if v in graph:\n",
        "    graph[v].append(u)\n",
        "  else:\n",
        "    graph[v] = [u]\n",
        "\n",
        "#print(graph)\n",
        "\n",
        "res = {}\n",
        "stack = []\n",
        "visit = [0]*(n+1)\n",
        "visit[1] = 1\n",
        "stack.append(1)\n",
        "while stack:\n",
        "  parent_node = stack.pop()\n",
        "  for children_node in graph[parent_node]:\n",
        "    if visit[children_node] == 0:\n",
        "      visit[children_node] = 1\n",
        "      stack.append(children_node)\n",
        "      res[children_node] = parent_node\n",
        "#print(res)\n",
        "for i in range(2,n+1):\n",
        "  print(res[i])"
      ]
    },
    {
      "cell_type": "code",
      "source": [],
      "metadata": {
        "id": "hYn_fq1uE74w"
      },
      "execution_count": null,
      "outputs": []
    }
  ]
}