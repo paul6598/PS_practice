{
  "nbformat": 4,
  "nbformat_minor": 0,
  "metadata": {
    "colab": {
      "provenance": [],
      "authorship_tag": "ABX9TyPGkRp1BECGN3xl1L2wpmmH",
      "include_colab_link": true
    },
    "kernelspec": {
      "name": "python3",
      "display_name": "Python 3"
    },
    "language_info": {
      "name": "python"
    }
  },
  "cells": [
    {
      "cell_type": "markdown",
      "metadata": {
        "id": "view-in-github",
        "colab_type": "text"
      },
      "source": [
        "<a href=\"https://colab.research.google.com/github/paul6598/PS_practice/blob/main/240609.ipynb\" target=\"_parent\"><img src=\"https://colab.research.google.com/assets/colab-badge.svg\" alt=\"Open In Colab\"/></a>"
      ]
    },
    {
      "cell_type": "code",
      "execution_count": 23,
      "metadata": {
        "colab": {
          "base_uri": "https://localhost:8080/"
        },
        "id": "trXTe9_JTuT7",
        "outputId": "b447f511-f548-4f44-bfe7-acf87cc69333"
      },
      "outputs": [
        {
          "output_type": "stream",
          "name": "stdout",
          "text": [
            "36 1\n",
            "2 1\n",
            "12\n"
          ]
        }
      ],
      "source": [
        "n,m = map(int, input().split())\n",
        "\n",
        "min_six, min_one =float(\"INF\"), float(\"INF\")\n",
        "for _ in range(m):\n",
        "  six, one = map(int, input().split())\n",
        "  min_six, min_one = min(min_six,six), min(min_one, one)\n",
        "\n",
        "\n",
        "res = float(\"INF\")\n",
        "i = 0\n",
        "while i*6 <= n:\n",
        "  res = min(res, min_six * i + min_one * (n-6*i))\n",
        "  i += 1\n",
        "\n",
        "\n",
        "res = min(res, min_six*(n//6+1))\n",
        "print(res)\n",
        "\n"
      ]
    },
    {
      "cell_type": "code",
      "source": [
        "n = int(input())\n",
        "ingred = [0]*n\n",
        "\n",
        "def coprime(a,b):\n",
        "  min_ = min(a,b)\n",
        "  for i in range(2, min_+1):\n",
        "    if a%i == 0 and b%i == 0:\n",
        "      a, b = a//i, b//i\n",
        "  return a,b\n",
        "\n",
        "def mult(seq, n):\n",
        "  return [x*n for x in seq]\n",
        "\n",
        "def ratio(a,p,q):\n",
        "  return (a*q)//p\n",
        "\n",
        "for _ in range(n-1):\n",
        "  a,b,P,Q = map(int, input().split())\n",
        "  p,q = coprime(P,Q)\n",
        "  if ingred[a]==0 and ingred[b]==0:\n",
        "    ingred[a] = p\n",
        "    ingred[b] = q\n",
        "  elif ingred[a]!=0 and ingred[b]==0:\n",
        "    _, tmp = coprime(ingred[a],p)\n",
        "    ingred = mult(ingred, tmp)\n",
        "    ingred[b] = ratio(ingred[a],p,q)\n",
        "  elif ingred[a]==0 and ingred[b]!=0:\n",
        "    _, tmp = coprime(ingred[b],q)\n",
        "    ingred = mult(ingred, tmp)\n",
        "    ingred[a] = ratio(ingred[b],q,p)\n",
        "  else:\n",
        "\n",
        "\n",
        "  for i in ingred:\n",
        "    print(i, end=' ')\n",
        "  print()\n"
      ],
      "metadata": {
        "colab": {
          "base_uri": "https://localhost:8080/"
        },
        "id": "b7Jrj85cU9rV",
        "outputId": "016a04ff-6258-42d5-fcf3-67bd6bb1162b"
      },
      "execution_count": 38,
      "outputs": [
        {
          "output_type": "stream",
          "name": "stdout",
          "text": [
            "4\n",
            "2 3 6 8\n",
            "0 0 3 4 \n",
            "0 1 9 3\n",
            "3 1 3 4 \n",
            "3 0 7 5\n",
            "3 1 3 4 \n"
          ]
        }
      ]
    },
    {
      "cell_type": "code",
      "source": [],
      "metadata": {
        "id": "hRa7K1JOZVYR"
      },
      "execution_count": null,
      "outputs": []
    }
  ]
}