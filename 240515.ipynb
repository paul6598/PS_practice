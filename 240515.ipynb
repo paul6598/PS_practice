{
  "nbformat": 4,
  "nbformat_minor": 0,
  "metadata": {
    "colab": {
      "provenance": [],
      "authorship_tag": "ABX9TyPB0uEETUH5YX0QSAdZHgcg",
      "include_colab_link": true
    },
    "kernelspec": {
      "name": "python3",
      "display_name": "Python 3"
    },
    "language_info": {
      "name": "python"
    }
  },
  "cells": [
    {
      "cell_type": "markdown",
      "metadata": {
        "id": "view-in-github",
        "colab_type": "text"
      },
      "source": [
        "<a href=\"https://colab.research.google.com/github/paul6598/PS_practice/blob/main/240515.ipynb\" target=\"_parent\"><img src=\"https://colab.research.google.com/assets/colab-badge.svg\" alt=\"Open In Colab\"/></a>"
      ]
    },
    {
      "cell_type": "code",
      "execution_count": 23,
      "metadata": {
        "colab": {
          "base_uri": "https://localhost:8080/"
        },
        "id": "iaY1YfUhXKOL",
        "outputId": "7a7e5db6-3f3e-4304-e817-fc3618f31cd1"
      },
      "outputs": [
        {
          "output_type": "stream",
          "name": "stdout",
          "text": [
            "80000\n",
            "2\n",
            "8 9\n",
            "2228\n"
          ]
        }
      ],
      "source": [
        "from collections import deque\n",
        "\n",
        "n = int(input())\n",
        "m = int(input())\n",
        "broken = []\n",
        "if m != 0:\n",
        "  broken = list(map(int, input().split()))\n",
        "button = [str(i) for i in range(10) if i not in broken]\n",
        "\n",
        "def minus(curr_, m):\n",
        "  return abs(int(curr_)-m)+len(curr_)\n",
        "\n",
        "min_ = abs(100-n)\n",
        "#print(min_)\n",
        "stack = deque([i for i in button])\n",
        "while stack:\n",
        "  curr_channel = stack.popleft()\n",
        "  #print(min_)\n",
        "  min_ = min(min_, minus(curr_channel, n))\n",
        "  if curr_channel != \"0\":\n",
        "    for i in button:\n",
        "      next_channel = curr_channel+i\n",
        "      if int(next_channel) <= 1000000:\n",
        "        stack.append(next_channel)\n",
        "\n",
        "print(min_)"
      ]
    },
    {
      "cell_type": "code",
      "source": [
        "class MinHeap():\n",
        "  def __init__(self):\n",
        "    self.heap = []\n",
        "\n",
        "  def parent(self, index):\n",
        "    return (index-1)//2\n",
        "  def left(self, index):\n",
        "    return 2*index+1\n",
        "  def right(self, index):\n",
        "    return 2*index+2\n",
        "\n",
        "  def heap_up(self, index):\n",
        "    parent_ = self.parent(index)\n",
        "    if index > 0 and self.heap[index] < self.heap[parent_]:\n",
        "      self.heap[index], self.heap[parent_] = self.heap[parent_], self.heap[index]\n",
        "      self.heap_up(parent_)\n",
        "\n",
        "  def heap_down(self, index):\n",
        "    smallest = index\n",
        "    left_index = self.left(index)\n",
        "    right_index = self.right(index)\n",
        "\n",
        "    if left_index < len(self.heap) and self.heap[left_index] < self.heap[smallest]:\n",
        "        smallest = left_index\n",
        "    if right_index < len(self.heap) and self.heap[right_index] < self.heap[smallest]:\n",
        "        smallest = right_index\n",
        "\n",
        "    if smallest != index:\n",
        "        self.heap[index], self.heap[smallest] = self.heap[smallest], self.heap[index]\n",
        "        self.heap_down(smallest)\n",
        "\n",
        "  def extract(self):\n",
        "    if len(self.heap) == 0:\n",
        "      return 0\n",
        "    else:\n",
        "      result = self.heap[0]\n",
        "      self.heap[0] = self.heap[-1]\n",
        "      self.heap.pop()\n",
        "      self.heap_down(0)\n",
        "      return result\n",
        "\n",
        "  def insert(self, value):\n",
        "    self.heap.append(value)\n",
        "    self.heap_up(len(self.heap)-1)\n",
        "\n",
        "\n",
        "n = int(input())\n",
        "min_heap = MinHeap()\n",
        "for _ in range(n):\n",
        "  x = int(input())\n",
        "  if x == 0:\n",
        "    print(min_heap.extract())\n",
        "  else:\n",
        "    min_heap.insert(x)\n",
        "\n"
      ],
      "metadata": {
        "colab": {
          "base_uri": "https://localhost:8080/"
        },
        "id": "pOA9YR-BXfVZ",
        "outputId": "b01a4151-d06f-402a-a3be-3b95bd53189c"
      },
      "execution_count": 27,
      "outputs": [
        {
          "output_type": "stream",
          "name": "stdout",
          "text": [
            "13\n",
            "1\n",
            "2\n",
            "10\n",
            "100\n",
            "200\n",
            "20\n",
            "0\n",
            "1\n",
            "0\n",
            "2\n",
            "0\n",
            "10\n",
            "0\n",
            "20\n",
            "0\n",
            "100\n",
            "0\n",
            "200\n",
            "0\n",
            "0\n"
          ]
        }
      ]
    },
    {
      "cell_type": "code",
      "source": [
        "m = int(input())\n",
        "S = set()\n",
        "for _ in range(m):\n",
        "  command = list(input().split())\n",
        "  if command[0] == \"add\":\n",
        "    S.add(int(command[1]))\n",
        "\n",
        "  elif command[0] == \"remove\":\n",
        "    S.discard(int(command[1]))\n",
        "\n",
        "  elif command[0] == \"check\":\n",
        "    if int(command[1]) in S:\n",
        "      print(1)\n",
        "    else:\n",
        "      print(0)\n",
        "\n",
        "  elif command[0] == \"toggle\":\n",
        "    if int(command[1]) in S:\n",
        "      S.remove(int(command[1]))\n",
        "    else:\n",
        "      S.add(int(command[1]))\n",
        "  elif command[0] == \"all\":\n",
        "    S = {i for i in range(1,21)}\n",
        "  else:\n",
        "    S = set()\n",
        "\n"
      ],
      "metadata": {
        "colab": {
          "base_uri": "https://localhost:8080/",
          "height": 373
        },
        "id": "gEysYMCjXhJq",
        "outputId": "9b09951a-56c1-4726-9b10-88df532c8c57"
      },
      "execution_count": 36,
      "outputs": [
        {
          "output_type": "error",
          "ename": "KeyboardInterrupt",
          "evalue": "Interrupted by user",
          "traceback": [
            "\u001b[0;31m---------------------------------------------------------------------------\u001b[0m",
            "\u001b[0;31mKeyboardInterrupt\u001b[0m                         Traceback (most recent call last)",
            "\u001b[0;32m<ipython-input-36-742090a63a39>\u001b[0m in \u001b[0;36m<cell line: 1>\u001b[0;34m()\u001b[0m\n\u001b[0;32m----> 1\u001b[0;31m \u001b[0mm\u001b[0m \u001b[0;34m=\u001b[0m \u001b[0mint\u001b[0m\u001b[0;34m(\u001b[0m\u001b[0minput\u001b[0m\u001b[0;34m(\u001b[0m\u001b[0;34m)\u001b[0m\u001b[0;34m)\u001b[0m\u001b[0;34m\u001b[0m\u001b[0;34m\u001b[0m\u001b[0m\n\u001b[0m\u001b[1;32m      2\u001b[0m \u001b[0mS\u001b[0m \u001b[0;34m=\u001b[0m \u001b[0mset\u001b[0m\u001b[0;34m(\u001b[0m\u001b[0;34m)\u001b[0m\u001b[0;34m\u001b[0m\u001b[0;34m\u001b[0m\u001b[0m\n\u001b[1;32m      3\u001b[0m \u001b[0;32mfor\u001b[0m \u001b[0m_\u001b[0m \u001b[0;32min\u001b[0m \u001b[0mrange\u001b[0m\u001b[0;34m(\u001b[0m\u001b[0mm\u001b[0m\u001b[0;34m)\u001b[0m\u001b[0;34m:\u001b[0m\u001b[0;34m\u001b[0m\u001b[0;34m\u001b[0m\u001b[0m\n\u001b[1;32m      4\u001b[0m   \u001b[0mcommand\u001b[0m \u001b[0;34m=\u001b[0m \u001b[0mlist\u001b[0m\u001b[0;34m(\u001b[0m\u001b[0minput\u001b[0m\u001b[0;34m(\u001b[0m\u001b[0;34m)\u001b[0m\u001b[0;34m.\u001b[0m\u001b[0msplit\u001b[0m\u001b[0;34m(\u001b[0m\u001b[0;34m)\u001b[0m\u001b[0;34m)\u001b[0m\u001b[0;34m\u001b[0m\u001b[0;34m\u001b[0m\u001b[0m\n\u001b[1;32m      5\u001b[0m   \u001b[0;32mif\u001b[0m \u001b[0mcommand\u001b[0m\u001b[0;34m[\u001b[0m\u001b[0;36m0\u001b[0m\u001b[0;34m]\u001b[0m \u001b[0;34m==\u001b[0m \u001b[0;34m\"add\"\u001b[0m\u001b[0;34m:\u001b[0m\u001b[0;34m\u001b[0m\u001b[0;34m\u001b[0m\u001b[0m\n",
            "\u001b[0;32m/usr/local/lib/python3.10/dist-packages/ipykernel/kernelbase.py\u001b[0m in \u001b[0;36mraw_input\u001b[0;34m(self, prompt)\u001b[0m\n\u001b[1;32m    849\u001b[0m                 \u001b[0;34m\"raw_input was called, but this frontend does not support input requests.\"\u001b[0m\u001b[0;34m\u001b[0m\u001b[0;34m\u001b[0m\u001b[0m\n\u001b[1;32m    850\u001b[0m             )\n\u001b[0;32m--> 851\u001b[0;31m         return self._input_request(str(prompt),\n\u001b[0m\u001b[1;32m    852\u001b[0m             \u001b[0mself\u001b[0m\u001b[0;34m.\u001b[0m\u001b[0m_parent_ident\u001b[0m\u001b[0;34m,\u001b[0m\u001b[0;34m\u001b[0m\u001b[0;34m\u001b[0m\u001b[0m\n\u001b[1;32m    853\u001b[0m             \u001b[0mself\u001b[0m\u001b[0;34m.\u001b[0m\u001b[0m_parent_header\u001b[0m\u001b[0;34m,\u001b[0m\u001b[0;34m\u001b[0m\u001b[0;34m\u001b[0m\u001b[0m\n",
            "\u001b[0;32m/usr/local/lib/python3.10/dist-packages/ipykernel/kernelbase.py\u001b[0m in \u001b[0;36m_input_request\u001b[0;34m(self, prompt, ident, parent, password)\u001b[0m\n\u001b[1;32m    893\u001b[0m             \u001b[0;32mexcept\u001b[0m \u001b[0mKeyboardInterrupt\u001b[0m\u001b[0;34m:\u001b[0m\u001b[0;34m\u001b[0m\u001b[0;34m\u001b[0m\u001b[0m\n\u001b[1;32m    894\u001b[0m                 \u001b[0;31m# re-raise KeyboardInterrupt, to truncate traceback\u001b[0m\u001b[0;34m\u001b[0m\u001b[0;34m\u001b[0m\u001b[0m\n\u001b[0;32m--> 895\u001b[0;31m                 \u001b[0;32mraise\u001b[0m \u001b[0mKeyboardInterrupt\u001b[0m\u001b[0;34m(\u001b[0m\u001b[0;34m\"Interrupted by user\"\u001b[0m\u001b[0;34m)\u001b[0m \u001b[0;32mfrom\u001b[0m \u001b[0;32mNone\u001b[0m\u001b[0;34m\u001b[0m\u001b[0;34m\u001b[0m\u001b[0m\n\u001b[0m\u001b[1;32m    896\u001b[0m             \u001b[0;32mexcept\u001b[0m \u001b[0mException\u001b[0m \u001b[0;32mas\u001b[0m \u001b[0me\u001b[0m\u001b[0;34m:\u001b[0m\u001b[0;34m\u001b[0m\u001b[0;34m\u001b[0m\u001b[0m\n\u001b[1;32m    897\u001b[0m                 \u001b[0mself\u001b[0m\u001b[0;34m.\u001b[0m\u001b[0mlog\u001b[0m\u001b[0;34m.\u001b[0m\u001b[0mwarning\u001b[0m\u001b[0;34m(\u001b[0m\u001b[0;34m\"Invalid Message:\"\u001b[0m\u001b[0;34m,\u001b[0m \u001b[0mexc_info\u001b[0m\u001b[0;34m=\u001b[0m\u001b[0;32mTrue\u001b[0m\u001b[0;34m)\u001b[0m\u001b[0;34m\u001b[0m\u001b[0;34m\u001b[0m\u001b[0m\n",
            "\u001b[0;31mKeyboardInterrupt\u001b[0m: Interrupted by user"
          ]
        }
      ]
    },
    {
      "cell_type": "code",
      "source": [
        "S = {i for i in range(1,21)}\n",
        "print(S, type(S))"
      ],
      "metadata": {
        "colab": {
          "base_uri": "https://localhost:8080/"
        },
        "id": "KsSLNM8zgm5l",
        "outputId": "5c54080c-4831-4417-8c83-1aba71297700"
      },
      "execution_count": 31,
      "outputs": [
        {
          "output_type": "stream",
          "name": "stdout",
          "text": [
            "{1, 2, 3, 4, 5, 6, 7, 8, 9, 10, 11, 12, 13, 14, 15, 16, 17, 18, 19, 20} <class 'set'>\n"
          ]
        }
      ]
    },
    {
      "cell_type": "code",
      "source": [],
      "metadata": {
        "id": "eyILPCjsllMi"
      },
      "execution_count": 36,
      "outputs": []
    },
    {
      "cell_type": "code",
      "source": [
        "def post_write(equation): # 괄호가 없는 수식\n",
        "\n",
        "  return\n",
        "\n"
      ],
      "metadata": {
        "id": "aFOk19YUlmnK"
      },
      "execution_count": null,
      "outputs": []
    }
  ]
}