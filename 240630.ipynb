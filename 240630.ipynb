{
  "nbformat": 4,
  "nbformat_minor": 0,
  "metadata": {
    "colab": {
      "provenance": [],
      "authorship_tag": "ABX9TyOIbhs4JEOmtSnmWrdHJwW0",
      "include_colab_link": true
    },
    "kernelspec": {
      "name": "python3",
      "display_name": "Python 3"
    },
    "language_info": {
      "name": "python"
    }
  },
  "cells": [
    {
      "cell_type": "markdown",
      "metadata": {
        "id": "view-in-github",
        "colab_type": "text"
      },
      "source": [
        "<a href=\"https://colab.research.google.com/github/paul6598/PS_practice/blob/main/240630.ipynb\" target=\"_parent\"><img src=\"https://colab.research.google.com/assets/colab-badge.svg\" alt=\"Open In Colab\"/></a>"
      ]
    },
    {
      "cell_type": "code",
      "execution_count": 28,
      "metadata": {
        "colab": {
          "base_uri": "https://localhost:8080/"
        },
        "id": "fGomEZfOMpF1",
        "outputId": "626b71b1-4f6b-4e35-bd28-10c1e034ccf1"
      },
      "outputs": [
        {
          "output_type": "stream",
          "name": "stdout",
          "text": [
            "4 2\n",
            "9 7 9 1\n",
            "1 7\n",
            "1 9\n",
            "7 1\n",
            "7 9\n",
            "9 1\n",
            "9 7\n",
            "9 9\n"
          ]
        }
      ],
      "source": [
        "from collections import deque\n",
        "\n",
        "n, m = map(int, input().split())\n",
        "seq = list(map(int, input().split()))\n",
        "seq.sort()\n",
        "\n",
        "seq_dic = {}\n",
        "for i in range(n):\n",
        "  if seq[i] not in seq_dic:\n",
        "    seq_dic[seq[i]] = 1\n",
        "  else:\n",
        "    seq_dic[seq[i]] += 1\n",
        "\n",
        "#print(seq_dic)\n",
        "\n",
        "tmp = []\n",
        "post = []\n",
        "res = []\n",
        "\n",
        "def dfs(tmp,n,m):\n",
        "  if len(tmp) == m:\n",
        "    res.append(tmp)\n",
        "\n",
        "  else:\n",
        "    for i in seq_dic:\n",
        "      if seq_dic[i] != 0:\n",
        "        seq_dic[i] -= 1\n",
        "        dfs(tmp + [i], n,m)\n",
        "        seq_dic[i] += 1\n",
        "\n",
        "dfs(tmp,n,m)\n",
        "\n",
        "\n",
        "\n",
        "for i in res:\n",
        "  print(*i)\n"
      ]
    },
    {
      "cell_type": "code",
      "source": [
        "from collections import deque\n",
        "\n",
        "n, m = map(int, input().split())\n",
        "seq = list(map(int, input().split()))\n",
        "\n",
        "seq.sort()\n",
        "\n",
        "tmp = []\n",
        "visit = [False]*n\n",
        "post = []\n",
        "res = []\n",
        "\n",
        "def dfs(tmp,n,m):\n",
        "  if len(tmp) == m:\n",
        "    res.append([seq[tmp[i]] for i in range(m)])\n",
        "\n",
        "  else:\n",
        "    for i in range(n):\n",
        "      if not visit[i]:\n",
        "        visit[i] = True\n",
        "        dfs(tmp + [i], n,m)\n",
        "        visit[i] = False\n",
        "\n",
        "dfs(tmp,n,m)\n",
        "\n",
        "for i in range(len(res)):\n",
        "  if res[i] not in res[:i]:\n",
        "    print(*res[i])\n",
        "\n"
      ],
      "metadata": {
        "colab": {
          "base_uri": "https://localhost:8080/"
        },
        "id": "4Y-uwj2pPYKh",
        "outputId": "263f4f0b-78cb-4bc2-d3b7-109aee6776ae"
      },
      "execution_count": 19,
      "outputs": [
        {
          "output_type": "stream",
          "name": "stdout",
          "text": [
            "4 3\n",
            "9 9 9 1\n",
            "1 9 9\n",
            "9 1 9\n",
            "9 9 1\n",
            "9 9 9\n"
          ]
        }
      ]
    },
    {
      "cell_type": "code",
      "source": [
        "def daq(a,b,c):\n",
        "  if b == 1:\n",
        "    return a%c\n",
        "  elif b%2 == 0:\n",
        "    return (daq(a,b//2,c)**2)%c\n",
        "  else:\n",
        "    return (daq(a,b//2,c)**2*a)%c\n",
        "\n",
        "a,b,c = map(int, input().split())\n",
        "print(daq(a,b,c))"
      ],
      "metadata": {
        "colab": {
          "base_uri": "https://localhost:8080/"
        },
        "id": "k_12PMoGTnR4",
        "outputId": "1add385f-2317-40b2-dbd8-a4aa78d3aaee"
      },
      "execution_count": 31,
      "outputs": [
        {
          "output_type": "stream",
          "name": "stdout",
          "text": [
            "163513164 6513216584 351654135\n",
            "24675156\n"
          ]
        }
      ]
    },
    {
      "cell_type": "code",
      "source": [
        "prior = {\"(\" : 1, \")\":1,\n",
        "         \"*\":2, \"/\":2,\n",
        "         \"+\":3, \"-\":3}\n",
        "\n",
        "stack = []\n",
        "\n",
        "eq = input()\n",
        "for i in eq:\n",
        "  if i in prior:\n",
        "    if i == \")\":\n",
        "      while stack[-1] != \"(\":\n",
        "        print(stack.pop(), end=\"\")\n",
        "      stack.pop()\n",
        "    elif i == \"(\":\n",
        "      stack.append(i)\n",
        "\n",
        "    elif i ==\"+\" or i == \"-\":\n",
        "      while stack and stack[-1] != \"(\" and prior[stack[-1]] >= prior[i]:\n",
        "        print(stack.pop(), end=\"\")\n",
        "      stack.append(i)\n",
        "\n",
        "    elif i==\"*\" or i==\"/\":\n",
        "      while\n",
        "  else:\n",
        "    print(i)"
      ],
      "metadata": {
        "id": "6gJfLbzoTtAT"
      },
      "execution_count": null,
      "outputs": []
    },
    {
      "cell_type": "code",
      "source": [
        "prior = {\"(\" : 1, \")\":1,\n",
        "         \"*\":2, \"/\":2,\n",
        "         \"+\":3, \"-\":3}\n",
        "\n",
        "stack = []\n",
        "\n",
        "eq = input()\n",
        "for i in eq:\n",
        "  if i in prior:\n",
        "    if i == \")\":\n",
        "      while stack[-1] != \"(\":\n",
        "        print(stack.pop(), end=\"\")\n",
        "      stack.pop()\n",
        "    elif i == \"(\":\n",
        "      stack.append(i)\n",
        "\n",
        "    else:\n",
        "      while stack and stack[-1] != \"(\" and prior[stack[-1]] <= prior[i]:\n",
        "        print(stack.pop(), end=\"\")\n",
        "      stack.append(i)\n",
        "\n",
        "  else:\n",
        "    print(i, end=\"\")\n",
        "while stack:\n",
        "  print(stack.pop(), end=\"\")"
      ],
      "metadata": {
        "colab": {
          "base_uri": "https://localhost:8080/"
        },
        "id": "34icr2hzdPrz",
        "outputId": "873d1970-2e39-4922-fc0c-03d6eb0991c2"
      },
      "execution_count": 37,
      "outputs": [
        {
          "output_type": "stream",
          "name": "stdout",
          "text": [
            "(A+(B*C))-(D/E)\n",
            "ABC*+DE/-"
          ]
        }
      ]
    },
    {
      "cell_type": "code",
      "source": [
        "class node:\n",
        "  def __init__(self, key):\n",
        "    self.key = key\n",
        "    self.prev = None\n",
        "    self.next = None\n",
        "\n",
        "class linked_list:\n",
        "  def __init__(self,n):\n",
        "    self.length = n\n",
        "    self.head = None\n",
        "    self.tail = None\n",
        "    for i in range(1,n+1):\n",
        "      self.append(i)\n",
        "    self.tail.next = self.head\n",
        "    self.head.prev = self.tail\n",
        "\n",
        "  def append(self,key):\n",
        "    new_node = node(key)\n",
        "    if self.head == None:\n",
        "      self.head = new_node\n",
        "      self.tail = new_node\n",
        "    else:\n",
        "      self.tail.next = new_node\n",
        "      new_node.prev = self.tail\n",
        "      self.tail = new_node\n",
        "\n",
        "  def delete(self,key):\n",
        "    if self.head == None:\n",
        "      return\n",
        "    else:\n",
        "      curr_node = self.head\n",
        "      while curr_node.key != key:\n",
        "        curr_node = curr_node.next\n",
        "      curr_node.prev.next = curr_node.next\n",
        "      curr_node.next.prev = curr_node.prev\n",
        "      self.length -= 1\n",
        "\n",
        "  def sol(self, k):\n",
        "    curr_node = self.tail\n",
        "    print(\"<\", end = \"\")\n",
        "    for _ in range(self.length-1):\n",
        "      for _ in range(k):\n",
        "        curr_node = curr_node.next\n",
        "      print(curr_node.key, end = \"\")\n",
        "      print(\",\", end = \" \")\n",
        "      self.delete(curr_node.key)\n",
        "    print(curr_node.next.key, end = \"\")\n",
        "    print(\">\", end = \" \")\n",
        "\n",
        "\n",
        "n,k = map(int, input().split())\n",
        "l = linked_list(n)\n",
        "l.sol(k)"
      ],
      "metadata": {
        "colab": {
          "base_uri": "https://localhost:8080/"
        },
        "id": "E846WixkegX9",
        "outputId": "fcb65b7e-f26a-4e9a-9d79-184cd63ad541"
      },
      "execution_count": 43,
      "outputs": [
        {
          "output_type": "stream",
          "name": "stdout",
          "text": [
            "7 1\n",
            "<1, 2, 3, 4, 5, 6, 7> "
          ]
        }
      ]
    },
    {
      "cell_type": "code",
      "source": [
        "\n",
        "n = int(input())\n",
        "card = []\n",
        "for _ in range(n):\n",
        "  card.append(int(input()))\n",
        "\n",
        "card.sort()\n",
        "\n",
        "tmp = card[0]\n",
        "res = 0\n",
        "for i in range(1,n):\n",
        "  tmp += card[i]\n",
        "  res += tmp\n",
        "\n",
        "if n == 1:\n",
        "  print(0)\n",
        "else:\n",
        "  print(res)"
      ],
      "metadata": {
        "colab": {
          "base_uri": "https://localhost:8080/"
        },
        "id": "Ll-DXRz9j1wv",
        "outputId": "f4ed7ac9-6a5b-4f24-dbaa-d6eed178aaa9"
      },
      "execution_count": 53,
      "outputs": [
        {
          "output_type": "stream",
          "name": "stdout",
          "text": [
            "4\n",
            "3\n",
            "3\n",
            "3\n",
            "3\n",
            "27\n"
          ]
        }
      ]
    },
    {
      "cell_type": "code",
      "source": [],
      "metadata": {
        "id": "RYUThH8YmsWm"
      },
      "execution_count": null,
      "outputs": []
    }
  ]
}